{
 "cells": [
  {
   "cell_type": "markdown",
   "metadata": {},
   "source": [
    "## Exploratory Data Analysis\n"
   ]
  },
  {
   "cell_type": "markdown",
   "metadata": {},
   "source": [
    "##### Author: Haleigh Tomlin\n",
    "##### Date: 6/21/2021"
   ]
  },
  {
   "cell_type": "code",
   "execution_count": 1,
   "metadata": {},
   "outputs": [],
   "source": [
    "#start working with the smaller dataset\n",
    "#departments, agencies\n",
    "#look into the project titles? Ask for guidance if needed\n",
    "#focus on agency, department, FY, project start year, budget start year, total cost, subproject cost.  Also, which projects have a keyword list? Broken down by agency?"
   ]
  },
  {
   "cell_type": "markdown",
   "metadata": {},
   "source": [
    "#plotting histogram \n",
    "plt.hist(df['base_price'],rwidth=0.9,alpha=0.3,color='blue',bins=15,edgecolor='red') \n",
    "\n",
    "#x and y-axis labels \n",
    "plt.xlabel('Base price range') \n",
    "plt.ylabel('Distinct order') \n",
    "\n",
    "#plot title \n",
    "plt.title('Inspecting price effect') \n",
    "\n",
    "#save and display the plot \n",
    "plt.savefig('C:\\\\Users\\\\Dell\\\\Desktop\\\\AV Plotting images\\\\matplotlib_plotting_10.png',dpi=300,bbox_inches='tight') \n",
    "plt.show();"
   ]
  },
  {
   "cell_type": "markdown",
   "metadata": {},
   "source": [
    "#pie plot \n",
    "plt.pie([x*100 for x in d_cuisine.values()],labels=[x for x in d_cuisine.keys()],autopct='%0.1f',explode=[0,0,0.1,0]) \n",
    "\n",
    "#label the plot \n",
    "plt.title('Cuisine share %') \n",
    "plt.savefig('C:\\\\Users\\\\Dell\\\\Desktop\\\\AV Plotting images\\\\matplotlib_plotting_8.png',dpi=300,bbox_inches='tight') \n",
    "plt.show();"
   ]
  },
  {
   "cell_type": "markdown",
   "metadata": {},
   "source": [
    "#bar graph\n",
    "plt.bar(table.index,table['num_orders'])\n",
    "\n",
    "#xticks \n",
    "plt.xticks(rotation=70) \n",
    "\n",
    "#x-axis labels \n",
    "plt.xlabel('Food item') \n",
    "\n",
    "#y-axis labels \n",
    "plt.ylabel('Quantity sold') \n",
    "\n",
    "#plot title \n",
    "plt.title('Most popular food') \n",
    "\n",
    "#save plot \n",
    "plt.savefig('C:\\\\Users\\\\Dell\\\\Desktop\\\\AV Plotting images\\\\matplotlib_plotting_6.png',dpi=300,bbox_inches='tight') \n",
    "\n",
    "#display \n",
    "plot plt.show();"
   ]
  },
  {
   "cell_type": "code",
   "execution_count": 1,
   "metadata": {},
   "outputs": [],
   "source": [
    "#loading packages\n",
    "import pandas as pd\n",
    "import pickle\n",
    "import matplotlib.pyplot as plt\n",
    "plt.style.use('seaborn')\n",
    "import numpy as np\n",
    "import seaborn as sb"
   ]
  },
  {
   "cell_type": "code",
   "execution_count": 2,
   "metadata": {},
   "outputs": [],
   "source": [
    "#smaller dataset\n",
    "d = pd.read_pickle(\"../../data/dspg21RnD/smaller-final-dataset.pkl\")"
   ]
  },
  {
   "cell_type": "code",
   "execution_count": 3,
   "metadata": {},
   "outputs": [],
   "source": [
    "d[\"PROJECT_START_YEAR\"] = d[\"PROJECT_START_DATE\"].str[-4:]"
   ]
  },
  {
   "cell_type": "code",
   "execution_count": 4,
   "metadata": {},
   "outputs": [],
   "source": [
    "d[\"PROJECT_START_YEAR\"] = d.PROJECT_START_YEAR.astype(int)"
   ]
  },
  {
   "cell_type": "code",
   "execution_count": 5,
   "metadata": {},
   "outputs": [],
   "source": [
    "d[\"BUDGET_START_YEAR\"] = d[\"BUDGET_START_DATE\"].str[-4:]"
   ]
  },
  {
   "cell_type": "code",
   "execution_count": 6,
   "metadata": {},
   "outputs": [],
   "source": [
    "#d[\"BUDGET_START_YEAR\"] = d.BUDGET_START_YEAR.astype(int)"
   ]
  },
  {
   "cell_type": "code",
   "execution_count": 7,
   "metadata": {},
   "outputs": [],
   "source": [
    "#np.unique(d[\"BUDGET_START_YEAR\"])"
   ]
  },
  {
   "cell_type": "code",
   "execution_count": 8,
   "metadata": {},
   "outputs": [
    {
     "data": {
      "text/html": [
       "<div>\n",
       "<style scoped>\n",
       "    .dataframe tbody tr th:only-of-type {\n",
       "        vertical-align: middle;\n",
       "    }\n",
       "\n",
       "    .dataframe tbody tr th {\n",
       "        vertical-align: top;\n",
       "    }\n",
       "\n",
       "    .dataframe thead th {\n",
       "        text-align: right;\n",
       "    }\n",
       "</style>\n",
       "<table border=\"1\" class=\"dataframe\">\n",
       "  <thead>\n",
       "    <tr style=\"text-align: right;\">\n",
       "      <th></th>\n",
       "      <th>original index</th>\n",
       "      <th>PROJECT_ID</th>\n",
       "      <th>ABSTRACT</th>\n",
       "      <th>FY</th>\n",
       "      <th>PROJECT_TERMS</th>\n",
       "      <th>PROJECT_TITLE</th>\n",
       "      <th>DEPARTMENT</th>\n",
       "      <th>AGENCY</th>\n",
       "      <th>IC_CENTER</th>\n",
       "      <th>PROJECT_NUMBER</th>\n",
       "      <th>...</th>\n",
       "      <th>CFDA_CODE</th>\n",
       "      <th>FY.y</th>\n",
       "      <th>FY_TOTAL_COST</th>\n",
       "      <th>FY_TOTAL_COST_SUB_PROJECTS</th>\n",
       "      <th>ORG_COUNT</th>\n",
       "      <th>PI_COUNT</th>\n",
       "      <th>nchar</th>\n",
       "      <th>final_frqwds_removed</th>\n",
       "      <th>PROJECT_START_YEAR</th>\n",
       "      <th>BUDGET_START_YEAR</th>\n",
       "    </tr>\n",
       "  </thead>\n",
       "  <tbody>\n",
       "    <tr>\n",
       "      <th>0</th>\n",
       "      <td>17608</td>\n",
       "      <td>152242</td>\n",
       "      <td>The multiprotein complex y-secretase proteolyt...</td>\n",
       "      <td>2008</td>\n",
       "      <td>Active Sites; Affect; Alzheimer's Disease; Amy...</td>\n",
       "      <td>STRUCTURE OF SIGNAL PEPTIDE PEPTIDASE</td>\n",
       "      <td>HHS</td>\n",
       "      <td>NIH</td>\n",
       "      <td>NaN</td>\n",
       "      <td>5F32AG027647-03</td>\n",
       "      <td>...</td>\n",
       "      <td>93.866</td>\n",
       "      <td>2008</td>\n",
       "      <td>3483.0</td>\n",
       "      <td>NaN</td>\n",
       "      <td>1</td>\n",
       "      <td>1</td>\n",
       "      <td>1402</td>\n",
       "      <td>[multiprotein, y_secretase, proteolytically_cl...</td>\n",
       "      <td>2005</td>\n",
       "      <td>NaN</td>\n",
       "    </tr>\n",
       "    <tr>\n",
       "      <th>1</th>\n",
       "      <td>111864</td>\n",
       "      <td>190316</td>\n",
       "      <td>DESCRIPTION (provided by applicant):   The Kis...</td>\n",
       "      <td>2008</td>\n",
       "      <td>Affect; Animal Model; Axon; Behavior; Behavior...</td>\n",
       "      <td>ROLE OF KISS1 NEURONS IN THE SEASONAL AND CIRC...</td>\n",
       "      <td>HHS</td>\n",
       "      <td>NIH</td>\n",
       "      <td>NaN</td>\n",
       "      <td>5K99HD056157-02</td>\n",
       "      <td>...</td>\n",
       "      <td>93.865</td>\n",
       "      <td>2008</td>\n",
       "      <td>39175.0</td>\n",
       "      <td>NaN</td>\n",
       "      <td>1</td>\n",
       "      <td>1</td>\n",
       "      <td>2553</td>\n",
       "      <td>[kissl, gene, encode, peptide, kisspeptin, bin...</td>\n",
       "      <td>2007</td>\n",
       "      <td>NaN</td>\n",
       "    </tr>\n",
       "    <tr>\n",
       "      <th>2</th>\n",
       "      <td>22052</td>\n",
       "      <td>154213</td>\n",
       "      <td>DESCRIPTION (provided by applicant): The objec...</td>\n",
       "      <td>2008</td>\n",
       "      <td>Agreement; Antibodies; base; Binding; Biochemi...</td>\n",
       "      <td>CARBONIC ANHYDRASE AS A MODEL TO UNDERSTAND DI...</td>\n",
       "      <td>HHS</td>\n",
       "      <td>NIH</td>\n",
       "      <td>NaN</td>\n",
       "      <td>5F32GM076971-02</td>\n",
       "      <td>...</td>\n",
       "      <td>93.859</td>\n",
       "      <td>2008</td>\n",
       "      <td>49646.0</td>\n",
       "      <td>NaN</td>\n",
       "      <td>1</td>\n",
       "      <td>1</td>\n",
       "      <td>1414</td>\n",
       "      <td>[biophysical, basis, thermodynamics_kinetic, m...</td>\n",
       "      <td>2007</td>\n",
       "      <td>NaN</td>\n",
       "    </tr>\n",
       "    <tr>\n",
       "      <th>3</th>\n",
       "      <td>35004</td>\n",
       "      <td>159362</td>\n",
       "      <td>Obesity is the cause of many adverse pregnancy...</td>\n",
       "      <td>2008</td>\n",
       "      <td>African; Analysis of Variance; Asians; Birth; ...</td>\n",
       "      <td>OBESITY ON VAGAL TONE AND HBA1C DURING PREGNANCY</td>\n",
       "      <td>HHS</td>\n",
       "      <td>NIH</td>\n",
       "      <td>NaN</td>\n",
       "      <td>5F31NR009611-03</td>\n",
       "      <td>...</td>\n",
       "      <td>93.361</td>\n",
       "      <td>2008</td>\n",
       "      <td>20406.0</td>\n",
       "      <td>NaN</td>\n",
       "      <td>1</td>\n",
       "      <td>1</td>\n",
       "      <td>1545</td>\n",
       "      <td>[obesity, adverse_pregnancyoutcome, great, hea...</td>\n",
       "      <td>2006</td>\n",
       "      <td>NaN</td>\n",
       "    </tr>\n",
       "    <tr>\n",
       "      <th>4</th>\n",
       "      <td>371628</td>\n",
       "      <td>594482</td>\n",
       "      <td>Local potato advisory groups have expressed in...</td>\n",
       "      <td>2010</td>\n",
       "      <td>cost; Health; interest; Manure; Parasitic nema...</td>\n",
       "      <td>PLANT-PARASITIC NEMATODE MANAGEMENT AS A COMPO...</td>\n",
       "      <td>USDA</td>\n",
       "      <td>NIFA</td>\n",
       "      <td>NaN</td>\n",
       "      <td>0219605</td>\n",
       "      <td>...</td>\n",
       "      <td>10.203</td>\n",
       "      <td>2010</td>\n",
       "      <td>NaN</td>\n",
       "      <td>NaN</td>\n",
       "      <td>1</td>\n",
       "      <td>1</td>\n",
       "      <td>271</td>\n",
       "      <td>[local, potato, advisory, express, interest, m...</td>\n",
       "      <td>2009</td>\n",
       "      <td>NaN</td>\n",
       "    </tr>\n",
       "  </tbody>\n",
       "</table>\n",
       "<p>5 rows × 33 columns</p>\n",
       "</div>"
      ],
      "text/plain": [
       "   original index PROJECT_ID  \\\n",
       "0           17608     152242   \n",
       "1          111864     190316   \n",
       "2           22052     154213   \n",
       "3           35004     159362   \n",
       "4          371628     594482   \n",
       "\n",
       "                                            ABSTRACT    FY  \\\n",
       "0  The multiprotein complex y-secretase proteolyt...  2008   \n",
       "1  DESCRIPTION (provided by applicant):   The Kis...  2008   \n",
       "2  DESCRIPTION (provided by applicant): The objec...  2008   \n",
       "3  Obesity is the cause of many adverse pregnancy...  2008   \n",
       "4  Local potato advisory groups have expressed in...  2010   \n",
       "\n",
       "                                       PROJECT_TERMS  \\\n",
       "0  Active Sites; Affect; Alzheimer's Disease; Amy...   \n",
       "1  Affect; Animal Model; Axon; Behavior; Behavior...   \n",
       "2  Agreement; Antibodies; base; Binding; Biochemi...   \n",
       "3  African; Analysis of Variance; Asians; Birth; ...   \n",
       "4  cost; Health; interest; Manure; Parasitic nema...   \n",
       "\n",
       "                                       PROJECT_TITLE DEPARTMENT AGENCY  \\\n",
       "0              STRUCTURE OF SIGNAL PEPTIDE PEPTIDASE        HHS    NIH   \n",
       "1  ROLE OF KISS1 NEURONS IN THE SEASONAL AND CIRC...        HHS    NIH   \n",
       "2  CARBONIC ANHYDRASE AS A MODEL TO UNDERSTAND DI...        HHS    NIH   \n",
       "3   OBESITY ON VAGAL TONE AND HBA1C DURING PREGNANCY        HHS    NIH   \n",
       "4  PLANT-PARASITIC NEMATODE MANAGEMENT AS A COMPO...       USDA   NIFA   \n",
       "\n",
       "  IC_CENTER   PROJECT_NUMBER  ... CFDA_CODE  FY.y FY_TOTAL_COST  \\\n",
       "0       NaN  5F32AG027647-03  ...    93.866  2008        3483.0   \n",
       "1       NaN  5K99HD056157-02  ...    93.865  2008       39175.0   \n",
       "2       NaN  5F32GM076971-02  ...    93.859  2008       49646.0   \n",
       "3       NaN  5F31NR009611-03  ...    93.361  2008       20406.0   \n",
       "4       NaN          0219605  ...    10.203  2010           NaN   \n",
       "\n",
       "  FY_TOTAL_COST_SUB_PROJECTS ORG_COUNT PI_COUNT nchar  \\\n",
       "0                        NaN         1        1  1402   \n",
       "1                        NaN         1        1  2553   \n",
       "2                        NaN         1        1  1414   \n",
       "3                        NaN         1        1  1545   \n",
       "4                        NaN         1        1   271   \n",
       "\n",
       "                                final_frqwds_removed PROJECT_START_YEAR  \\\n",
       "0  [multiprotein, y_secretase, proteolytically_cl...               2005   \n",
       "1  [kissl, gene, encode, peptide, kisspeptin, bin...               2007   \n",
       "2  [biophysical, basis, thermodynamics_kinetic, m...               2007   \n",
       "3  [obesity, adverse_pregnancyoutcome, great, hea...               2006   \n",
       "4  [local, potato, advisory, express, interest, m...               2009   \n",
       "\n",
       "  BUDGET_START_YEAR  \n",
       "0               NaN  \n",
       "1               NaN  \n",
       "2               NaN  \n",
       "3               NaN  \n",
       "4               NaN  \n",
       "\n",
       "[5 rows x 33 columns]"
      ]
     },
     "execution_count": 8,
     "metadata": {},
     "output_type": "execute_result"
    }
   ],
   "source": [
    "d.head()"
   ]
  },
  {
   "cell_type": "code",
   "execution_count": null,
   "metadata": {},
   "outputs": [],
   "source": []
  },
  {
   "cell_type": "markdown",
   "metadata": {},
   "source": [
    "### potentials for EDA:\n",
    "\n",
    "#what is the avg total cost within the departments/agencies?\n",
    "#when did most of these projects occur?\n",
    "#what do IC_Center, ORG_Count, PI_count mean?"
   ]
  },
  {
   "cell_type": "markdown",
   "metadata": {},
   "source": [
    "visualization of total cost"
   ]
  },
  {
   "cell_type": "markdown",
   "metadata": {},
   "source": [
    "Below, are the unique department and agency names."
   ]
  },
  {
   "cell_type": "code",
   "execution_count": 9,
   "metadata": {},
   "outputs": [
    {
     "data": {
      "text/plain": [
       "array(['DOD', 'ED', 'EPA', 'HHS', 'NASA', 'NSF', 'USDA', 'VA'],\n",
       "      dtype=object)"
      ]
     },
     "execution_count": 9,
     "metadata": {},
     "output_type": "execute_result"
    }
   ],
   "source": [
    "np.unique(d[\"DEPARTMENT\"])"
   ]
  },
  {
   "cell_type": "code",
   "execution_count": 10,
   "metadata": {},
   "outputs": [
    {
     "data": {
      "text/plain": [
       "array(['ACF', 'AHRQ', 'ALLCDC', 'ARS', 'CCCRP', 'CDMRP', 'CNRM', 'DVBIC',\n",
       "       'EPA', 'FDA', 'FS', 'IES', 'NASA', 'NIDILRR', 'NIFA', 'NIH', 'NSF',\n",
       "       'VA'], dtype=object)"
      ]
     },
     "execution_count": 10,
     "metadata": {},
     "output_type": "execute_result"
    }
   ],
   "source": [
    "np.unique(d[\"AGENCY\"])"
   ]
  },
  {
   "cell_type": "markdown",
   "metadata": {},
   "source": [
    "Now, within each agency and department, I show the averages of the other variables. Specifically, we want to pay attention to the total cost,\n",
    "cost of the sub-projects, and the project start year."
   ]
  },
  {
   "cell_type": "code",
   "execution_count": 11,
   "metadata": {},
   "outputs": [
    {
     "data": {
      "text/html": [
       "<div>\n",
       "<style scoped>\n",
       "    .dataframe tbody tr th:only-of-type {\n",
       "        vertical-align: middle;\n",
       "    }\n",
       "\n",
       "    .dataframe tbody tr th {\n",
       "        vertical-align: top;\n",
       "    }\n",
       "\n",
       "    .dataframe thead th {\n",
       "        text-align: right;\n",
       "    }\n",
       "</style>\n",
       "<table border=\"1\" class=\"dataframe\">\n",
       "  <thead>\n",
       "    <tr style=\"text-align: right;\">\n",
       "      <th></th>\n",
       "      <th>original index</th>\n",
       "      <th>FY_TOTAL_COST</th>\n",
       "      <th>FY_TOTAL_COST_SUB_PROJECTS</th>\n",
       "      <th>ORG_COUNT</th>\n",
       "      <th>PI_COUNT</th>\n",
       "      <th>nchar</th>\n",
       "      <th>PROJECT_START_YEAR</th>\n",
       "    </tr>\n",
       "    <tr>\n",
       "      <th>AGENCY</th>\n",
       "      <th></th>\n",
       "      <th></th>\n",
       "      <th></th>\n",
       "      <th></th>\n",
       "      <th></th>\n",
       "      <th></th>\n",
       "      <th></th>\n",
       "    </tr>\n",
       "  </thead>\n",
       "  <tbody>\n",
       "    <tr>\n",
       "      <th>ACF</th>\n",
       "      <td>853257.848057</td>\n",
       "      <td>7.067602e+05</td>\n",
       "      <td>NaN</td>\n",
       "      <td>1.000000</td>\n",
       "      <td>1.000000</td>\n",
       "      <td>1485.003534</td>\n",
       "      <td>2014.869258</td>\n",
       "    </tr>\n",
       "    <tr>\n",
       "      <th>AHRQ</th>\n",
       "      <td>601049.386637</td>\n",
       "      <td>2.126629e+05</td>\n",
       "      <td>NaN</td>\n",
       "      <td>1.030303</td>\n",
       "      <td>1.024096</td>\n",
       "      <td>2785.456371</td>\n",
       "      <td>2012.204819</td>\n",
       "    </tr>\n",
       "    <tr>\n",
       "      <th>ALLCDC</th>\n",
       "      <td>540815.652510</td>\n",
       "      <td>4.907351e+05</td>\n",
       "      <td>NaN</td>\n",
       "      <td>1.012548</td>\n",
       "      <td>1.079472</td>\n",
       "      <td>2604.171493</td>\n",
       "      <td>2011.165701</td>\n",
       "    </tr>\n",
       "    <tr>\n",
       "      <th>ARS</th>\n",
       "      <td>836016.502278</td>\n",
       "      <td>1.440187e+06</td>\n",
       "      <td>NaN</td>\n",
       "      <td>0.738987</td>\n",
       "      <td>0.989873</td>\n",
       "      <td>2061.058228</td>\n",
       "      <td>2013.519494</td>\n",
       "    </tr>\n",
       "    <tr>\n",
       "      <th>CCCRP</th>\n",
       "      <td>739925.181818</td>\n",
       "      <td>4.435069e+06</td>\n",
       "      <td>NaN</td>\n",
       "      <td>1.000000</td>\n",
       "      <td>1.000000</td>\n",
       "      <td>1450.227273</td>\n",
       "      <td>2013.727273</td>\n",
       "    </tr>\n",
       "    <tr>\n",
       "      <th>CDMRP</th>\n",
       "      <td>655746.114974</td>\n",
       "      <td>8.620356e+05</td>\n",
       "      <td>NaN</td>\n",
       "      <td>1.052153</td>\n",
       "      <td>1.098512</td>\n",
       "      <td>4138.222705</td>\n",
       "      <td>2014.163703</td>\n",
       "    </tr>\n",
       "    <tr>\n",
       "      <th>CNRM</th>\n",
       "      <td>409094.503817</td>\n",
       "      <td>4.582450e+05</td>\n",
       "      <td>NaN</td>\n",
       "      <td>1.000000</td>\n",
       "      <td>1.000000</td>\n",
       "      <td>2950.564885</td>\n",
       "      <td>2011.641221</td>\n",
       "    </tr>\n",
       "    <tr>\n",
       "      <th>DVBIC</th>\n",
       "      <td>462909.191919</td>\n",
       "      <td>NaN</td>\n",
       "      <td>NaN</td>\n",
       "      <td>1.000000</td>\n",
       "      <td>1.000000</td>\n",
       "      <td>920.404040</td>\n",
       "      <td>2010.434343</td>\n",
       "    </tr>\n",
       "    <tr>\n",
       "      <th>EPA</th>\n",
       "      <td>498730.895455</td>\n",
       "      <td>4.647089e+05</td>\n",
       "      <td>NaN</td>\n",
       "      <td>1.000000</td>\n",
       "      <td>1.000000</td>\n",
       "      <td>1248.385714</td>\n",
       "      <td>2011.661688</td>\n",
       "    </tr>\n",
       "    <tr>\n",
       "      <th>FDA</th>\n",
       "      <td>735609.322850</td>\n",
       "      <td>2.972711e+05</td>\n",
       "      <td>NaN</td>\n",
       "      <td>1.021181</td>\n",
       "      <td>1.154685</td>\n",
       "      <td>2154.322208</td>\n",
       "      <td>2014.084082</td>\n",
       "    </tr>\n",
       "    <tr>\n",
       "      <th>FS</th>\n",
       "      <td>547765.907216</td>\n",
       "      <td>1.093250e+06</td>\n",
       "      <td>NaN</td>\n",
       "      <td>1.000000</td>\n",
       "      <td>1.000000</td>\n",
       "      <td>2867.000000</td>\n",
       "      <td>2009.458763</td>\n",
       "    </tr>\n",
       "    <tr>\n",
       "      <th>IES</th>\n",
       "      <td>917320.553855</td>\n",
       "      <td>5.025484e+05</td>\n",
       "      <td>NaN</td>\n",
       "      <td>1.010204</td>\n",
       "      <td>1.000000</td>\n",
       "      <td>1809.257937</td>\n",
       "      <td>2015.638322</td>\n",
       "    </tr>\n",
       "    <tr>\n",
       "      <th>NASA</th>\n",
       "      <td>446629.285727</td>\n",
       "      <td>2.544195e+05</td>\n",
       "      <td>NaN</td>\n",
       "      <td>1.001014</td>\n",
       "      <td>1.001935</td>\n",
       "      <td>339.732332</td>\n",
       "      <td>2011.592463</td>\n",
       "    </tr>\n",
       "    <tr>\n",
       "      <th>NIDILRR</th>\n",
       "      <td>617530.966667</td>\n",
       "      <td>1.172324e+06</td>\n",
       "      <td>NaN</td>\n",
       "      <td>0.981481</td>\n",
       "      <td>1.000000</td>\n",
       "      <td>1416.220988</td>\n",
       "      <td>2012.798765</td>\n",
       "    </tr>\n",
       "    <tr>\n",
       "      <th>NIFA</th>\n",
       "      <td>525608.684995</td>\n",
       "      <td>4.788149e+05</td>\n",
       "      <td>NaN</td>\n",
       "      <td>1.000000</td>\n",
       "      <td>1.001249</td>\n",
       "      <td>1694.221229</td>\n",
       "      <td>2011.442185</td>\n",
       "    </tr>\n",
       "    <tr>\n",
       "      <th>NIH</th>\n",
       "      <td>566813.027272</td>\n",
       "      <td>4.898744e+05</td>\n",
       "      <td>297573.30651</td>\n",
       "      <td>1.022287</td>\n",
       "      <td>1.015685</td>\n",
       "      <td>2509.788084</td>\n",
       "      <td>2010.701555</td>\n",
       "    </tr>\n",
       "    <tr>\n",
       "      <th>NSF</th>\n",
       "      <td>572607.098498</td>\n",
       "      <td>3.493345e+05</td>\n",
       "      <td>NaN</td>\n",
       "      <td>1.113582</td>\n",
       "      <td>1.112161</td>\n",
       "      <td>2365.800440</td>\n",
       "      <td>2012.849669</td>\n",
       "    </tr>\n",
       "    <tr>\n",
       "      <th>VA</th>\n",
       "      <td>733560.005969</td>\n",
       "      <td>NaN</td>\n",
       "      <td>NaN</td>\n",
       "      <td>1.019895</td>\n",
       "      <td>1.013384</td>\n",
       "      <td>3347.116658</td>\n",
       "      <td>2013.268765</td>\n",
       "    </tr>\n",
       "  </tbody>\n",
       "</table>\n",
       "</div>"
      ],
      "text/plain": [
       "         original index  FY_TOTAL_COST  FY_TOTAL_COST_SUB_PROJECTS  ORG_COUNT  \\\n",
       "AGENCY                                                                          \n",
       "ACF       853257.848057   7.067602e+05                         NaN   1.000000   \n",
       "AHRQ      601049.386637   2.126629e+05                         NaN   1.030303   \n",
       "ALLCDC    540815.652510   4.907351e+05                         NaN   1.012548   \n",
       "ARS       836016.502278   1.440187e+06                         NaN   0.738987   \n",
       "CCCRP     739925.181818   4.435069e+06                         NaN   1.000000   \n",
       "CDMRP     655746.114974   8.620356e+05                         NaN   1.052153   \n",
       "CNRM      409094.503817   4.582450e+05                         NaN   1.000000   \n",
       "DVBIC     462909.191919            NaN                         NaN   1.000000   \n",
       "EPA       498730.895455   4.647089e+05                         NaN   1.000000   \n",
       "FDA       735609.322850   2.972711e+05                         NaN   1.021181   \n",
       "FS        547765.907216   1.093250e+06                         NaN   1.000000   \n",
       "IES       917320.553855   5.025484e+05                         NaN   1.010204   \n",
       "NASA      446629.285727   2.544195e+05                         NaN   1.001014   \n",
       "NIDILRR   617530.966667   1.172324e+06                         NaN   0.981481   \n",
       "NIFA      525608.684995   4.788149e+05                         NaN   1.000000   \n",
       "NIH       566813.027272   4.898744e+05                297573.30651   1.022287   \n",
       "NSF       572607.098498   3.493345e+05                         NaN   1.113582   \n",
       "VA        733560.005969            NaN                         NaN   1.019895   \n",
       "\n",
       "         PI_COUNT        nchar  PROJECT_START_YEAR  \n",
       "AGENCY                                              \n",
       "ACF      1.000000  1485.003534         2014.869258  \n",
       "AHRQ     1.024096  2785.456371         2012.204819  \n",
       "ALLCDC   1.079472  2604.171493         2011.165701  \n",
       "ARS      0.989873  2061.058228         2013.519494  \n",
       "CCCRP    1.000000  1450.227273         2013.727273  \n",
       "CDMRP    1.098512  4138.222705         2014.163703  \n",
       "CNRM     1.000000  2950.564885         2011.641221  \n",
       "DVBIC    1.000000   920.404040         2010.434343  \n",
       "EPA      1.000000  1248.385714         2011.661688  \n",
       "FDA      1.154685  2154.322208         2014.084082  \n",
       "FS       1.000000  2867.000000         2009.458763  \n",
       "IES      1.000000  1809.257937         2015.638322  \n",
       "NASA     1.001935   339.732332         2011.592463  \n",
       "NIDILRR  1.000000  1416.220988         2012.798765  \n",
       "NIFA     1.001249  1694.221229         2011.442185  \n",
       "NIH      1.015685  2509.788084         2010.701555  \n",
       "NSF      1.112161  2365.800440         2012.849669  \n",
       "VA       1.013384  3347.116658         2013.268765  "
      ]
     },
     "execution_count": 11,
     "metadata": {},
     "output_type": "execute_result"
    }
   ],
   "source": [
    "d.groupby(\"AGENCY\").mean()"
   ]
  },
  {
   "cell_type": "code",
   "execution_count": 12,
   "metadata": {},
   "outputs": [
    {
     "data": {
      "text/html": [
       "<div>\n",
       "<style scoped>\n",
       "    .dataframe tbody tr th:only-of-type {\n",
       "        vertical-align: middle;\n",
       "    }\n",
       "\n",
       "    .dataframe tbody tr th {\n",
       "        vertical-align: top;\n",
       "    }\n",
       "\n",
       "    .dataframe thead th {\n",
       "        text-align: right;\n",
       "    }\n",
       "</style>\n",
       "<table border=\"1\" class=\"dataframe\">\n",
       "  <thead>\n",
       "    <tr style=\"text-align: right;\">\n",
       "      <th></th>\n",
       "      <th>original index</th>\n",
       "      <th>FY_TOTAL_COST</th>\n",
       "      <th>FY_TOTAL_COST_SUB_PROJECTS</th>\n",
       "      <th>ORG_COUNT</th>\n",
       "      <th>PI_COUNT</th>\n",
       "      <th>nchar</th>\n",
       "      <th>PROJECT_START_YEAR</th>\n",
       "    </tr>\n",
       "    <tr>\n",
       "      <th>DEPARTMENT</th>\n",
       "      <th></th>\n",
       "      <th></th>\n",
       "      <th></th>\n",
       "      <th></th>\n",
       "      <th></th>\n",
       "      <th></th>\n",
       "      <th></th>\n",
       "    </tr>\n",
       "  </thead>\n",
       "  <tbody>\n",
       "    <tr>\n",
       "      <th>DOD</th>\n",
       "      <td>649429.954748</td>\n",
       "      <td>862203.117588</td>\n",
       "      <td>NaN</td>\n",
       "      <td>1.050478</td>\n",
       "      <td>1.095347</td>\n",
       "      <td>4070.245252</td>\n",
       "      <td>2014.073295</td>\n",
       "    </tr>\n",
       "    <tr>\n",
       "      <th>ED</th>\n",
       "      <td>917320.553855</td>\n",
       "      <td>502548.429792</td>\n",
       "      <td>NaN</td>\n",
       "      <td>1.010204</td>\n",
       "      <td>1.000000</td>\n",
       "      <td>1809.257937</td>\n",
       "      <td>2015.638322</td>\n",
       "    </tr>\n",
       "    <tr>\n",
       "      <th>EPA</th>\n",
       "      <td>498730.895455</td>\n",
       "      <td>464708.870697</td>\n",
       "      <td>NaN</td>\n",
       "      <td>1.000000</td>\n",
       "      <td>1.000000</td>\n",
       "      <td>1248.385714</td>\n",
       "      <td>2011.661688</td>\n",
       "    </tr>\n",
       "    <tr>\n",
       "      <th>HHS</th>\n",
       "      <td>567590.883276</td>\n",
       "      <td>490633.598561</td>\n",
       "      <td>297573.30651</td>\n",
       "      <td>1.022190</td>\n",
       "      <td>1.016507</td>\n",
       "      <td>2508.457045</td>\n",
       "      <td>2010.728339</td>\n",
       "    </tr>\n",
       "    <tr>\n",
       "      <th>NASA</th>\n",
       "      <td>446629.285727</td>\n",
       "      <td>254419.485095</td>\n",
       "      <td>NaN</td>\n",
       "      <td>1.001014</td>\n",
       "      <td>1.001935</td>\n",
       "      <td>339.732332</td>\n",
       "      <td>2011.592463</td>\n",
       "    </tr>\n",
       "    <tr>\n",
       "      <th>NSF</th>\n",
       "      <td>572607.098498</td>\n",
       "      <td>349334.521462</td>\n",
       "      <td>NaN</td>\n",
       "      <td>1.113582</td>\n",
       "      <td>1.112161</td>\n",
       "      <td>2365.800440</td>\n",
       "      <td>2012.849669</td>\n",
       "    </tr>\n",
       "    <tr>\n",
       "      <th>USDA</th>\n",
       "      <td>566940.586617</td>\n",
       "      <td>684804.474285</td>\n",
       "      <td>NaN</td>\n",
       "      <td>0.965367</td>\n",
       "      <td>0.999731</td>\n",
       "      <td>1750.539051</td>\n",
       "      <td>2011.704894</td>\n",
       "    </tr>\n",
       "    <tr>\n",
       "      <th>VA</th>\n",
       "      <td>733560.005969</td>\n",
       "      <td>NaN</td>\n",
       "      <td>NaN</td>\n",
       "      <td>1.019895</td>\n",
       "      <td>1.013384</td>\n",
       "      <td>3347.116658</td>\n",
       "      <td>2013.268765</td>\n",
       "    </tr>\n",
       "  </tbody>\n",
       "</table>\n",
       "</div>"
      ],
      "text/plain": [
       "            original index  FY_TOTAL_COST  FY_TOTAL_COST_SUB_PROJECTS  \\\n",
       "DEPARTMENT                                                              \n",
       "DOD          649429.954748  862203.117588                         NaN   \n",
       "ED           917320.553855  502548.429792                         NaN   \n",
       "EPA          498730.895455  464708.870697                         NaN   \n",
       "HHS          567590.883276  490633.598561                297573.30651   \n",
       "NASA         446629.285727  254419.485095                         NaN   \n",
       "NSF          572607.098498  349334.521462                         NaN   \n",
       "USDA         566940.586617  684804.474285                         NaN   \n",
       "VA           733560.005969            NaN                         NaN   \n",
       "\n",
       "            ORG_COUNT  PI_COUNT        nchar  PROJECT_START_YEAR  \n",
       "DEPARTMENT                                                        \n",
       "DOD          1.050478  1.095347  4070.245252         2014.073295  \n",
       "ED           1.010204  1.000000  1809.257937         2015.638322  \n",
       "EPA          1.000000  1.000000  1248.385714         2011.661688  \n",
       "HHS          1.022190  1.016507  2508.457045         2010.728339  \n",
       "NASA         1.001014  1.001935   339.732332         2011.592463  \n",
       "NSF          1.113582  1.112161  2365.800440         2012.849669  \n",
       "USDA         0.965367  0.999731  1750.539051         2011.704894  \n",
       "VA           1.019895  1.013384  3347.116658         2013.268765  "
      ]
     },
     "execution_count": 12,
     "metadata": {},
     "output_type": "execute_result"
    }
   ],
   "source": [
    "d.groupby(\"DEPARTMENT\").mean()"
   ]
  },
  {
   "cell_type": "code",
   "execution_count": 13,
   "metadata": {},
   "outputs": [
    {
     "data": {
      "text/html": [
       "<div>\n",
       "<style scoped>\n",
       "    .dataframe tbody tr th:only-of-type {\n",
       "        vertical-align: middle;\n",
       "    }\n",
       "\n",
       "    .dataframe tbody tr th {\n",
       "        vertical-align: top;\n",
       "    }\n",
       "\n",
       "    .dataframe thead th {\n",
       "        text-align: right;\n",
       "    }\n",
       "</style>\n",
       "<table border=\"1\" class=\"dataframe\">\n",
       "  <thead>\n",
       "    <tr style=\"text-align: right;\">\n",
       "      <th></th>\n",
       "      <th>original index</th>\n",
       "      <th>FY_TOTAL_COST</th>\n",
       "      <th>FY_TOTAL_COST_SUB_PROJECTS</th>\n",
       "      <th>ORG_COUNT</th>\n",
       "      <th>PI_COUNT</th>\n",
       "      <th>nchar</th>\n",
       "      <th>PROJECT_START_YEAR</th>\n",
       "    </tr>\n",
       "    <tr>\n",
       "      <th>FY</th>\n",
       "      <th></th>\n",
       "      <th></th>\n",
       "      <th></th>\n",
       "      <th></th>\n",
       "      <th></th>\n",
       "      <th></th>\n",
       "      <th></th>\n",
       "    </tr>\n",
       "  </thead>\n",
       "  <tbody>\n",
       "    <tr>\n",
       "      <th>2008</th>\n",
       "      <td>1.028416e+05</td>\n",
       "      <td>423918.452992</td>\n",
       "      <td>1.000000</td>\n",
       "      <td>1.025650</td>\n",
       "      <td>1.017847</td>\n",
       "      <td>2098.789039</td>\n",
       "      <td>2006.147423</td>\n",
       "    </tr>\n",
       "    <tr>\n",
       "      <th>2009</th>\n",
       "      <td>2.137766e+05</td>\n",
       "      <td>431464.490479</td>\n",
       "      <td>1.000000</td>\n",
       "      <td>1.031562</td>\n",
       "      <td>1.025514</td>\n",
       "      <td>2264.243499</td>\n",
       "      <td>2007.611521</td>\n",
       "    </tr>\n",
       "    <tr>\n",
       "      <th>2010</th>\n",
       "      <td>2.953528e+05</td>\n",
       "      <td>480739.665816</td>\n",
       "      <td>1.000000</td>\n",
       "      <td>1.036724</td>\n",
       "      <td>1.031922</td>\n",
       "      <td>2352.820741</td>\n",
       "      <td>2008.471584</td>\n",
       "    </tr>\n",
       "    <tr>\n",
       "      <th>2011</th>\n",
       "      <td>3.599038e+05</td>\n",
       "      <td>425483.152243</td>\n",
       "      <td>1.000000</td>\n",
       "      <td>1.036140</td>\n",
       "      <td>1.029870</td>\n",
       "      <td>2475.111554</td>\n",
       "      <td>2009.023442</td>\n",
       "    </tr>\n",
       "    <tr>\n",
       "      <th>2012</th>\n",
       "      <td>4.742546e+05</td>\n",
       "      <td>412370.169179</td>\n",
       "      <td>276732.671808</td>\n",
       "      <td>1.026543</td>\n",
       "      <td>1.024086</td>\n",
       "      <td>2656.806867</td>\n",
       "      <td>2009.253159</td>\n",
       "    </tr>\n",
       "    <tr>\n",
       "      <th>2013</th>\n",
       "      <td>5.546263e+05</td>\n",
       "      <td>413069.835734</td>\n",
       "      <td>1.000000</td>\n",
       "      <td>1.041646</td>\n",
       "      <td>1.035364</td>\n",
       "      <td>2423.135746</td>\n",
       "      <td>2010.807562</td>\n",
       "    </tr>\n",
       "    <tr>\n",
       "      <th>2014</th>\n",
       "      <td>6.749725e+05</td>\n",
       "      <td>1.000000</td>\n",
       "      <td>1.000000</td>\n",
       "      <td>1.043051</td>\n",
       "      <td>1.041137</td>\n",
       "      <td>2414.647348</td>\n",
       "      <td>2012.018556</td>\n",
       "    </tr>\n",
       "    <tr>\n",
       "      <th>2015</th>\n",
       "      <td>7.635357e+05</td>\n",
       "      <td>443802.812706</td>\n",
       "      <td>291808.757222</td>\n",
       "      <td>1.051488</td>\n",
       "      <td>1.042651</td>\n",
       "      <td>2437.565159</td>\n",
       "      <td>2013.337385</td>\n",
       "    </tr>\n",
       "    <tr>\n",
       "      <th>2016</th>\n",
       "      <td>8.453971e+05</td>\n",
       "      <td>477405.951462</td>\n",
       "      <td>294400.533428</td>\n",
       "      <td>1.052611</td>\n",
       "      <td>1.048406</td>\n",
       "      <td>2486.625500</td>\n",
       "      <td>2014.358644</td>\n",
       "    </tr>\n",
       "    <tr>\n",
       "      <th>2017</th>\n",
       "      <td>9.178878e+05</td>\n",
       "      <td>497808.529813</td>\n",
       "      <td>301102.771379</td>\n",
       "      <td>1.051840</td>\n",
       "      <td>1.049980</td>\n",
       "      <td>2560.149264</td>\n",
       "      <td>2015.257461</td>\n",
       "    </tr>\n",
       "    <tr>\n",
       "      <th>2018</th>\n",
       "      <td>1.005773e+06</td>\n",
       "      <td>531411.669073</td>\n",
       "      <td>291492.523182</td>\n",
       "      <td>1.048744</td>\n",
       "      <td>1.047731</td>\n",
       "      <td>2585.315682</td>\n",
       "      <td>2016.488966</td>\n",
       "    </tr>\n",
       "    <tr>\n",
       "      <th>2019</th>\n",
       "      <td>1.046367e+06</td>\n",
       "      <td>586251.646859</td>\n",
       "      <td>328707.925136</td>\n",
       "      <td>0.994884</td>\n",
       "      <td>1.018125</td>\n",
       "      <td>2574.948998</td>\n",
       "      <td>2016.728990</td>\n",
       "    </tr>\n",
       "  </tbody>\n",
       "</table>\n",
       "</div>"
      ],
      "text/plain": [
       "      original index  FY_TOTAL_COST  FY_TOTAL_COST_SUB_PROJECTS  ORG_COUNT  \\\n",
       "FY                                                                           \n",
       "2008    1.028416e+05  423918.452992                    1.000000   1.025650   \n",
       "2009    2.137766e+05  431464.490479                    1.000000   1.031562   \n",
       "2010    2.953528e+05  480739.665816                    1.000000   1.036724   \n",
       "2011    3.599038e+05  425483.152243                    1.000000   1.036140   \n",
       "2012    4.742546e+05  412370.169179               276732.671808   1.026543   \n",
       "2013    5.546263e+05  413069.835734                    1.000000   1.041646   \n",
       "2014    6.749725e+05       1.000000                    1.000000   1.043051   \n",
       "2015    7.635357e+05  443802.812706               291808.757222   1.051488   \n",
       "2016    8.453971e+05  477405.951462               294400.533428   1.052611   \n",
       "2017    9.178878e+05  497808.529813               301102.771379   1.051840   \n",
       "2018    1.005773e+06  531411.669073               291492.523182   1.048744   \n",
       "2019    1.046367e+06  586251.646859               328707.925136   0.994884   \n",
       "\n",
       "      PI_COUNT        nchar  PROJECT_START_YEAR  \n",
       "FY                                               \n",
       "2008  1.017847  2098.789039         2006.147423  \n",
       "2009  1.025514  2264.243499         2007.611521  \n",
       "2010  1.031922  2352.820741         2008.471584  \n",
       "2011  1.029870  2475.111554         2009.023442  \n",
       "2012  1.024086  2656.806867         2009.253159  \n",
       "2013  1.035364  2423.135746         2010.807562  \n",
       "2014  1.041137  2414.647348         2012.018556  \n",
       "2015  1.042651  2437.565159         2013.337385  \n",
       "2016  1.048406  2486.625500         2014.358644  \n",
       "2017  1.049980  2560.149264         2015.257461  \n",
       "2018  1.047731  2585.315682         2016.488966  \n",
       "2019  1.018125  2574.948998         2016.728990  "
      ]
     },
     "execution_count": 13,
     "metadata": {},
     "output_type": "execute_result"
    }
   ],
   "source": [
    "d.groupby(\"FY\").mean()"
   ]
  },
  {
   "cell_type": "markdown",
   "metadata": {},
   "source": [
    "most were started about 2 years before their fiscal year\n"
   ]
  },
  {
   "cell_type": "markdown",
   "metadata": {},
   "source": [
    "Next, I want to see which projects have a keyword list (project_terms), and then break that down between agencies."
   ]
  },
  {
   "cell_type": "code",
   "execution_count": 14,
   "metadata": {},
   "outputs": [
    {
     "data": {
      "text/plain": [
       "1894"
      ]
     },
     "execution_count": 14,
     "metadata": {},
     "output_type": "execute_result"
    }
   ],
   "source": [
    "d[\"PROJECT_TERMS\"].isna().sum()"
   ]
  },
  {
   "cell_type": "code",
   "execution_count": 15,
   "metadata": {},
   "outputs": [
    {
     "data": {
      "text/plain": [
       "AGENCY\n",
       "ACF           0\n",
       "AHRQ          0\n",
       "ALLCDC        0\n",
       "ARS           0\n",
       "CCCRP         0\n",
       "CDMRP         0\n",
       "CNRM          0\n",
       "DVBIC         0\n",
       "EPA           0\n",
       "FDA           0\n",
       "FS            0\n",
       "IES           0\n",
       "NASA          5\n",
       "NIDILRR       0\n",
       "NIFA          0\n",
       "NIH        1889\n",
       "NSF           0\n",
       "VA            0\n",
       "Name: PROJECT_TERMS, dtype: int64"
      ]
     },
     "execution_count": 15,
     "metadata": {},
     "output_type": "execute_result"
    }
   ],
   "source": [
    "d[\"PROJECT_TERMS\"].isna().groupby(d[\"AGENCY\"]).sum()"
   ]
  },
  {
   "cell_type": "markdown",
   "metadata": {},
   "source": [
    "Out of all the projects (in the smaller dataset), only 1,894 don't have the project terms. Almost all of these are within the NIH, actually. 5 are from NASA. I could make this into a bar chart of NA values but that may be a boring one, we should just report on it\n",
    "\n"
   ]
  },
  {
   "cell_type": "code",
   "execution_count": 8,
   "metadata": {},
   "outputs": [
    {
     "ename": "TypeError",
     "evalue": "count() takes 1 positional argument but 2 were given",
     "output_type": "error",
     "traceback": [
      "\u001b[0;31m---------------------------------------------------------------------------\u001b[0m",
      "\u001b[0;31mTypeError\u001b[0m                                 Traceback (most recent call last)",
      "\u001b[0;32m<ipython-input-8-cacdc3fd369a>\u001b[0m in \u001b[0;36m<module>\u001b[0;34m\u001b[0m\n\u001b[0;32m----> 1\u001b[0;31m \u001b[0md\u001b[0m\u001b[0;34m.\u001b[0m\u001b[0mgroupby\u001b[0m\u001b[0;34m(\u001b[0m\u001b[0;34m\"FY\"\u001b[0m\u001b[0;34m)\u001b[0m\u001b[0;34m.\u001b[0m\u001b[0mcount\u001b[0m\u001b[0;34m(\u001b[0m\u001b[0;34m\"originial index\"\u001b[0m\u001b[0;34m)\u001b[0m\u001b[0;34m\u001b[0m\u001b[0;34m\u001b[0m\u001b[0m\n\u001b[0m",
      "\u001b[0;31mTypeError\u001b[0m: count() takes 1 positional argument but 2 were given"
     ]
    }
   ],
   "source": [
    "d.groupby(\"FY\").count()"
   ]
  },
  {
   "cell_type": "code",
   "execution_count": 16,
   "metadata": {},
   "outputs": [],
   "source": [
    "#fig, ax = plt.subplots()\n",
    "#ax.bar(d[\"AGENCY\"], d[\"PROJECT_TERMS\"].isna().groupby(d[\"AGENCY\"]).sum())\n",
    "#ax.set_xlabel(\"Agency\")\n",
    "#ax.set_ylabel(\"Project without keyword lists\")\n",
    "#fig.set_figheight(10)\n",
    "#fig.set_figwidth(15)\n",
    "#plt.show()"
   ]
  },
  {
   "cell_type": "code",
   "execution_count": 17,
   "metadata": {},
   "outputs": [
    {
     "data": {
      "text/plain": [
       "AGENCY\n",
       "ACF           283\n",
       "AHRQ         2739\n",
       "ALLCDC       3108\n",
       "ARS          3950\n",
       "CCCRP          22\n",
       "CDMRP        7593\n",
       "CNRM          131\n",
       "DVBIC          99\n",
       "EPA          1540\n",
       "FDA          1558\n",
       "FS            194\n",
       "IES          1764\n",
       "NASA        10853\n",
       "NIDILRR       810\n",
       "NIFA        25625\n",
       "NIH        503298\n",
       "NSF        121718\n",
       "VA           5529\n",
       "Name: PROJECT_ID, dtype: int64"
      ]
     },
     "execution_count": 17,
     "metadata": {},
     "output_type": "execute_result"
    }
   ],
   "source": [
    "d[\"PROJECT_ID\"].groupby(d[\"AGENCY\"]).count() # I want to see how many there are in NIH"
   ]
  },
  {
   "cell_type": "markdown",
   "metadata": {},
   "source": [
    "so, there are 503,298 in NIH in the smaller dataset.  If only ~2k have missing values, this seems ok.  There are also by far the most abstracts from NIH it seems, so the ones we have less for we have the project terms for all of them."
   ]
  },
  {
   "cell_type": "code",
   "execution_count": 18,
   "metadata": {},
   "outputs": [
    {
     "data": {
      "text/plain": [
       "217197"
      ]
     },
     "execution_count": 18,
     "metadata": {},
     "output_type": "execute_result"
    }
   ],
   "source": [
    "d[\"FY_TOTAL_COST\"].isna().sum()"
   ]
  },
  {
   "cell_type": "code",
   "execution_count": 19,
   "metadata": {},
   "outputs": [
    {
     "data": {
      "text/plain": [
       "AGENCY\n",
       "ACF            35\n",
       "AHRQ         2585\n",
       "ALLCDC        225\n",
       "ARS          1583\n",
       "CCCRP           8\n",
       "CDMRP         780\n",
       "CNRM           10\n",
       "DVBIC          99\n",
       "EPA           349\n",
       "FDA           147\n",
       "FS             19\n",
       "IES           126\n",
       "NASA         1259\n",
       "NIDILRR        63\n",
       "NIFA        16598\n",
       "NIH        177353\n",
       "NSF         10429\n",
       "VA           5529\n",
       "Name: FY_TOTAL_COST, dtype: int64"
      ]
     },
     "execution_count": 19,
     "metadata": {},
     "output_type": "execute_result"
    }
   ],
   "source": [
    "d[\"FY_TOTAL_COST\"].isna().groupby(d[\"AGENCY\"]).sum()"
   ]
  },
  {
   "cell_type": "markdown",
   "metadata": {},
   "source": [
    "Ok so quite a lot more have missing values for the total cost.  Breaking it down by Agency all of them have some NAs, but NIH has the most by far, and again, we have the most abstracts from NIH"
   ]
  },
  {
   "cell_type": "code",
   "execution_count": 20,
   "metadata": {},
   "outputs": [
    {
     "data": {
      "text/plain": [
       "629351"
      ]
     },
     "execution_count": 20,
     "metadata": {},
     "output_type": "execute_result"
    }
   ],
   "source": [
    "d[\"FY_TOTAL_COST_SUB_PROJECTS\"].isna().sum()"
   ]
  },
  {
   "cell_type": "code",
   "execution_count": 21,
   "metadata": {},
   "outputs": [
    {
     "data": {
      "text/plain": [
       "AGENCY\n",
       "ACF           283\n",
       "AHRQ         2739\n",
       "ALLCDC       3108\n",
       "ARS          3950\n",
       "CCCRP          22\n",
       "CDMRP        7593\n",
       "CNRM          131\n",
       "DVBIC          99\n",
       "EPA          1540\n",
       "FDA          1558\n",
       "FS            194\n",
       "IES          1764\n",
       "NASA        10853\n",
       "NIDILRR       810\n",
       "NIFA        25625\n",
       "NIH        441835\n",
       "NSF        121718\n",
       "VA           5529\n",
       "Name: FY_TOTAL_COST_SUB_PROJECTS, dtype: int64"
      ]
     },
     "execution_count": 21,
     "metadata": {},
     "output_type": "execute_result"
    }
   ],
   "source": [
    "d[\"FY_TOTAL_COST_SUB_PROJECTS\"].isna().groupby(d[\"AGENCY\"]).sum()"
   ]
  },
  {
   "cell_type": "code",
   "execution_count": 22,
   "metadata": {},
   "outputs": [
    {
     "name": "stdout",
     "output_type": "stream",
     "text": [
      "<class 'pandas.core.frame.DataFrame'>\n",
      "Int64Index: 690814 entries, 0 to 690854\n",
      "Data columns (total 33 columns):\n",
      " #   Column                      Non-Null Count   Dtype  \n",
      "---  ------                      --------------   -----  \n",
      " 0   original index              690814 non-null  int64  \n",
      " 1   PROJECT_ID                  690814 non-null  object \n",
      " 2   ABSTRACT                    690814 non-null  object \n",
      " 3   FY                          690814 non-null  object \n",
      " 4   PROJECT_TERMS               688920 non-null  object \n",
      " 5   PROJECT_TITLE               690814 non-null  object \n",
      " 6   DEPARTMENT                  690814 non-null  object \n",
      " 7   AGENCY                      690814 non-null  object \n",
      " 8   IC_CENTER                   289225 non-null  object \n",
      " 9   PROJECT_NUMBER              690814 non-null  object \n",
      " 10  PROJECT_START_DATE          690814 non-null  object \n",
      " 11  PROJECT_END_DATE            690814 non-null  object \n",
      " 12  CONTACT_PI_PROJECT_LEADER   690773 non-null  object \n",
      " 13  OTHER_PIS                   94257 non-null   object \n",
      " 14  CONGRESSIONAL_DISTRICT      627466 non-null  object \n",
      " 15  DUNS_NUMBER                 681460 non-null  object \n",
      " 16  ORGANIZATION_NAME           689443 non-null  object \n",
      " 17  ORGANIZATION_CITY           685578 non-null  object \n",
      " 18  ORGANIZATION_STATE          682121 non-null  object \n",
      " 19  ORGANIZATION_ZIP            645421 non-null  object \n",
      " 20  ORGANIZATION_COUNTRY        685782 non-null  object \n",
      " 21  BUDGET_START_DATE           258154 non-null  object \n",
      " 22  BUDGET_END_DATE             258103 non-null  object \n",
      " 23  CFDA_CODE                   520484 non-null  object \n",
      " 24  FY.y                        690803 non-null  object \n",
      " 25  FY_TOTAL_COST               473617 non-null  float64\n",
      " 26  FY_TOTAL_COST_SUB_PROJECTS  61463 non-null   float64\n",
      " 27  ORG_COUNT                   690814 non-null  int64  \n",
      " 28  PI_COUNT                    690814 non-null  int64  \n",
      " 29  nchar                       690814 non-null  int64  \n",
      " 30  final_frqwds_removed        690814 non-null  object \n",
      " 31  PROJECT_START_YEAR          690814 non-null  int64  \n",
      " 32  BUDGET_START_YEAR           258154 non-null  object \n",
      "dtypes: float64(2), int64(5), object(26)\n",
      "memory usage: 195.3+ MB\n"
     ]
    }
   ],
   "source": [
    "d.info()"
   ]
  },
  {
   "cell_type": "markdown",
   "metadata": {},
   "source": [
    "The variables we want to focus on for the time being are agency, department, fiscal year, project start year, budget start year, total cost, subproject cost, and which projects have a keyword list (by agency).  In total, there are 690,814 observations, and all of them have abstract data.  Of those, 688,920 have keyword lists (so, less than 2k don't have keywords). We have fiscal years and project start years for all of our abstracts.  For the total cost of the projects, we only have 473,617 values, which means that we have the cost for almost 70% of our projects. Of those projects which we have a total cost, we have the budget start date for 258,154, just over half of them (54%). We have the cost of 61,463 (9%) of subprojects.  \n"
   ]
  },
  {
   "cell_type": "markdown",
   "metadata": {},
   "source": [
    "Below, I show the distribution of projects in each fiscal year 2008-2019, followed by the distribution of project start years."
   ]
  },
  {
   "cell_type": "code",
   "execution_count": 4,
   "metadata": {},
   "outputs": [
    {
     "ename": "ValueError",
     "evalue": "shape mismatch: objects cannot be broadcast to a single shape",
     "output_type": "error",
     "traceback": [
      "\u001b[0;31m---------------------------------------------------------------------------\u001b[0m",
      "\u001b[0;31mValueError\u001b[0m                                Traceback (most recent call last)",
      "\u001b[0;32m<ipython-input-4-41ef94c15c4b>\u001b[0m in \u001b[0;36m<module>\u001b[0;34m\u001b[0m\n\u001b[1;32m      1\u001b[0m \u001b[0mfig\u001b[0m\u001b[0;34m,\u001b[0m \u001b[0max\u001b[0m \u001b[0;34m=\u001b[0m \u001b[0mplt\u001b[0m\u001b[0;34m.\u001b[0m\u001b[0msubplots\u001b[0m\u001b[0;34m(\u001b[0m\u001b[0;34m)\u001b[0m\u001b[0;34m\u001b[0m\u001b[0;34m\u001b[0m\u001b[0m\n\u001b[0;32m----> 2\u001b[0;31m \u001b[0max\u001b[0m\u001b[0;34m.\u001b[0m\u001b[0mbar\u001b[0m\u001b[0;34m(\u001b[0m\u001b[0md\u001b[0m\u001b[0;34m[\u001b[0m\u001b[0;34m\"FY\"\u001b[0m\u001b[0;34m]\u001b[0m\u001b[0;34m,\u001b[0m \u001b[0md\u001b[0m\u001b[0;34m.\u001b[0m\u001b[0mgroupby\u001b[0m\u001b[0;34m(\u001b[0m\u001b[0;34m\"FY\"\u001b[0m\u001b[0;34m)\u001b[0m\u001b[0;34m.\u001b[0m\u001b[0mcount\u001b[0m\u001b[0;34m(\u001b[0m\u001b[0;34m)\u001b[0m\u001b[0;34m)\u001b[0m\u001b[0;34m\u001b[0m\u001b[0;34m\u001b[0m\u001b[0m\n\u001b[0m\u001b[1;32m      3\u001b[0m \u001b[0max\u001b[0m\u001b[0;34m.\u001b[0m\u001b[0mset_xlabel\u001b[0m\u001b[0;34m(\u001b[0m\u001b[0;34m\"Year\"\u001b[0m\u001b[0;34m)\u001b[0m\u001b[0;34m\u001b[0m\u001b[0;34m\u001b[0m\u001b[0m\n\u001b[1;32m      4\u001b[0m \u001b[0max\u001b[0m\u001b[0;34m.\u001b[0m\u001b[0mset_ylabel\u001b[0m\u001b[0;34m(\u001b[0m\u001b[0;34m\"# projects\"\u001b[0m\u001b[0;34m)\u001b[0m\u001b[0;34m\u001b[0m\u001b[0;34m\u001b[0m\u001b[0m\n\u001b[1;32m      5\u001b[0m \u001b[0mplt\u001b[0m\u001b[0;34m.\u001b[0m\u001b[0mshow\u001b[0m\u001b[0;34m(\u001b[0m\u001b[0;34m)\u001b[0m\u001b[0;34m\u001b[0m\u001b[0;34m\u001b[0m\u001b[0m\n",
      "\u001b[0;32m~/.conda/envs/HT_Bert/lib/python3.8/site-packages/matplotlib/__init__.py\u001b[0m in \u001b[0;36minner\u001b[0;34m(ax, data, *args, **kwargs)\u001b[0m\n\u001b[1;32m   1359\u001b[0m     \u001b[0;32mdef\u001b[0m \u001b[0minner\u001b[0m\u001b[0;34m(\u001b[0m\u001b[0max\u001b[0m\u001b[0;34m,\u001b[0m \u001b[0;34m*\u001b[0m\u001b[0margs\u001b[0m\u001b[0;34m,\u001b[0m \u001b[0mdata\u001b[0m\u001b[0;34m=\u001b[0m\u001b[0;32mNone\u001b[0m\u001b[0;34m,\u001b[0m \u001b[0;34m**\u001b[0m\u001b[0mkwargs\u001b[0m\u001b[0;34m)\u001b[0m\u001b[0;34m:\u001b[0m\u001b[0;34m\u001b[0m\u001b[0;34m\u001b[0m\u001b[0m\n\u001b[1;32m   1360\u001b[0m         \u001b[0;32mif\u001b[0m \u001b[0mdata\u001b[0m \u001b[0;32mis\u001b[0m \u001b[0;32mNone\u001b[0m\u001b[0;34m:\u001b[0m\u001b[0;34m\u001b[0m\u001b[0;34m\u001b[0m\u001b[0m\n\u001b[0;32m-> 1361\u001b[0;31m             \u001b[0;32mreturn\u001b[0m \u001b[0mfunc\u001b[0m\u001b[0;34m(\u001b[0m\u001b[0max\u001b[0m\u001b[0;34m,\u001b[0m \u001b[0;34m*\u001b[0m\u001b[0mmap\u001b[0m\u001b[0;34m(\u001b[0m\u001b[0msanitize_sequence\u001b[0m\u001b[0;34m,\u001b[0m \u001b[0margs\u001b[0m\u001b[0;34m)\u001b[0m\u001b[0;34m,\u001b[0m \u001b[0;34m**\u001b[0m\u001b[0mkwargs\u001b[0m\u001b[0;34m)\u001b[0m\u001b[0;34m\u001b[0m\u001b[0;34m\u001b[0m\u001b[0m\n\u001b[0m\u001b[1;32m   1362\u001b[0m \u001b[0;34m\u001b[0m\u001b[0m\n\u001b[1;32m   1363\u001b[0m         \u001b[0mbound\u001b[0m \u001b[0;34m=\u001b[0m \u001b[0mnew_sig\u001b[0m\u001b[0;34m.\u001b[0m\u001b[0mbind\u001b[0m\u001b[0;34m(\u001b[0m\u001b[0max\u001b[0m\u001b[0;34m,\u001b[0m \u001b[0;34m*\u001b[0m\u001b[0margs\u001b[0m\u001b[0;34m,\u001b[0m \u001b[0;34m**\u001b[0m\u001b[0mkwargs\u001b[0m\u001b[0;34m)\u001b[0m\u001b[0;34m\u001b[0m\u001b[0;34m\u001b[0m\u001b[0m\n",
      "\u001b[0;32m~/.conda/envs/HT_Bert/lib/python3.8/site-packages/matplotlib/axes/_axes.py\u001b[0m in \u001b[0;36mbar\u001b[0;34m(self, x, height, width, bottom, align, **kwargs)\u001b[0m\n\u001b[1;32m   2302\u001b[0m                 \u001b[0myerr\u001b[0m \u001b[0;34m=\u001b[0m \u001b[0mself\u001b[0m\u001b[0;34m.\u001b[0m\u001b[0m_convert_dx\u001b[0m\u001b[0;34m(\u001b[0m\u001b[0myerr\u001b[0m\u001b[0;34m,\u001b[0m \u001b[0my0\u001b[0m\u001b[0;34m,\u001b[0m \u001b[0my\u001b[0m\u001b[0;34m,\u001b[0m \u001b[0mself\u001b[0m\u001b[0;34m.\u001b[0m\u001b[0mconvert_yunits\u001b[0m\u001b[0;34m)\u001b[0m\u001b[0;34m\u001b[0m\u001b[0;34m\u001b[0m\u001b[0m\n\u001b[1;32m   2303\u001b[0m \u001b[0;34m\u001b[0m\u001b[0m\n\u001b[0;32m-> 2304\u001b[0;31m         x, height, width, y, linewidth, hatch = np.broadcast_arrays(\n\u001b[0m\u001b[1;32m   2305\u001b[0m             \u001b[0;31m# Make args iterable too.\u001b[0m\u001b[0;34m\u001b[0m\u001b[0;34m\u001b[0m\u001b[0;34m\u001b[0m\u001b[0m\n\u001b[1;32m   2306\u001b[0m             np.atleast_1d(x), height, width, y, linewidth, hatch)\n",
      "\u001b[0;32m<__array_function__ internals>\u001b[0m in \u001b[0;36mbroadcast_arrays\u001b[0;34m(*args, **kwargs)\u001b[0m\n",
      "\u001b[0;32m~/.conda/envs/HT_Bert/lib/python3.8/site-packages/numpy/lib/stride_tricks.py\u001b[0m in \u001b[0;36mbroadcast_arrays\u001b[0;34m(subok, *args)\u001b[0m\n\u001b[1;32m    536\u001b[0m     \u001b[0margs\u001b[0m \u001b[0;34m=\u001b[0m \u001b[0;34m[\u001b[0m\u001b[0mnp\u001b[0m\u001b[0;34m.\u001b[0m\u001b[0marray\u001b[0m\u001b[0;34m(\u001b[0m\u001b[0m_m\u001b[0m\u001b[0;34m,\u001b[0m \u001b[0mcopy\u001b[0m\u001b[0;34m=\u001b[0m\u001b[0;32mFalse\u001b[0m\u001b[0;34m,\u001b[0m \u001b[0msubok\u001b[0m\u001b[0;34m=\u001b[0m\u001b[0msubok\u001b[0m\u001b[0;34m)\u001b[0m \u001b[0;32mfor\u001b[0m \u001b[0m_m\u001b[0m \u001b[0;32min\u001b[0m \u001b[0margs\u001b[0m\u001b[0;34m]\u001b[0m\u001b[0;34m\u001b[0m\u001b[0;34m\u001b[0m\u001b[0m\n\u001b[1;32m    537\u001b[0m \u001b[0;34m\u001b[0m\u001b[0m\n\u001b[0;32m--> 538\u001b[0;31m     \u001b[0mshape\u001b[0m \u001b[0;34m=\u001b[0m \u001b[0m_broadcast_shape\u001b[0m\u001b[0;34m(\u001b[0m\u001b[0;34m*\u001b[0m\u001b[0margs\u001b[0m\u001b[0;34m)\u001b[0m\u001b[0;34m\u001b[0m\u001b[0;34m\u001b[0m\u001b[0m\n\u001b[0m\u001b[1;32m    539\u001b[0m \u001b[0;34m\u001b[0m\u001b[0m\n\u001b[1;32m    540\u001b[0m     \u001b[0;32mif\u001b[0m \u001b[0mall\u001b[0m\u001b[0;34m(\u001b[0m\u001b[0marray\u001b[0m\u001b[0;34m.\u001b[0m\u001b[0mshape\u001b[0m \u001b[0;34m==\u001b[0m \u001b[0mshape\u001b[0m \u001b[0;32mfor\u001b[0m \u001b[0marray\u001b[0m \u001b[0;32min\u001b[0m \u001b[0margs\u001b[0m\u001b[0;34m)\u001b[0m\u001b[0;34m:\u001b[0m\u001b[0;34m\u001b[0m\u001b[0;34m\u001b[0m\u001b[0m\n",
      "\u001b[0;32m~/.conda/envs/HT_Bert/lib/python3.8/site-packages/numpy/lib/stride_tricks.py\u001b[0m in \u001b[0;36m_broadcast_shape\u001b[0;34m(*args)\u001b[0m\n\u001b[1;32m    418\u001b[0m     \u001b[0;31m# use the old-iterator because np.nditer does not handle size 0 arrays\u001b[0m\u001b[0;34m\u001b[0m\u001b[0;34m\u001b[0m\u001b[0;34m\u001b[0m\u001b[0m\n\u001b[1;32m    419\u001b[0m     \u001b[0;31m# consistently\u001b[0m\u001b[0;34m\u001b[0m\u001b[0;34m\u001b[0m\u001b[0;34m\u001b[0m\u001b[0m\n\u001b[0;32m--> 420\u001b[0;31m     \u001b[0mb\u001b[0m \u001b[0;34m=\u001b[0m \u001b[0mnp\u001b[0m\u001b[0;34m.\u001b[0m\u001b[0mbroadcast\u001b[0m\u001b[0;34m(\u001b[0m\u001b[0;34m*\u001b[0m\u001b[0margs\u001b[0m\u001b[0;34m[\u001b[0m\u001b[0;34m:\u001b[0m\u001b[0;36m32\u001b[0m\u001b[0;34m]\u001b[0m\u001b[0;34m)\u001b[0m\u001b[0;34m\u001b[0m\u001b[0;34m\u001b[0m\u001b[0m\n\u001b[0m\u001b[1;32m    421\u001b[0m     \u001b[0;31m# unfortunately, it cannot handle 32 or more arguments directly\u001b[0m\u001b[0;34m\u001b[0m\u001b[0;34m\u001b[0m\u001b[0;34m\u001b[0m\u001b[0m\n\u001b[1;32m    422\u001b[0m     \u001b[0;32mfor\u001b[0m \u001b[0mpos\u001b[0m \u001b[0;32min\u001b[0m \u001b[0mrange\u001b[0m\u001b[0;34m(\u001b[0m\u001b[0;36m32\u001b[0m\u001b[0;34m,\u001b[0m \u001b[0mlen\u001b[0m\u001b[0;34m(\u001b[0m\u001b[0margs\u001b[0m\u001b[0;34m)\u001b[0m\u001b[0;34m,\u001b[0m \u001b[0;36m31\u001b[0m\u001b[0;34m)\u001b[0m\u001b[0;34m:\u001b[0m\u001b[0;34m\u001b[0m\u001b[0;34m\u001b[0m\u001b[0m\n",
      "\u001b[0;31mValueError\u001b[0m: shape mismatch: objects cannot be broadcast to a single shape"
     ]
    },
    {
     "data": {
      "image/png": "[encoded data removed]",
      "text/plain": [
       "<Figure size 576x396 with 1 Axes>"
      ]
     },
     "metadata": {},
     "output_type": "display_data"
    }
   ],
   "source": [
    "fig, ax = plt.subplots()\n",
    "ax.bar(d[\"FY\"], d.groupby(\"FY\").count())\n",
    "ax.set_xlabel(\"Year\")\n",
    "ax.set_ylabel(\"# projects\")\n",
    "plt.show()"
   ]
  },
  {
   "cell_type": "code",
   "execution_count": 24,
   "metadata": {},
   "outputs": [
    {
     "data": {
      "text/plain": [
       "array([1965, 1970, 1972, 1973, 1974, 1975, 1976, 1977, 1978, 1979, 1980,\n",
       "       1981, 1982, 1983, 1984, 1985, 1986, 1987, 1988, 1989, 1990, 1991,\n",
       "       1992, 1993, 1994, 1995, 1996, 1997, 1998, 1999, 2000, 2001, 2002,\n",
       "       2003, 2004, 2005, 2006, 2007, 2008, 2009, 2010, 2011, 2012, 2013,\n",
       "       2014, 2015, 2016, 2017, 2018, 2019, 2020])"
      ]
     },
     "execution_count": 24,
     "metadata": {},
     "output_type": "execute_result"
    }
   ],
   "source": [
    "np.unique(d[\"PROJECT_START_YEAR\"])"
   ]
  },
  {
   "cell_type": "code",
   "execution_count": null,
   "metadata": {},
   "outputs": [],
   "source": []
  },
  {
   "cell_type": "code",
   "execution_count": 25,
   "metadata": {},
   "outputs": [
    {
     "data": {
      "text/plain": [
       "original index                  int64\n",
       "PROJECT_ID                     object\n",
       "ABSTRACT                       object\n",
       "FY                             object\n",
       "PROJECT_TERMS                  object\n",
       "PROJECT_TITLE                  object\n",
       "DEPARTMENT                     object\n",
       "AGENCY                         object\n",
       "IC_CENTER                      object\n",
       "PROJECT_NUMBER                 object\n",
       "PROJECT_START_DATE             object\n",
       "PROJECT_END_DATE               object\n",
       "CONTACT_PI_PROJECT_LEADER      object\n",
       "OTHER_PIS                      object\n",
       "CONGRESSIONAL_DISTRICT         object\n",
       "DUNS_NUMBER                    object\n",
       "ORGANIZATION_NAME              object\n",
       "ORGANIZATION_CITY              object\n",
       "ORGANIZATION_STATE             object\n",
       "ORGANIZATION_ZIP               object\n",
       "ORGANIZATION_COUNTRY           object\n",
       "BUDGET_START_DATE              object\n",
       "BUDGET_END_DATE                object\n",
       "CFDA_CODE                      object\n",
       "FY.y                           object\n",
       "FY_TOTAL_COST                 float64\n",
       "FY_TOTAL_COST_SUB_PROJECTS    float64\n",
       "ORG_COUNT                       int64\n",
       "PI_COUNT                        int64\n",
       "nchar                           int64\n",
       "final_frqwds_removed           object\n",
       "PROJECT_START_YEAR              int64\n",
       "BUDGET_START_YEAR              object\n",
       "dtype: object"
      ]
     },
     "execution_count": 25,
     "metadata": {},
     "output_type": "execute_result"
    }
   ],
   "source": [
    "d.dtypes"
   ]
  },
  {
   "cell_type": "code",
   "execution_count": 26,
   "metadata": {},
   "outputs": [
    {
     "name": "stderr",
     "output_type": "stream",
     "text": [
      "<ipython-input-26-c305f0f6f8b6>:4: UserWarning: FixedFormatter should only be used together with FixedLocator\n",
      "  ax.set_xticklabels(d[\"PROJECT_START_YEAR\"], rotation = 90)\n"
     ]
    },
    {
     "data": {
      "image/png": "[encoded data removed]",
      "text/plain": [
       "<Figure size 1080x720 with 1 Axes>"
      ]
     },
     "metadata": {
      "needs_background": "light"
     },
     "output_type": "display_data"
    }
   ],
   "source": [
    "fig, ax = plt.subplots()\n",
    "ax.hist(d[\"PROJECT_START_YEAR\"])\n",
    "ax.set_xlabel(\"Year\")\n",
    "ax.set_xticklabels(d[\"PROJECT_START_YEAR\"], rotation = 90)\n",
    "ax.set_ylabel(\"# projects\")\n",
    "fig.set_figheight(10)\n",
    "fig.set_figwidth(15)\n",
    "plt.show()"
   ]
  },
  {
   "cell_type": "code",
   "execution_count": 27,
   "metadata": {},
   "outputs": [
    {
     "ename": "TypeError",
     "evalue": "the dtypes of parameters x (object) and width (float64) are incompatible",
     "output_type": "error",
     "traceback": [
      "\u001b[0;31m---------------------------------------------------------------------------\u001b[0m",
      "\u001b[0;31mTypeError\u001b[0m                                 Traceback (most recent call last)",
      "\u001b[0;32m~/.conda/envs/HT_Bert/lib/python3.8/site-packages/matplotlib/axes/_axes.py\u001b[0m in \u001b[0;36mbar\u001b[0;34m(self, x, height, width, bottom, align, **kwargs)\u001b[0m\n\u001b[1;32m   2334\u001b[0m                 \u001b[0;32mtry\u001b[0m\u001b[0;34m:\u001b[0m\u001b[0;34m\u001b[0m\u001b[0;34m\u001b[0m\u001b[0m\n\u001b[0;32m-> 2335\u001b[0;31m                     \u001b[0mleft\u001b[0m \u001b[0;34m=\u001b[0m \u001b[0mx\u001b[0m \u001b[0;34m-\u001b[0m \u001b[0mwidth\u001b[0m \u001b[0;34m/\u001b[0m \u001b[0;36m2\u001b[0m\u001b[0;34m\u001b[0m\u001b[0;34m\u001b[0m\u001b[0m\n\u001b[0m\u001b[1;32m   2336\u001b[0m                 \u001b[0;32mexcept\u001b[0m \u001b[0mTypeError\u001b[0m \u001b[0;32mas\u001b[0m \u001b[0me\u001b[0m\u001b[0;34m:\u001b[0m\u001b[0;34m\u001b[0m\u001b[0;34m\u001b[0m\u001b[0m\n",
      "\u001b[0;31mTypeError\u001b[0m: unsupported operand type(s) for -: 'str' and 'float'",
      "\nThe above exception was the direct cause of the following exception:\n",
      "\u001b[0;31mTypeError\u001b[0m                                 Traceback (most recent call last)",
      "\u001b[0;32m<ipython-input-27-82a60c7b6807>\u001b[0m in \u001b[0;36m<module>\u001b[0;34m\u001b[0m\n\u001b[1;32m      1\u001b[0m \u001b[0mfig\u001b[0m\u001b[0;34m,\u001b[0m \u001b[0max\u001b[0m \u001b[0;34m=\u001b[0m \u001b[0mplt\u001b[0m\u001b[0;34m.\u001b[0m\u001b[0msubplots\u001b[0m\u001b[0;34m(\u001b[0m\u001b[0;34m)\u001b[0m\u001b[0;34m\u001b[0m\u001b[0;34m\u001b[0m\u001b[0m\n\u001b[0;32m----> 2\u001b[0;31m \u001b[0max\u001b[0m\u001b[0;34m.\u001b[0m\u001b[0mbar\u001b[0m\u001b[0;34m(\u001b[0m\u001b[0md\u001b[0m\u001b[0;34m[\u001b[0m\u001b[0;34m\"BUDGET_START_YEAR\"\u001b[0m\u001b[0;34m]\u001b[0m\u001b[0;34m,\u001b[0m \u001b[0md\u001b[0m\u001b[0;34m[\u001b[0m\u001b[0;34m\"FY_TOTAL_COST\"\u001b[0m\u001b[0;34m]\u001b[0m\u001b[0;34m)\u001b[0m\u001b[0;34m\u001b[0m\u001b[0;34m\u001b[0m\u001b[0m\n\u001b[0m\u001b[1;32m      3\u001b[0m \u001b[0max\u001b[0m\u001b[0;34m.\u001b[0m\u001b[0mset_xlabel\u001b[0m\u001b[0;34m(\u001b[0m\u001b[0;34m\"Year\"\u001b[0m\u001b[0;34m)\u001b[0m\u001b[0;34m\u001b[0m\u001b[0;34m\u001b[0m\u001b[0m\n\u001b[1;32m      4\u001b[0m \u001b[0max\u001b[0m\u001b[0;34m.\u001b[0m\u001b[0mset_xticklabels\u001b[0m\u001b[0;34m(\u001b[0m\u001b[0md\u001b[0m\u001b[0;34m[\u001b[0m\u001b[0;34m\"PROJECT_START_YEAR\"\u001b[0m\u001b[0;34m]\u001b[0m\u001b[0;34m,\u001b[0m \u001b[0mrotation\u001b[0m \u001b[0;34m=\u001b[0m \u001b[0;36m90\u001b[0m\u001b[0;34m)\u001b[0m\u001b[0;34m\u001b[0m\u001b[0;34m\u001b[0m\u001b[0m\n\u001b[1;32m      5\u001b[0m \u001b[0max\u001b[0m\u001b[0;34m.\u001b[0m\u001b[0mset_ylabel\u001b[0m\u001b[0;34m(\u001b[0m\u001b[0;34m\"# projects\"\u001b[0m\u001b[0;34m)\u001b[0m\u001b[0;34m\u001b[0m\u001b[0;34m\u001b[0m\u001b[0m\n",
      "\u001b[0;32m~/.conda/envs/HT_Bert/lib/python3.8/site-packages/matplotlib/__init__.py\u001b[0m in \u001b[0;36minner\u001b[0;34m(ax, data, *args, **kwargs)\u001b[0m\n\u001b[1;32m   1359\u001b[0m     \u001b[0;32mdef\u001b[0m \u001b[0minner\u001b[0m\u001b[0;34m(\u001b[0m\u001b[0max\u001b[0m\u001b[0;34m,\u001b[0m \u001b[0;34m*\u001b[0m\u001b[0margs\u001b[0m\u001b[0;34m,\u001b[0m \u001b[0mdata\u001b[0m\u001b[0;34m=\u001b[0m\u001b[0;32mNone\u001b[0m\u001b[0;34m,\u001b[0m \u001b[0;34m**\u001b[0m\u001b[0mkwargs\u001b[0m\u001b[0;34m)\u001b[0m\u001b[0;34m:\u001b[0m\u001b[0;34m\u001b[0m\u001b[0;34m\u001b[0m\u001b[0m\n\u001b[1;32m   1360\u001b[0m         \u001b[0;32mif\u001b[0m \u001b[0mdata\u001b[0m \u001b[0;32mis\u001b[0m \u001b[0;32mNone\u001b[0m\u001b[0;34m:\u001b[0m\u001b[0;34m\u001b[0m\u001b[0;34m\u001b[0m\u001b[0m\n\u001b[0;32m-> 1361\u001b[0;31m             \u001b[0;32mreturn\u001b[0m \u001b[0mfunc\u001b[0m\u001b[0;34m(\u001b[0m\u001b[0max\u001b[0m\u001b[0;34m,\u001b[0m \u001b[0;34m*\u001b[0m\u001b[0mmap\u001b[0m\u001b[0;34m(\u001b[0m\u001b[0msanitize_sequence\u001b[0m\u001b[0;34m,\u001b[0m \u001b[0margs\u001b[0m\u001b[0;34m)\u001b[0m\u001b[0;34m,\u001b[0m \u001b[0;34m**\u001b[0m\u001b[0mkwargs\u001b[0m\u001b[0;34m)\u001b[0m\u001b[0;34m\u001b[0m\u001b[0;34m\u001b[0m\u001b[0m\n\u001b[0m\u001b[1;32m   1362\u001b[0m \u001b[0;34m\u001b[0m\u001b[0m\n\u001b[1;32m   1363\u001b[0m         \u001b[0mbound\u001b[0m \u001b[0;34m=\u001b[0m \u001b[0mnew_sig\u001b[0m\u001b[0;34m.\u001b[0m\u001b[0mbind\u001b[0m\u001b[0;34m(\u001b[0m\u001b[0max\u001b[0m\u001b[0;34m,\u001b[0m \u001b[0;34m*\u001b[0m\u001b[0margs\u001b[0m\u001b[0;34m,\u001b[0m \u001b[0;34m**\u001b[0m\u001b[0mkwargs\u001b[0m\u001b[0;34m)\u001b[0m\u001b[0;34m\u001b[0m\u001b[0;34m\u001b[0m\u001b[0m\n",
      "\u001b[0;32m~/.conda/envs/HT_Bert/lib/python3.8/site-packages/matplotlib/axes/_axes.py\u001b[0m in \u001b[0;36mbar\u001b[0;34m(self, x, height, width, bottom, align, **kwargs)\u001b[0m\n\u001b[1;32m   2335\u001b[0m                     \u001b[0mleft\u001b[0m \u001b[0;34m=\u001b[0m \u001b[0mx\u001b[0m \u001b[0;34m-\u001b[0m \u001b[0mwidth\u001b[0m \u001b[0;34m/\u001b[0m \u001b[0;36m2\u001b[0m\u001b[0;34m\u001b[0m\u001b[0;34m\u001b[0m\u001b[0m\n\u001b[1;32m   2336\u001b[0m                 \u001b[0;32mexcept\u001b[0m \u001b[0mTypeError\u001b[0m \u001b[0;32mas\u001b[0m \u001b[0me\u001b[0m\u001b[0;34m:\u001b[0m\u001b[0;34m\u001b[0m\u001b[0;34m\u001b[0m\u001b[0m\n\u001b[0;32m-> 2337\u001b[0;31m                     raise TypeError(f'the dtypes of parameters x ({x.dtype}) '\n\u001b[0m\u001b[1;32m   2338\u001b[0m                                     \u001b[0;34mf'and width ({width.dtype}) '\u001b[0m\u001b[0;34m\u001b[0m\u001b[0;34m\u001b[0m\u001b[0m\n\u001b[1;32m   2339\u001b[0m                                     f'are incompatible') from e\n",
      "\u001b[0;31mTypeError\u001b[0m: the dtypes of parameters x (object) and width (float64) are incompatible"
     ]
    },
    {
     "data": {
      "image/png": "[encoded data removed]",
      "text/plain": [
       "<Figure size 432x288 with 1 Axes>"
      ]
     },
     "metadata": {
      "needs_background": "light"
     },
     "output_type": "display_data"
    }
   ],
   "source": [
    "fig, ax = plt.subplots()\n",
    "ax.bar(d[\"BUDGET_START_YEAR\"], d[\"FY_TOTAL_COST\"])\n",
    "ax.set_xlabel(\"Year\")\n",
    "ax.set_xticklabels(d[\"PROJECT_START_YEAR\"], rotation = 90)\n",
    "ax.set_ylabel(\"# projects\")\n",
    "fig.set_figheight(10)\n",
    "fig.set_figwidth(15)\n",
    "plt.show()"
   ]
  },
  {
   "cell_type": "markdown",
   "metadata": {},
   "source": [
    "d[\"PROJECT_START_YEAR\"].mean()"
   ]
  },
  {
   "cell_type": "code",
   "execution_count": 41,
   "metadata": {},
   "outputs": [
    {
     "data": {
      "text/plain": [
       "2012.0"
      ]
     },
     "execution_count": 41,
     "metadata": {},
     "output_type": "execute_result"
    }
   ],
   "source": [
    "d[\"PROJECT_START_YEAR\"].median()"
   ]
  },
  {
   "cell_type": "markdown",
   "metadata": {},
   "source": [
    "^^ why is that not going back to 1965? And why are there repeats?"
   ]
  },
  {
   "cell_type": "code",
   "execution_count": 42,
   "metadata": {},
   "outputs": [
    {
     "data": {
      "text/plain": [
       "217197"
      ]
     },
     "execution_count": 42,
     "metadata": {},
     "output_type": "execute_result"
    }
   ],
   "source": [
    "d[\"FY_TOTAL_COST\"].isna().sum()"
   ]
  },
  {
   "cell_type": "code",
   "execution_count": 43,
   "metadata": {},
   "outputs": [
    {
     "name": "stdout",
     "output_type": "stream",
     "text": [
      "<class 'pandas.core.frame.DataFrame'>\n",
      "Int64Index: 690814 entries, 0 to 690854\n",
      "Data columns (total 33 columns):\n",
      " #   Column                      Non-Null Count   Dtype  \n",
      "---  ------                      --------------   -----  \n",
      " 0   original index              690814 non-null  int64  \n",
      " 1   PROJECT_ID                  690814 non-null  object \n",
      " 2   ABSTRACT                    690814 non-null  object \n",
      " 3   FY                          690814 non-null  object \n",
      " 4   PROJECT_TERMS               688920 non-null  object \n",
      " 5   PROJECT_TITLE               690814 non-null  object \n",
      " 6   DEPARTMENT                  690814 non-null  object \n",
      " 7   AGENCY                      690814 non-null  object \n",
      " 8   IC_CENTER                   289225 non-null  object \n",
      " 9   PROJECT_NUMBER              690814 non-null  object \n",
      " 10  PROJECT_START_DATE          690814 non-null  object \n",
      " 11  PROJECT_END_DATE            690814 non-null  object \n",
      " 12  CONTACT_PI_PROJECT_LEADER   690773 non-null  object \n",
      " 13  OTHER_PIS                   94257 non-null   object \n",
      " 14  CONGRESSIONAL_DISTRICT      627466 non-null  object \n",
      " 15  DUNS_NUMBER                 681460 non-null  object \n",
      " 16  ORGANIZATION_NAME           689443 non-null  object \n",
      " 17  ORGANIZATION_CITY           685578 non-null  object \n",
      " 18  ORGANIZATION_STATE          682121 non-null  object \n",
      " 19  ORGANIZATION_ZIP            645421 non-null  object \n",
      " 20  ORGANIZATION_COUNTRY        685782 non-null  object \n",
      " 21  BUDGET_START_DATE           258154 non-null  object \n",
      " 22  BUDGET_END_DATE             258103 non-null  object \n",
      " 23  CFDA_CODE                   520484 non-null  object \n",
      " 24  FY.y                        690803 non-null  object \n",
      " 25  FY_TOTAL_COST               473617 non-null  float64\n",
      " 26  FY_TOTAL_COST_SUB_PROJECTS  61463 non-null   float64\n",
      " 27  ORG_COUNT                   690814 non-null  int64  \n",
      " 28  PI_COUNT                    690814 non-null  int64  \n",
      " 29  nchar                       690814 non-null  int64  \n",
      " 30  final_frqwds_removed        690814 non-null  object \n",
      " 31  PROJECT_START_YEAR          690814 non-null  int64  \n",
      " 32  BUDGET_START_YEAR           258154 non-null  object \n",
      "dtypes: float64(2), int64(5), object(26)\n",
      "memory usage: 195.3+ MB\n"
     ]
    }
   ],
   "source": [
    "d.info()"
   ]
  },
  {
   "cell_type": "code",
   "execution_count": 44,
   "metadata": {},
   "outputs": [
    {
     "data": {
      "text/plain": [
       "690814"
      ]
     },
     "execution_count": 44,
     "metadata": {},
     "output_type": "execute_result"
    }
   ],
   "source": [
    "len(d[\"FY_TOTAL_COST\"])"
   ]
  },
  {
   "cell_type": "code",
   "execution_count": 45,
   "metadata": {},
   "outputs": [
    {
     "data": {
      "text/plain": [
       "473617"
      ]
     },
     "execution_count": 45,
     "metadata": {},
     "output_type": "execute_result"
    }
   ],
   "source": [
    "690814-217197"
   ]
  },
  {
   "cell_type": "code",
   "execution_count": 46,
   "metadata": {},
   "outputs": [
    {
     "data": {
      "text/plain": [
       "0"
      ]
     },
     "execution_count": 46,
     "metadata": {},
     "output_type": "execute_result"
    }
   ],
   "source": [
    "d[\"PROJECT_END_DATE\"].isna().sum()"
   ]
  },
  {
   "cell_type": "code",
   "execution_count": null,
   "metadata": {},
   "outputs": [],
   "source": []
  },
  {
   "cell_type": "code",
   "execution_count": 47,
   "metadata": {},
   "outputs": [
    {
     "data": {
      "image/png": "[encoded data removed]",
      "text/plain": [
       "<Figure size 432x288 with 1 Axes>"
      ]
     },
     "metadata": {
      "needs_background": "light"
     },
     "output_type": "display_data"
    }
   ],
   "source": [
    "fig, ax = plt.subplots()\n",
    "ax.bar(d[\"DEPARTMENT\"], d[\"FY_TOTAL_COST\"])\n",
    "plt.show()"
   ]
  },
  {
   "cell_type": "markdown",
   "metadata": {},
   "source": [
    "then, do the same thing with the agencies!?  Can split this up by year, also"
   ]
  },
  {
   "cell_type": "code",
   "execution_count": 48,
   "metadata": {},
   "outputs": [
    {
     "data": {
      "image/png": "[encoded data removed]",
      "text/plain": [
       "<Figure size 432x288 with 1 Axes>"
      ]
     },
     "metadata": {
      "needs_background": "light"
     },
     "output_type": "display_data"
    }
   ],
   "source": [
    "fig, ax = plt.subplots()\n",
    "ax.bar(d[\"DEPARTMENT\"], d[\"FY_TOTAL_COST_SUB_PROJECTS\"])\n",
    "plt.show()"
   ]
  },
  {
   "cell_type": "code",
   "execution_count": 49,
   "metadata": {},
   "outputs": [
    {
     "data": {
      "text/plain": [
       "array(['ACF', 'AHRQ', 'ALLCDC', 'ARS', 'CCCRP', 'CDMRP', 'CNRM', 'DVBIC',\n",
       "       'EPA', 'FDA', 'FS', 'IES', 'NASA', 'NIDILRR', 'NIFA', 'NIH', 'NSF',\n",
       "       'VA'], dtype=object)"
      ]
     },
     "execution_count": 49,
     "metadata": {},
     "output_type": "execute_result"
    }
   ],
   "source": [
    "np.unique(d[\"AGENCY\"])"
   ]
  },
  {
   "cell_type": "code",
   "execution_count": null,
   "metadata": {},
   "outputs": [],
   "source": [
    "fig, ax = plt.subplots()\n",
    "ax.bar(d[\"AGENCY\"], d[\"FY_TOTAL_COST\"])\n",
    "ax.set_xticklabels(d[\"AGENCY\"], rotation = 90)\n",
    "ax.set_ylabel(\"Total Cost (USD)\")\n",
    "plt.show()"
   ]
  },
  {
   "cell_type": "code",
   "execution_count": null,
   "metadata": {},
   "outputs": [],
   "source": [
    "fig, ax = plt.subplots()\n",
    "ax.bar(d[\"AGENCY\"], d[\"FY_TOTAL_COST_SUB_PROJECTS\"])\n",
    "ax.set_xticklabels(d[\"AGENCY\"], rotation = 90)\n",
    "ax.set_ylabel(\"Total Cost (USD)\")\n",
    "plt.show()"
   ]
  },
  {
   "cell_type": "code",
   "execution_count": null,
   "metadata": {},
   "outputs": [],
   "source": [
    "d.size"
   ]
  },
  {
   "cell_type": "code",
   "execution_count": null,
   "metadata": {},
   "outputs": [],
   "source": [
    "d.shape"
   ]
  },
  {
   "cell_type": "code",
   "execution_count": null,
   "metadata": {},
   "outputs": [],
   "source": []
  },
  {
   "cell_type": "code",
   "execution_count": null,
   "metadata": {},
   "outputs": [],
   "source": []
  },
  {
   "cell_type": "code",
   "execution_count": null,
   "metadata": {},
   "outputs": [],
   "source": []
  },
  {
   "cell_type": "code",
   "execution_count": null,
   "metadata": {},
   "outputs": [],
   "source": []
  }
 ],
 "metadata": {
  "kernelspec": {
   "display_name": "Python [conda env:.conda-HT_Bert]",
   "language": "python",
   "name": "conda-env-.conda-HT_Bert-py"
  },
  "language_info": {
   "codemirror_mode": {
    "name": "ipython",
    "version": 3
   },
   "file_extension": ".py",
   "mimetype": "text/x-python",
   "name": "python",
   "nbconvert_exporter": "python",
   "pygments_lexer": "ipython3",
   "version": "3.8.10"
  }
 },
 "nbformat": 4,
 "nbformat_minor": 4
}
