{
 "cells": [
  {
   "cell_type": "markdown",
   "metadata": {},
   "source": [
    "# EDA"
   ]
  },
  {
   "cell_type": "markdown",
   "metadata": {},
   "source": [
    "Author: Crystal"
   ]
  },
  {
   "cell_type": "code",
   "execution_count": 55,
   "metadata": {},
   "outputs": [],
   "source": [
    "import pandas as pd\n",
    "import numpy as np\n",
    "import matplotlib.pyplot as plt\n",
    "from pandas_profiling import ProfileReport"
   ]
  },
  {
   "cell_type": "code",
   "execution_count": 8,
   "metadata": {},
   "outputs": [],
   "source": [
    "df = pd.read_pickle(\"/home/zz3hs/git/dspg21RnD/data/dspg21RnD/smaller-final-dataset.pkl\")\n",
    "\n",
    "df.reset_index(inplace = True)"
   ]
  },
  {
   "cell_type": "code",
   "execution_count": 9,
   "metadata": {},
   "outputs": [
    {
     "data": {
      "text/plain": [
       "Index(['index', 'original index', 'PROJECT_ID', 'ABSTRACT', 'FY',\n",
       "       'PROJECT_TERMS', 'PROJECT_TITLE', 'DEPARTMENT', 'AGENCY', 'IC_CENTER',\n",
       "       'PROJECT_NUMBER', 'PROJECT_START_DATE', 'PROJECT_END_DATE',\n",
       "       'CONTACT_PI_PROJECT_LEADER', 'OTHER_PIS', 'CONGRESSIONAL_DISTRICT',\n",
       "       'DUNS_NUMBER', 'ORGANIZATION_NAME', 'ORGANIZATION_CITY',\n",
       "       'ORGANIZATION_STATE', 'ORGANIZATION_ZIP', 'ORGANIZATION_COUNTRY',\n",
       "       'BUDGET_START_DATE', 'BUDGET_END_DATE', 'CFDA_CODE', 'FY.y',\n",
       "       'FY_TOTAL_COST', 'FY_TOTAL_COST_SUB_PROJECTS', 'ORG_COUNT', 'PI_COUNT',\n",
       "       'nchar', 'final_frqwds_removed'],\n",
       "      dtype='object')"
      ]
     },
     "execution_count": 9,
     "metadata": {},
     "output_type": "execute_result"
    }
   ],
   "source": [
    "df.columns"
   ]
  },
  {
   "cell_type": "code",
   "execution_count": 42,
   "metadata": {},
   "outputs": [],
   "source": [
    "df_small = df[[\"FY\",\"PROJECT_TERMS\",\"DEPARTMENT\", \"AGENCY\", \"PROJECT_START_DATE\",\"BUDGET_START_DATE\", \"FY_TOTAL_COST\", \"FY_TOTAL_COST_SUB_PROJECTS\"]]"
   ]
  },
  {
   "cell_type": "code",
   "execution_count": 43,
   "metadata": {},
   "outputs": [
    {
     "data": {
      "text/html": [
       "<div>\n",
       "<style scoped>\n",
       "    .dataframe tbody tr th:only-of-type {\n",
       "        vertical-align: middle;\n",
       "    }\n",
       "\n",
       "    .dataframe tbody tr th {\n",
       "        vertical-align: top;\n",
       "    }\n",
       "\n",
       "    .dataframe thead th {\n",
       "        text-align: right;\n",
       "    }\n",
       "</style>\n",
       "<table border=\"1\" class=\"dataframe\">\n",
       "  <thead>\n",
       "    <tr style=\"text-align: right;\">\n",
       "      <th></th>\n",
       "      <th>FY</th>\n",
       "      <th>PROJECT_TERMS</th>\n",
       "      <th>DEPARTMENT</th>\n",
       "      <th>AGENCY</th>\n",
       "      <th>PROJECT_START_DATE</th>\n",
       "      <th>BUDGET_START_DATE</th>\n",
       "      <th>FY_TOTAL_COST</th>\n",
       "      <th>FY_TOTAL_COST_SUB_PROJECTS</th>\n",
       "    </tr>\n",
       "  </thead>\n",
       "  <tbody>\n",
       "    <tr>\n",
       "      <th>0</th>\n",
       "      <td>2008</td>\n",
       "      <td>Active Sites; Affect; Alzheimer's Disease; Amy...</td>\n",
       "      <td>HHS</td>\n",
       "      <td>NIH</td>\n",
       "      <td>12/1/2005</td>\n",
       "      <td>NaN</td>\n",
       "      <td>3483.0</td>\n",
       "      <td>NaN</td>\n",
       "    </tr>\n",
       "    <tr>\n",
       "      <th>1</th>\n",
       "      <td>2008</td>\n",
       "      <td>Affect; Animal Model; Axon; Behavior; Behavior...</td>\n",
       "      <td>HHS</td>\n",
       "      <td>NIH</td>\n",
       "      <td>9/1/2007</td>\n",
       "      <td>NaN</td>\n",
       "      <td>39175.0</td>\n",
       "      <td>NaN</td>\n",
       "    </tr>\n",
       "    <tr>\n",
       "      <th>2</th>\n",
       "      <td>2008</td>\n",
       "      <td>Agreement; Antibodies; base; Binding; Biochemi...</td>\n",
       "      <td>HHS</td>\n",
       "      <td>NIH</td>\n",
       "      <td>1/2/2007</td>\n",
       "      <td>NaN</td>\n",
       "      <td>49646.0</td>\n",
       "      <td>NaN</td>\n",
       "    </tr>\n",
       "    <tr>\n",
       "      <th>3</th>\n",
       "      <td>2008</td>\n",
       "      <td>African; Analysis of Variance; Asians; Birth; ...</td>\n",
       "      <td>HHS</td>\n",
       "      <td>NIH</td>\n",
       "      <td>4/1/2006</td>\n",
       "      <td>NaN</td>\n",
       "      <td>20406.0</td>\n",
       "      <td>NaN</td>\n",
       "    </tr>\n",
       "    <tr>\n",
       "      <th>4</th>\n",
       "      <td>2010</td>\n",
       "      <td>cost; Health; interest; Manure; Parasitic nema...</td>\n",
       "      <td>USDA</td>\n",
       "      <td>NIFA</td>\n",
       "      <td>10/1/2009</td>\n",
       "      <td>NaN</td>\n",
       "      <td>NaN</td>\n",
       "      <td>NaN</td>\n",
       "    </tr>\n",
       "  </tbody>\n",
       "</table>\n",
       "</div>"
      ],
      "text/plain": [
       "     FY                                      PROJECT_TERMS DEPARTMENT AGENCY  \\\n",
       "0  2008  Active Sites; Affect; Alzheimer's Disease; Amy...        HHS    NIH   \n",
       "1  2008  Affect; Animal Model; Axon; Behavior; Behavior...        HHS    NIH   \n",
       "2  2008  Agreement; Antibodies; base; Binding; Biochemi...        HHS    NIH   \n",
       "3  2008  African; Analysis of Variance; Asians; Birth; ...        HHS    NIH   \n",
       "4  2010  cost; Health; interest; Manure; Parasitic nema...       USDA   NIFA   \n",
       "\n",
       "  PROJECT_START_DATE BUDGET_START_DATE  FY_TOTAL_COST  \\\n",
       "0          12/1/2005               NaN         3483.0   \n",
       "1           9/1/2007               NaN        39175.0   \n",
       "2           1/2/2007               NaN        49646.0   \n",
       "3           4/1/2006               NaN        20406.0   \n",
       "4          10/1/2009               NaN            NaN   \n",
       "\n",
       "   FY_TOTAL_COST_SUB_PROJECTS  \n",
       "0                         NaN  \n",
       "1                         NaN  \n",
       "2                         NaN  \n",
       "3                         NaN  \n",
       "4                         NaN  "
      ]
     },
     "execution_count": 43,
     "metadata": {},
     "output_type": "execute_result"
    }
   ],
   "source": [
    "df_small.head()"
   ]
  },
  {
   "cell_type": "code",
   "execution_count": 44,
   "metadata": {},
   "outputs": [
    {
     "data": {
      "text/plain": [
       "FY                             object\n",
       "PROJECT_TERMS                  object\n",
       "DEPARTMENT                     object\n",
       "AGENCY                         object\n",
       "PROJECT_START_DATE             object\n",
       "BUDGET_START_DATE              object\n",
       "FY_TOTAL_COST                 float64\n",
       "FY_TOTAL_COST_SUB_PROJECTS    float64\n",
       "dtype: object"
      ]
     },
     "execution_count": 44,
     "metadata": {},
     "output_type": "execute_result"
    }
   ],
   "source": [
    "df_small.dtypes"
   ]
  },
  {
   "cell_type": "code",
   "execution_count": 45,
   "metadata": {},
   "outputs": [
    {
     "name": "stderr",
     "output_type": "stream",
     "text": [
      "/home/zz3hs/.conda/envs/crystal/lib/python3.7/site-packages/ipykernel_launcher.py:1: SettingWithCopyWarning: \n",
      "A value is trying to be set on a copy of a slice from a DataFrame.\n",
      "Try using .loc[row_indexer,col_indexer] = value instead\n",
      "\n",
      "See the caveats in the documentation: https://pandas.pydata.org/pandas-docs/stable/user_guide/indexing.html#returning-a-view-versus-a-copy\n",
      "  \"\"\"Entry point for launching an IPython kernel.\n",
      "/home/zz3hs/.conda/envs/crystal/lib/python3.7/site-packages/ipykernel_launcher.py:2: SettingWithCopyWarning: \n",
      "A value is trying to be set on a copy of a slice from a DataFrame.\n",
      "Try using .loc[row_indexer,col_indexer] = value instead\n",
      "\n",
      "See the caveats in the documentation: https://pandas.pydata.org/pandas-docs/stable/user_guide/indexing.html#returning-a-view-versus-a-copy\n",
      "  \n"
     ]
    }
   ],
   "source": [
    "df_small[\"PROJECT_START_YEAR\"]= df_small[\"PROJECT_START_DATE\"].str[-4:]\n",
    "df_small[\"BUDGET_START_YEAR\"]= df_small[\"BUDGET_START_DATE\"].str[-4:]"
   ]
  },
  {
   "cell_type": "code",
   "execution_count": 46,
   "metadata": {},
   "outputs": [
    {
     "data": {
      "text/plain": [
       "FY                             object\n",
       "PROJECT_TERMS                  object\n",
       "DEPARTMENT                     object\n",
       "AGENCY                         object\n",
       "PROJECT_START_DATE             object\n",
       "BUDGET_START_DATE              object\n",
       "FY_TOTAL_COST                 float64\n",
       "FY_TOTAL_COST_SUB_PROJECTS    float64\n",
       "PROJECT_START_YEAR             object\n",
       "BUDGET_START_YEAR              object\n",
       "dtype: object"
      ]
     },
     "execution_count": 46,
     "metadata": {},
     "output_type": "execute_result"
    }
   ],
   "source": [
    "df_small.dtypes"
   ]
  },
  {
   "cell_type": "code",
   "execution_count": 52,
   "metadata": {},
   "outputs": [
    {
     "name": "stderr",
     "output_type": "stream",
     "text": [
      "/home/zz3hs/.conda/envs/crystal/lib/python3.7/site-packages/ipykernel_launcher.py:1: SettingWithCopyWarning: \n",
      "A value is trying to be set on a copy of a slice from a DataFrame.\n",
      "Try using .loc[row_indexer,col_indexer] = value instead\n",
      "\n",
      "See the caveats in the documentation: https://pandas.pydata.org/pandas-docs/stable/user_guide/indexing.html#returning-a-view-versus-a-copy\n",
      "  \"\"\"Entry point for launching an IPython kernel.\n"
     ]
    }
   ],
   "source": [
    "\n",
    "df_small[\"PROJECT_START_YEAR\"] = df_small.PROJECT_START_YEAR.astype('Int64')\n",
    "#df_small[\"BUDGET_START_YEAR\"] = df_small.BUDGET_START_YEAR.astype('Int64')"
   ]
  },
  {
   "cell_type": "code",
   "execution_count": 53,
   "metadata": {},
   "outputs": [
    {
     "data": {
      "text/plain": [
       "0         2005\n",
       "1         2007\n",
       "2         2007\n",
       "3         2006\n",
       "4         2009\n",
       "          ... \n",
       "690809    2018\n",
       "690810    2019\n",
       "690811    2018\n",
       "690812    2019\n",
       "690813    2018\n",
       "Name: PROJECT_START_YEAR, Length: 690814, dtype: Int64"
      ]
     },
     "execution_count": 53,
     "metadata": {},
     "output_type": "execute_result"
    }
   ],
   "source": [
    "df_small[\"PROJECT_START_YEAR\"]"
   ]
  },
  {
   "cell_type": "code",
   "execution_count": 58,
   "metadata": {},
   "outputs": [
    {
     "data": {
      "image/png": "[encoded data removed]",
      "text/plain": [
       "<Figure size 1080x720 with 1 Axes>"
      ]
     },
     "metadata": {
      "needs_background": "light"
     },
     "output_type": "display_data"
    }
   ],
   "source": [
    "fig, ax = plt.subplots()\n",
    "ax.hist(df_small[\"PROJECT_START_YEAR\"])\n",
    "ax.set_xlabel(\"Year\")\n",
    "ax.set_xticklabels(df_small[\"PROJECT_START_YEAR\"], rotation = 90)\n",
    "ax.set_ylabel(\"# projects\")\n",
    "fig.set_figheight(10)\n",
    "fig.set_figwidth(15)\n",
    "plt.show()"
   ]
  },
  {
   "cell_type": "code",
   "execution_count": null,
   "metadata": {},
   "outputs": [],
   "source": []
  }
 ],
 "metadata": {
  "kernelspec": {
   "display_name": "Python [conda env:.conda-crystal]",
   "language": "python",
   "name": "conda-env-.conda-crystal-py"
  },
  "language_info": {
   "codemirror_mode": {
    "name": "ipython",
    "version": 3
   },
   "file_extension": ".py",
   "mimetype": "text/x-python",
   "name": "python",
   "nbconvert_exporter": "python",
   "pygments_lexer": "ipython3",
   "version": "3.7.9"
  }
 },
 "nbformat": 4,
 "nbformat_minor": 4
}
