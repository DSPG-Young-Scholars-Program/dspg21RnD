{
 "cells": [
  {
   "cell_type": "markdown",
   "metadata": {},
   "source": [
    "## OECD Term Matching"
   ]
  },
  {
   "cell_type": "markdown",
   "metadata": {},
   "source": [
    "#### Author: Cierra Oliveira"
   ]
  },
  {
   "cell_type": "markdown",
   "metadata": {},
   "source": [
    "#### Date: 6/21/2021"
   ]
  },
  {
   "cell_type": "markdown",
   "metadata": {},
   "source": [
    "#### Importing libraries and data"
   ]
  },
  {
   "cell_type": "code",
   "execution_count": null,
   "metadata": {},
   "outputs": [],
   "source": [
    "import pandas as pd\n",
    "import numpy as np\n",
    "import pickle\n",
    "import matplotlib.pyplot as plt\n",
    "import gensim\n",
    "import time\n",
    "import seaborn as sns"
   ]
  },
  {
   "cell_type": "code",
   "execution_count": 2,
   "metadata": {},
   "outputs": [],
   "source": [
    "import collections\n",
    "from wordcloud import WordCloud"
   ]
  },
  {
   "cell_type": "code",
   "execution_count": 3,
   "metadata": {},
   "outputs": [],
   "source": [
    "df = pd.read_pickle(\"/home/dab3dj/git/dspg21RnD/data/dspg21RnD/final_dataset_7-20.pkl\")\n",
    "\n",
    "df.reset_index(inplace = True)"
   ]
  },
  {
   "cell_type": "markdown",
   "metadata": {},
   "source": [
    "#### Reading in already matched abstracts and gettings stats"
   ]
  },
  {
   "cell_type": "code",
   "execution_count": null,
   "metadata": {},
   "outputs": [],
   "source": [
    "ai = pd.read_csv(\"/home/dab3dj/git/dspg21RnD/data/dspg21RnD/term_matched_abstracts_final.csv\")\n"
   ]
  },
  {
   "cell_type": "code",
   "execution_count": 50,
   "metadata": {},
   "outputs": [],
   "source": [
    "ai = ai[ai['IS_AI']!= \"False\"]"
   ]
  },
  {
   "cell_type": "code",
   "execution_count": 52,
   "metadata": {},
   "outputs": [],
   "source": [
    "ai_years = ai['PROJECT_START_DATE']"
   ]
  },
  {
   "cell_type": "code",
   "execution_count": 22,
   "metadata": {},
   "outputs": [],
   "source": [
    "from datetime import datetime"
   ]
  },
  {
   "cell_type": "code",
   "execution_count": 53,
   "metadata": {},
   "outputs": [],
   "source": [
    "ai_years = pd.to_datetime(ai_years)"
   ]
  },
  {
   "cell_type": "code",
   "execution_count": 54,
   "metadata": {},
   "outputs": [],
   "source": [
    "ai_years = ai_years.dt.year"
   ]
  },
  {
   "cell_type": "code",
   "execution_count": 75,
   "metadata": {},
   "outputs": [
    {
     "data": {
      "image/png": "[encoded data removed]",
      "text/plain": [
       "<Figure size 432x288 with 1 Axes>"
      ]
     },
     "metadata": {
      "needs_background": "light"
     },
     "output_type": "display_data"
    }
   ],
   "source": [
    "# change to bar \n",
    "fig, ax = plt.subplots()\n",
    "ax.hist(ai_years, bins = 40)\n",
    "plt.title(\"Distribution of AI Project Start Dates\")\n",
    "plt.xlabel(\"Project Start Year\")\n",
    "plt.show()"
   ]
  },
  {
   "cell_type": "code",
   "execution_count": 76,
   "metadata": {},
   "outputs": [
    {
     "data": {
      "text/plain": [
       "<Figure size 432x288 with 0 Axes>"
      ]
     },
     "metadata": {},
     "output_type": "display_data"
    }
   ],
   "source": [
    "plt.savefig(\"project_years_hist.png\")"
   ]
  },
  {
   "cell_type": "code",
   "execution_count": 71,
   "metadata": {},
   "outputs": [],
   "source": [
    "ai_depts = ai['DEPARTMENT']"
   ]
  },
  {
   "cell_type": "code",
   "execution_count": 74,
   "metadata": {},
   "outputs": [
    {
     "data": {
      "image/png": "[encoded data removed]",
      "text/plain": [
       "<Figure size 432x288 with 1 Axes>"
      ]
     },
     "metadata": {
      "needs_background": "light"
     },
     "output_type": "display_data"
    }
   ],
   "source": [
    "# change to bar chart - prop \n",
    "fig, ax = plt.subplots()\n",
    "ax.hist(ai_depts, align='mid')\n",
    "plt.title(\"Distribution of AI Project Departments\")\n",
    "plt.xlabel(\"Department\")\n",
    "plt.show()"
   ]
  },
  {
   "cell_type": "markdown",
   "metadata": {},
   "source": [
    "#### Creating core and non-core query words\n",
    "##### Source: OECD Selected list of AI key term"
   ]
  },
  {
   "cell_type": "code",
   "execution_count": 4,
   "metadata": {},
   "outputs": [],
   "source": [
    "core_terms = [\"adaboost\",\"artificial intelligence\",\"artificial neural network\",\"back propagation\"\n",
    ",\"back propagation neural network\",\"computational intelligence\",\"computer vision\"\n",
    ",\"convolutional neural network\",\"deep belief network\",\"deep convolutional neural network\"\n",
    ",\"deep learn\",\"deep neural network\",\"elman network\",\"elman neural network\"\n",
    ",\"expert system\",\"fee forward neural network\",\"inference engine\",\"machine intelligence\"\n",
    ",\"machine learn\",\"machine translation\",\"machine vision\",\"multilayer neural network\"\n",
    ",\"natural language process\",\"perceptron\",\"random forest\",\"rbf neural network\",\"recurrent neural network\"\n",
    ",\"self organize map\",\"spike neural network\",\"supervise learn\",\"support vector machine\"\n",
    ",\"svm classifier\",\"unsupervised learn\",\"artificial_intelligence\",\"artificial_neural_network\",\"back_propagation\"\n",
    ",\"back_propagation_neural_network\",\"computational_intelligence\",\"computer_vision\"\n",
    ",\"convolutional_neural_network\",\"deep_belief_network\",\"deep_convolutional_neural_network\"\n",
    ",\"deep_learn\",\"deep_neural_network\",\"elman_network\",\"elman_neural_network\"\n",
    ",\"expert_system\",\"fee_forward_neural_network\",\"inference_engine\",\"machine_intelligence\"\n",
    ",\"machine_learn\",\"machine_translation\",\"machine_vision\",\"multilayer_neural_network\"\n",
    ",\"natural_language_process\",\"random_forest\",\"rbf_neural_network\",\"recurrent_neural_network\"\n",
    ",\"self_organize_map\",\"spike_neural_network\",\"supervise_learn\",\"support_vector_machine\"\n",
    ",\"svm_classifier\",\"unsupervised_learn\"]"
   ]
  },
  {
   "cell_type": "code",
   "execution_count": 5,
   "metadata": {},
   "outputs": [],
   "source": [
    "noncore_terms = [\"actor critic\", \"analog vlsi\", \"associative memory\", \"autonomous vehicle\", \"bayes classifer\",\n",
    "\"bayesian belief network\", \"bioinformatics\", \"camera calibration\", \"collaborative system\",\n",
    "\"commonsense reason\", \"computational biology\", \"datum mine\", \"decision tree\", \"description logic\",\n",
    "\"dimensionality reduction\", \"discriminant analysis\", \"fuzzy logic\", \"gene ontology\", \"hide markov model\",\n",
    "\"humanoid\", \"image alignment\", \"image match\", \"information retrieval\", \"kegg pathway\", \"knowledge base\", \n",
    "\"knowledge representation and reason\", \"linear discriminant\", \"markov decision process\",\n",
    "\"mulitclass classification\", \"naive bayes\", \"name entity recognition\", \"near neighbor classifier\", \n",
    "\"neural network\", \"neuro fuzzy\", \"neuromorphic compute\", \"neuromorphic hardware\", \"non rigid registration\", \n",
    "\"nonmonotonic reason\", \"object recognition\", \"opinion mine\", \"optimal search\", \"pattern analysis\", \n",
    "\"pattern recognition\", \"person re identification\", \"principal component analysis\", \"question answer\", \"radial basis function\",\n",
    "\"rbf kernel\", \"reinforcement learn\", \"rigid registration\", \"robot\", \"sarsa\", \"sensor datum fusion\", \n",
    "\"sensor network\", \"speech recognition\", \"stereo match\", \"symbolic reason\", \"system and control theory\",\n",
    "\"template match\", \"text categorization\", \"text mine\", \"text summarization\", \"word sense disambiguation\",\n",
    "\"actor_critic\", \"analog_vlsi\", \"associative_memory\", \"autonomous_vehicle\", \"bayes_classifer\",\n",
    "\"bayesian_belief_network\", \"camera_calibration\", \"collaborative_system\",\n",
    "\"commonsense_reason\", \"computational_biology\", \"datum_mine\", \"decision_tree\", \"description_logic\",\n",
    "\"dimensionality_reduction\", \"discriminant_analysis\", \"fuzzy_logic\", \"gene_ontology\", \"hide_markov_model\",\n",
    "\"image_alignment\", \"image_match\", \"information_retrieval\", \"kegg_pathway\", \"knowledge_base\", \n",
    "\"knowledge_representation_and_reason\", \"linear_discriminant\", \"markov_decision_process\",\n",
    "\"mulitclass_classification\", \"naive_bayes\", \"name_entity_recognition\", \"near_neighbor_classifier\", \n",
    "\"neural_network\", \"neuro_fuzzy\", \"neuromorphic_compute\", \"neuromorphic_hardware\", \"nonrigid_registration\", \n",
    "\"nonmonotonic_reason\", \"object_recognition\", \"opinion_mine\", \"optimal_search\", \"pattern_analysis\", \n",
    "\"pattern_recognition\", \"person_reidentification\", \"principal_component_analysis\", \"question_answer\", \"radial_basis_function\",\n",
    "\"rbf_kernel\", \"reinforcement_learn\", \"rigid_registration\", \"sensor_datum_fusion\", \n",
    "\"sensor_network\", \"speech_recognition\", \"stereo_match\", \"symbolic_reason\", \"system_and_control_theory\",\n",
    "\"template_match\", \"text_categorization\", \"text_mine\", \"text_summarization\", \"word_sense_disambiguation\"]"
   ]
  },
  {
   "cell_type": "code",
   "execution_count": null,
   "metadata": {},
   "outputs": [],
   "source": [
    "# import os\n",
    "# os.getcwd()"
   ]
  },
  {
   "cell_type": "code",
   "execution_count": 24,
   "metadata": {},
   "outputs": [],
   "source": [
    "# myPath = os.getcwd()\n",
    "# file_name= \"/sfs/qumulo/qhome/dab3dj/git/dspg21RnD/data/dspg21RnD/noncore_terms.pkl\"\n",
    "# open_file = open(file_name, \"wb\")\n",
    "# pickle.dump(noncore_terms, open_file)\n",
    "# open_file.close()"
   ]
  },
  {
   "cell_type": "code",
   "execution_count": 6,
   "metadata": {},
   "outputs": [
    {
     "data": {
      "text/html": [
       "<div>\n",
       "<style scoped>\n",
       "    .dataframe tbody tr th:only-of-type {\n",
       "        vertical-align: middle;\n",
       "    }\n",
       "\n",
       "    .dataframe tbody tr th {\n",
       "        vertical-align: top;\n",
       "    }\n",
       "\n",
       "    .dataframe thead th {\n",
       "        text-align: right;\n",
       "    }\n",
       "</style>\n",
       "<table border=\"1\" class=\"dataframe\">\n",
       "  <thead>\n",
       "    <tr style=\"text-align: right;\">\n",
       "      <th></th>\n",
       "      <th>index</th>\n",
       "      <th>original index</th>\n",
       "      <th>PROJECT_ID</th>\n",
       "      <th>ABSTRACT</th>\n",
       "      <th>FY</th>\n",
       "      <th>PROJECT_TERMS</th>\n",
       "      <th>PROJECT_TITLE</th>\n",
       "      <th>DEPARTMENT</th>\n",
       "      <th>AGENCY</th>\n",
       "      <th>IC_CENTER</th>\n",
       "      <th>...</th>\n",
       "      <th>working_abstract</th>\n",
       "      <th>Start_Char</th>\n",
       "      <th>nchar</th>\n",
       "      <th>LAST_CHAR</th>\n",
       "      <th>lemma_abstract</th>\n",
       "      <th>clean_lemmas</th>\n",
       "      <th>stopwds_removed</th>\n",
       "      <th>n_grams_added</th>\n",
       "      <th>final_tokens</th>\n",
       "      <th>final_frqwds_removed</th>\n",
       "    </tr>\n",
       "  </thead>\n",
       "  <tbody>\n",
       "    <tr>\n",
       "      <th>0</th>\n",
       "      <td>0</td>\n",
       "      <td>17608</td>\n",
       "      <td>152242</td>\n",
       "      <td>The multiprotein complex y-secretase proteolyt...</td>\n",
       "      <td>2008</td>\n",
       "      <td>Active Sites; Affect; Alzheimer's Disease; Amy...</td>\n",
       "      <td>STRUCTURE OF SIGNAL PEPTIDE PEPTIDASE</td>\n",
       "      <td>HHS</td>\n",
       "      <td>NIH</td>\n",
       "      <td>NaN</td>\n",
       "      <td>...</td>\n",
       "      <td>The multiprotein complex y-secretase proteolyt...</td>\n",
       "      <td>T</td>\n",
       "      <td>1402</td>\n",
       "      <td>g</td>\n",
       "      <td>[multiprotein, complex, y-secretase, proteolyt...</td>\n",
       "      <td>[multiprotein, complex, y-secretase, proteolyt...</td>\n",
       "      <td>[multiprotein, complex, y-secretase, proteolyt...</td>\n",
       "      <td>[multiprotein, complex, y-secretase, proteolyt...</td>\n",
       "      <td>[multiprotein, complex, y_secretase, proteolyt...</td>\n",
       "      <td>[multiprotein, y_secretase, proteolytically_cl...</td>\n",
       "    </tr>\n",
       "    <tr>\n",
       "      <th>1</th>\n",
       "      <td>1</td>\n",
       "      <td>111864</td>\n",
       "      <td>190316</td>\n",
       "      <td>DESCRIPTION (provided by applicant):   The Kis...</td>\n",
       "      <td>2008</td>\n",
       "      <td>Affect; Animal Model; Axon; Behavior; Behavior...</td>\n",
       "      <td>ROLE OF KISS1 NEURONS IN THE SEASONAL AND CIRC...</td>\n",
       "      <td>HHS</td>\n",
       "      <td>NIH</td>\n",
       "      <td>NaN</td>\n",
       "      <td>...</td>\n",
       "      <td>The Kissl gene encodes peptides called kisspep...</td>\n",
       "      <td>T</td>\n",
       "      <td>2553</td>\n",
       "      <td>y</td>\n",
       "      <td>[Kissl, gene, encode, peptide, call, kisspepti...</td>\n",
       "      <td>[kissl, gene, encode, peptide, call, kisspepti...</td>\n",
       "      <td>[kissl, gene, encode, peptide, kisspeptin, bin...</td>\n",
       "      <td>[kissl, gene, encode, peptide, kisspeptin, bin...</td>\n",
       "      <td>[kissl, gene, encode, peptide, kisspeptin, bin...</td>\n",
       "      <td>[kissl, gene, encode, peptide, kisspeptin, bin...</td>\n",
       "    </tr>\n",
       "    <tr>\n",
       "      <th>2</th>\n",
       "      <td>2</td>\n",
       "      <td>22052</td>\n",
       "      <td>154213</td>\n",
       "      <td>DESCRIPTION (provided by applicant): The objec...</td>\n",
       "      <td>2008</td>\n",
       "      <td>Agreement; Antibodies; base; Binding; Biochemi...</td>\n",
       "      <td>CARBONIC ANHYDRASE AS A MODEL TO UNDERSTAND DI...</td>\n",
       "      <td>HHS</td>\n",
       "      <td>NIH</td>\n",
       "      <td>NaN</td>\n",
       "      <td>...</td>\n",
       "      <td>The objective of this research is to understan...</td>\n",
       "      <td>T</td>\n",
       "      <td>1414</td>\n",
       "      <td>e</td>\n",
       "      <td>[objective, research, be, understand, biophysi...</td>\n",
       "      <td>[objective, research, be, understand, biophysi...</td>\n",
       "      <td>[objective, research, understand, biophysical,...</td>\n",
       "      <td>[objective, research, understand, biophysical,...</td>\n",
       "      <td>[objective, research, understand, biophysical,...</td>\n",
       "      <td>[biophysical, basis, thermodynamics_kinetic, m...</td>\n",
       "    </tr>\n",
       "    <tr>\n",
       "      <th>3</th>\n",
       "      <td>3</td>\n",
       "      <td>35004</td>\n",
       "      <td>159362</td>\n",
       "      <td>Obesity is the cause of many adverse pregnancy...</td>\n",
       "      <td>2008</td>\n",
       "      <td>African; Analysis of Variance; Asians; Birth; ...</td>\n",
       "      <td>OBESITY ON VAGAL TONE AND HBA1C DURING PREGNANCY</td>\n",
       "      <td>HHS</td>\n",
       "      <td>NIH</td>\n",
       "      <td>NaN</td>\n",
       "      <td>...</td>\n",
       "      <td>Obesity is the cause of many adverse pregnancy...</td>\n",
       "      <td>O</td>\n",
       "      <td>1545</td>\n",
       "      <td>d</td>\n",
       "      <td>[obesity, cause, many, adverse, pregnancyoutco...</td>\n",
       "      <td>[obesity, cause, many, adverse, pregnancyoutco...</td>\n",
       "      <td>[obesity, cause, adverse, pregnancyoutcome, re...</td>\n",
       "      <td>[obesity, cause, adverse_pregnancyoutcome, res...</td>\n",
       "      <td>[obesity, cause, adverse_pregnancyoutcome, res...</td>\n",
       "      <td>[obesity, adverse_pregnancyoutcome, great, hea...</td>\n",
       "    </tr>\n",
       "    <tr>\n",
       "      <th>4</th>\n",
       "      <td>4</td>\n",
       "      <td>371628</td>\n",
       "      <td>594482</td>\n",
       "      <td>Local potato advisory groups have expressed in...</td>\n",
       "      <td>2010</td>\n",
       "      <td>cost; Health; interest; Manure; Parasitic nema...</td>\n",
       "      <td>PLANT-PARASITIC NEMATODE MANAGEMENT AS A COMPO...</td>\n",
       "      <td>USDA</td>\n",
       "      <td>NIFA</td>\n",
       "      <td>NaN</td>\n",
       "      <td>...</td>\n",
       "      <td>Local potato advisory groups have expressed in...</td>\n",
       "      <td>L</td>\n",
       "      <td>271</td>\n",
       "      <td>s</td>\n",
       "      <td>[local, potato, advisory, group, express, inte...</td>\n",
       "      <td>[local, potato, advisory, group, express, inte...</td>\n",
       "      <td>[local, potato, advisory, group, express, inte...</td>\n",
       "      <td>[local, potato, advisory, group, express, inte...</td>\n",
       "      <td>[local, potato, advisory, group, express, inte...</td>\n",
       "      <td>[local, potato, advisory, express, interest, m...</td>\n",
       "    </tr>\n",
       "  </tbody>\n",
       "</table>\n",
       "<p>5 rows × 40 columns</p>\n",
       "</div>"
      ],
      "text/plain": [
       "   index  original index PROJECT_ID  \\\n",
       "0      0           17608     152242   \n",
       "1      1          111864     190316   \n",
       "2      2           22052     154213   \n",
       "3      3           35004     159362   \n",
       "4      4          371628     594482   \n",
       "\n",
       "                                            ABSTRACT    FY  \\\n",
       "0  The multiprotein complex y-secretase proteolyt...  2008   \n",
       "1  DESCRIPTION (provided by applicant):   The Kis...  2008   \n",
       "2  DESCRIPTION (provided by applicant): The objec...  2008   \n",
       "3  Obesity is the cause of many adverse pregnancy...  2008   \n",
       "4  Local potato advisory groups have expressed in...  2010   \n",
       "\n",
       "                                       PROJECT_TERMS  \\\n",
       "0  Active Sites; Affect; Alzheimer's Disease; Amy...   \n",
       "1  Affect; Animal Model; Axon; Behavior; Behavior...   \n",
       "2  Agreement; Antibodies; base; Binding; Biochemi...   \n",
       "3  African; Analysis of Variance; Asians; Birth; ...   \n",
       "4  cost; Health; interest; Manure; Parasitic nema...   \n",
       "\n",
       "                                       PROJECT_TITLE DEPARTMENT AGENCY  \\\n",
       "0              STRUCTURE OF SIGNAL PEPTIDE PEPTIDASE        HHS    NIH   \n",
       "1  ROLE OF KISS1 NEURONS IN THE SEASONAL AND CIRC...        HHS    NIH   \n",
       "2  CARBONIC ANHYDRASE AS A MODEL TO UNDERSTAND DI...        HHS    NIH   \n",
       "3   OBESITY ON VAGAL TONE AND HBA1C DURING PREGNANCY        HHS    NIH   \n",
       "4  PLANT-PARASITIC NEMATODE MANAGEMENT AS A COMPO...       USDA   NIFA   \n",
       "\n",
       "  IC_CENTER  ...                                   working_abstract  \\\n",
       "0       NaN  ...  The multiprotein complex y-secretase proteolyt...   \n",
       "1       NaN  ...  The Kissl gene encodes peptides called kisspep...   \n",
       "2       NaN  ...  The objective of this research is to understan...   \n",
       "3       NaN  ...  Obesity is the cause of many adverse pregnancy...   \n",
       "4       NaN  ...  Local potato advisory groups have expressed in...   \n",
       "\n",
       "  Start_Char nchar LAST_CHAR  \\\n",
       "0          T  1402         g   \n",
       "1          T  2553         y   \n",
       "2          T  1414         e   \n",
       "3          O  1545         d   \n",
       "4          L   271         s   \n",
       "\n",
       "                                      lemma_abstract  \\\n",
       "0  [multiprotein, complex, y-secretase, proteolyt...   \n",
       "1  [Kissl, gene, encode, peptide, call, kisspepti...   \n",
       "2  [objective, research, be, understand, biophysi...   \n",
       "3  [obesity, cause, many, adverse, pregnancyoutco...   \n",
       "4  [local, potato, advisory, group, express, inte...   \n",
       "\n",
       "                                        clean_lemmas  \\\n",
       "0  [multiprotein, complex, y-secretase, proteolyt...   \n",
       "1  [kissl, gene, encode, peptide, call, kisspepti...   \n",
       "2  [objective, research, be, understand, biophysi...   \n",
       "3  [obesity, cause, many, adverse, pregnancyoutco...   \n",
       "4  [local, potato, advisory, group, express, inte...   \n",
       "\n",
       "                                     stopwds_removed  \\\n",
       "0  [multiprotein, complex, y-secretase, proteolyt...   \n",
       "1  [kissl, gene, encode, peptide, kisspeptin, bin...   \n",
       "2  [objective, research, understand, biophysical,...   \n",
       "3  [obesity, cause, adverse, pregnancyoutcome, re...   \n",
       "4  [local, potato, advisory, group, express, inte...   \n",
       "\n",
       "                                       n_grams_added  \\\n",
       "0  [multiprotein, complex, y-secretase, proteolyt...   \n",
       "1  [kissl, gene, encode, peptide, kisspeptin, bin...   \n",
       "2  [objective, research, understand, biophysical,...   \n",
       "3  [obesity, cause, adverse_pregnancyoutcome, res...   \n",
       "4  [local, potato, advisory, group, express, inte...   \n",
       "\n",
       "                                        final_tokens  \\\n",
       "0  [multiprotein, complex, y_secretase, proteolyt...   \n",
       "1  [kissl, gene, encode, peptide, kisspeptin, bin...   \n",
       "2  [objective, research, understand, biophysical,...   \n",
       "3  [obesity, cause, adverse_pregnancyoutcome, res...   \n",
       "4  [local, potato, advisory, group, express, inte...   \n",
       "\n",
       "                                final_frqwds_removed  \n",
       "0  [multiprotein, y_secretase, proteolytically_cl...  \n",
       "1  [kissl, gene, encode, peptide, kisspeptin, bin...  \n",
       "2  [biophysical, basis, thermodynamics_kinetic, m...  \n",
       "3  [obesity, adverse_pregnancyoutcome, great, hea...  \n",
       "4  [local, potato, advisory, express, interest, m...  \n",
       "\n",
       "[5 rows x 40 columns]"
      ]
     },
     "execution_count": 6,
     "metadata": {},
     "output_type": "execute_result"
    }
   ],
   "source": [
    "df.head()"
   ]
  },
  {
   "cell_type": "markdown",
   "metadata": {},
   "source": [
    "#### Classifying "
   ]
  },
  {
   "cell_type": "code",
   "execution_count": 7,
   "metadata": {},
   "outputs": [],
   "source": [
    "def term_match(list):\n",
    "    matched_words = []\n",
    "    core_count = 0\n",
    "    noncore_count =0\n",
    "    for word in list:\n",
    "        if word in core_terms:\n",
    "            core_count+=1\n",
    "            matched_words.append(word)\n",
    "        if word in noncore_terms:\n",
    "            noncore_count+=1\n",
    "            matched_words.append(word)\n",
    "    if (core_count >= 1 or noncore_count >= 2):\n",
    "        return matched_words\n",
    "    else:\n",
    "        return False\n",
    "        "
   ]
  },
  {
   "cell_type": "code",
   "execution_count": null,
   "metadata": {},
   "outputs": [],
   "source": [
    "# function for looking for \"machine_learning\" -> \"machine\" \"learning\"\n",
    "# look at string matching"
   ]
  },
  {
   "cell_type": "code",
   "execution_count": 8,
   "metadata": {},
   "outputs": [],
   "source": [
    "df_classified = df"
   ]
  },
  {
   "cell_type": "code",
   "execution_count": 9,
   "metadata": {},
   "outputs": [],
   "source": [
    "df_classified['IS_AI']=df_classified['final_frqwds_removed'].apply(term_match)"
   ]
  },
  {
   "cell_type": "code",
   "execution_count": 10,
   "metadata": {},
   "outputs": [],
   "source": [
    "ai = df_classified[df_classified[\"IS_AI\"]!=False]"
   ]
  },
  {
   "cell_type": "code",
   "execution_count": 11,
   "metadata": {},
   "outputs": [
    {
     "name": "stdout",
     "output_type": "stream",
     "text": [
      "(2224, 41)\n"
     ]
    }
   ],
   "source": [
    "print(ai.shape)"
   ]
  },
  {
   "cell_type": "markdown",
   "metadata": {},
   "source": [
    "-----------------------------------------------------------------------"
   ]
  },
  {
   "cell_type": "markdown",
   "metadata": {},
   "source": [
    "### Percent of Abstracts Classified as AI with OECD Key Terms:\n",
    "* 2224/690814\n",
    "* ~0.32%"
   ]
  },
  {
   "cell_type": "markdown",
   "metadata": {},
   "source": [
    "---"
   ]
  },
  {
   "cell_type": "markdown",
   "metadata": {},
   "source": [
    "### Find most popular words key terms in abstracts "
   ]
  },
  {
   "cell_type": "code",
   "execution_count": 12,
   "metadata": {},
   "outputs": [],
   "source": [
    "classified_terms = ai['IS_AI']"
   ]
  },
  {
   "cell_type": "code",
   "execution_count": 119,
   "metadata": {},
   "outputs": [],
   "source": [
    "import ast"
   ]
  },
  {
   "cell_type": "code",
   "execution_count": 120,
   "metadata": {},
   "outputs": [
    {
     "ename": "ValueError",
     "evalue": "malformed node or string: 206                             ['artificial_intelligence']\n207                             ['artificial_intelligence']\n606                                      ['robot', 'robot']\n758                        ['convolutional_neural_network']\n2486                            ['robot', 'robot', 'robot']\n                                ...                        \n689629    ['robot', 'artificial_intelligence', 'artifici...\n689637    ['robot', 'robot', 'robot', 'robot', 'robot', ...\n689759                          ['artificial_intelligence']\n689838                          ['artificial_intelligence']\n689989                                   ['robot', 'robot']\nName: IS_AI, Length: 2224, dtype: object",
     "output_type": "error",
     "traceback": [
      "\u001b[0;31m---------------------------------------------------------------------------\u001b[0m",
      "\u001b[0;31mValueError\u001b[0m                                Traceback (most recent call last)",
      "\u001b[0;32m<ipython-input-120-cc4c311e1041>\u001b[0m in \u001b[0;36m<module>\u001b[0;34m\u001b[0m\n\u001b[0;32m----> 1\u001b[0;31m \u001b[0mast\u001b[0m\u001b[0;34m.\u001b[0m\u001b[0mliteral_eval\u001b[0m\u001b[0;34m(\u001b[0m\u001b[0mai\u001b[0m\u001b[0;34m[\u001b[0m\u001b[0;34m'IS_AI'\u001b[0m\u001b[0;34m]\u001b[0m\u001b[0;34m)\u001b[0m\u001b[0;34m\u001b[0m\u001b[0;34m\u001b[0m\u001b[0m\n\u001b[0m",
      "\u001b[0;32m~/.conda/envs/CO_BERT/lib/python3.8/ast.py\u001b[0m in \u001b[0;36mliteral_eval\u001b[0;34m(node_or_string)\u001b[0m\n\u001b[1;32m     97\u001b[0m                     \u001b[0;32mreturn\u001b[0m \u001b[0mleft\u001b[0m \u001b[0;34m-\u001b[0m \u001b[0mright\u001b[0m\u001b[0;34m\u001b[0m\u001b[0;34m\u001b[0m\u001b[0m\n\u001b[1;32m     98\u001b[0m         \u001b[0;32mreturn\u001b[0m \u001b[0m_convert_signed_num\u001b[0m\u001b[0;34m(\u001b[0m\u001b[0mnode\u001b[0m\u001b[0;34m)\u001b[0m\u001b[0;34m\u001b[0m\u001b[0;34m\u001b[0m\u001b[0m\n\u001b[0;32m---> 99\u001b[0;31m     \u001b[0;32mreturn\u001b[0m \u001b[0m_convert\u001b[0m\u001b[0;34m(\u001b[0m\u001b[0mnode_or_string\u001b[0m\u001b[0;34m)\u001b[0m\u001b[0;34m\u001b[0m\u001b[0;34m\u001b[0m\u001b[0m\n\u001b[0m\u001b[1;32m    100\u001b[0m \u001b[0;34m\u001b[0m\u001b[0m\n\u001b[1;32m    101\u001b[0m \u001b[0;34m\u001b[0m\u001b[0m\n",
      "\u001b[0;32m~/.conda/envs/CO_BERT/lib/python3.8/ast.py\u001b[0m in \u001b[0;36m_convert\u001b[0;34m(node)\u001b[0m\n\u001b[1;32m     96\u001b[0m                 \u001b[0;32melse\u001b[0m\u001b[0;34m:\u001b[0m\u001b[0;34m\u001b[0m\u001b[0;34m\u001b[0m\u001b[0m\n\u001b[1;32m     97\u001b[0m                     \u001b[0;32mreturn\u001b[0m \u001b[0mleft\u001b[0m \u001b[0;34m-\u001b[0m \u001b[0mright\u001b[0m\u001b[0;34m\u001b[0m\u001b[0;34m\u001b[0m\u001b[0m\n\u001b[0;32m---> 98\u001b[0;31m         \u001b[0;32mreturn\u001b[0m \u001b[0m_convert_signed_num\u001b[0m\u001b[0;34m(\u001b[0m\u001b[0mnode\u001b[0m\u001b[0;34m)\u001b[0m\u001b[0;34m\u001b[0m\u001b[0;34m\u001b[0m\u001b[0m\n\u001b[0m\u001b[1;32m     99\u001b[0m     \u001b[0;32mreturn\u001b[0m \u001b[0m_convert\u001b[0m\u001b[0;34m(\u001b[0m\u001b[0mnode_or_string\u001b[0m\u001b[0;34m)\u001b[0m\u001b[0;34m\u001b[0m\u001b[0;34m\u001b[0m\u001b[0m\n\u001b[1;32m    100\u001b[0m \u001b[0;34m\u001b[0m\u001b[0m\n",
      "\u001b[0;32m~/.conda/envs/CO_BERT/lib/python3.8/ast.py\u001b[0m in \u001b[0;36m_convert_signed_num\u001b[0;34m(node)\u001b[0m\n\u001b[1;32m     73\u001b[0m             \u001b[0;32melse\u001b[0m\u001b[0;34m:\u001b[0m\u001b[0;34m\u001b[0m\u001b[0;34m\u001b[0m\u001b[0m\n\u001b[1;32m     74\u001b[0m                 \u001b[0;32mreturn\u001b[0m \u001b[0;34m-\u001b[0m \u001b[0moperand\u001b[0m\u001b[0;34m\u001b[0m\u001b[0;34m\u001b[0m\u001b[0m\n\u001b[0;32m---> 75\u001b[0;31m         \u001b[0;32mreturn\u001b[0m \u001b[0m_convert_num\u001b[0m\u001b[0;34m(\u001b[0m\u001b[0mnode\u001b[0m\u001b[0;34m)\u001b[0m\u001b[0;34m\u001b[0m\u001b[0;34m\u001b[0m\u001b[0m\n\u001b[0m\u001b[1;32m     76\u001b[0m     \u001b[0;32mdef\u001b[0m \u001b[0m_convert\u001b[0m\u001b[0;34m(\u001b[0m\u001b[0mnode\u001b[0m\u001b[0;34m)\u001b[0m\u001b[0;34m:\u001b[0m\u001b[0;34m\u001b[0m\u001b[0;34m\u001b[0m\u001b[0m\n\u001b[1;32m     77\u001b[0m         \u001b[0;32mif\u001b[0m \u001b[0misinstance\u001b[0m\u001b[0;34m(\u001b[0m\u001b[0mnode\u001b[0m\u001b[0;34m,\u001b[0m \u001b[0mConstant\u001b[0m\u001b[0;34m)\u001b[0m\u001b[0;34m:\u001b[0m\u001b[0;34m\u001b[0m\u001b[0;34m\u001b[0m\u001b[0m\n",
      "\u001b[0;32m~/.conda/envs/CO_BERT/lib/python3.8/ast.py\u001b[0m in \u001b[0;36m_convert_num\u001b[0;34m(node)\u001b[0m\n\u001b[1;32m     64\u001b[0m     \u001b[0;32mdef\u001b[0m \u001b[0m_convert_num\u001b[0m\u001b[0;34m(\u001b[0m\u001b[0mnode\u001b[0m\u001b[0;34m)\u001b[0m\u001b[0;34m:\u001b[0m\u001b[0;34m\u001b[0m\u001b[0;34m\u001b[0m\u001b[0m\n\u001b[1;32m     65\u001b[0m         \u001b[0;32mif\u001b[0m \u001b[0;32mnot\u001b[0m \u001b[0misinstance\u001b[0m\u001b[0;34m(\u001b[0m\u001b[0mnode\u001b[0m\u001b[0;34m,\u001b[0m \u001b[0mConstant\u001b[0m\u001b[0;34m)\u001b[0m \u001b[0;32mor\u001b[0m \u001b[0mtype\u001b[0m\u001b[0;34m(\u001b[0m\u001b[0mnode\u001b[0m\u001b[0;34m.\u001b[0m\u001b[0mvalue\u001b[0m\u001b[0;34m)\u001b[0m \u001b[0;32mnot\u001b[0m \u001b[0;32min\u001b[0m \u001b[0;34m(\u001b[0m\u001b[0mint\u001b[0m\u001b[0;34m,\u001b[0m \u001b[0mfloat\u001b[0m\u001b[0;34m,\u001b[0m \u001b[0mcomplex\u001b[0m\u001b[0;34m)\u001b[0m\u001b[0;34m:\u001b[0m\u001b[0;34m\u001b[0m\u001b[0;34m\u001b[0m\u001b[0m\n\u001b[0;32m---> 66\u001b[0;31m             \u001b[0m_raise_malformed_node\u001b[0m\u001b[0;34m(\u001b[0m\u001b[0mnode\u001b[0m\u001b[0;34m)\u001b[0m\u001b[0;34m\u001b[0m\u001b[0;34m\u001b[0m\u001b[0m\n\u001b[0m\u001b[1;32m     67\u001b[0m         \u001b[0;32mreturn\u001b[0m \u001b[0mnode\u001b[0m\u001b[0;34m.\u001b[0m\u001b[0mvalue\u001b[0m\u001b[0;34m\u001b[0m\u001b[0;34m\u001b[0m\u001b[0m\n\u001b[1;32m     68\u001b[0m     \u001b[0;32mdef\u001b[0m \u001b[0m_convert_signed_num\u001b[0m\u001b[0;34m(\u001b[0m\u001b[0mnode\u001b[0m\u001b[0;34m)\u001b[0m\u001b[0;34m:\u001b[0m\u001b[0;34m\u001b[0m\u001b[0;34m\u001b[0m\u001b[0m\n",
      "\u001b[0;32m~/.conda/envs/CO_BERT/lib/python3.8/ast.py\u001b[0m in \u001b[0;36m_raise_malformed_node\u001b[0;34m(node)\u001b[0m\n\u001b[1;32m     61\u001b[0m         \u001b[0mnode_or_string\u001b[0m \u001b[0;34m=\u001b[0m \u001b[0mnode_or_string\u001b[0m\u001b[0;34m.\u001b[0m\u001b[0mbody\u001b[0m\u001b[0;34m\u001b[0m\u001b[0;34m\u001b[0m\u001b[0m\n\u001b[1;32m     62\u001b[0m     \u001b[0;32mdef\u001b[0m \u001b[0m_raise_malformed_node\u001b[0m\u001b[0;34m(\u001b[0m\u001b[0mnode\u001b[0m\u001b[0;34m)\u001b[0m\u001b[0;34m:\u001b[0m\u001b[0;34m\u001b[0m\u001b[0;34m\u001b[0m\u001b[0m\n\u001b[0;32m---> 63\u001b[0;31m         \u001b[0;32mraise\u001b[0m \u001b[0mValueError\u001b[0m\u001b[0;34m(\u001b[0m\u001b[0;34mf'malformed node or string: {node!r}'\u001b[0m\u001b[0;34m)\u001b[0m\u001b[0;34m\u001b[0m\u001b[0;34m\u001b[0m\u001b[0m\n\u001b[0m\u001b[1;32m     64\u001b[0m     \u001b[0;32mdef\u001b[0m \u001b[0m_convert_num\u001b[0m\u001b[0;34m(\u001b[0m\u001b[0mnode\u001b[0m\u001b[0;34m)\u001b[0m\u001b[0;34m:\u001b[0m\u001b[0;34m\u001b[0m\u001b[0;34m\u001b[0m\u001b[0m\n\u001b[1;32m     65\u001b[0m         \u001b[0;32mif\u001b[0m \u001b[0;32mnot\u001b[0m \u001b[0misinstance\u001b[0m\u001b[0;34m(\u001b[0m\u001b[0mnode\u001b[0m\u001b[0;34m,\u001b[0m \u001b[0mConstant\u001b[0m\u001b[0;34m)\u001b[0m \u001b[0;32mor\u001b[0m \u001b[0mtype\u001b[0m\u001b[0;34m(\u001b[0m\u001b[0mnode\u001b[0m\u001b[0;34m.\u001b[0m\u001b[0mvalue\u001b[0m\u001b[0;34m)\u001b[0m \u001b[0;32mnot\u001b[0m \u001b[0;32min\u001b[0m \u001b[0;34m(\u001b[0m\u001b[0mint\u001b[0m\u001b[0;34m,\u001b[0m \u001b[0mfloat\u001b[0m\u001b[0;34m,\u001b[0m \u001b[0mcomplex\u001b[0m\u001b[0;34m)\u001b[0m\u001b[0;34m:\u001b[0m\u001b[0;34m\u001b[0m\u001b[0;34m\u001b[0m\u001b[0m\n",
      "\u001b[0;31mValueError\u001b[0m: malformed node or string: 206                             ['artificial_intelligence']\n207                             ['artificial_intelligence']\n606                                      ['robot', 'robot']\n758                        ['convolutional_neural_network']\n2486                            ['robot', 'robot', 'robot']\n                                ...                        \n689629    ['robot', 'artificial_intelligence', 'artifici...\n689637    ['robot', 'robot', 'robot', 'robot', 'robot', ...\n689759                          ['artificial_intelligence']\n689838                          ['artificial_intelligence']\n689989                                   ['robot', 'robot']\nName: IS_AI, Length: 2224, dtype: object"
     ]
    }
   ],
   "source": [
    "ast.literal_eval(ai['IS_AI'])"
   ]
  },
  {
   "cell_type": "code",
   "execution_count": 111,
   "metadata": {},
   "outputs": [],
   "source": [
    "classified_terms = ai['final_frqwds_removed'].apply(set)"
   ]
  },
  {
   "cell_type": "code",
   "execution_count": 110,
   "metadata": {},
   "outputs": [
    {
     "data": {
      "text/plain": [
       "str"
      ]
     },
     "execution_count": 110,
     "metadata": {},
     "output_type": "execute_result"
    }
   ],
   "source": [
    "type(ai['final_frqwds_removed'].iloc[0])"
   ]
  },
  {
   "cell_type": "code",
   "execution_count": 13,
   "metadata": {},
   "outputs": [],
   "source": [
    "# convert list of words to set to remove duplicates\n",
    "classified_terms = classified_terms.apply(set)\n",
    "# convert back to list\n",
    "classified_terms = classified_terms.apply(list)"
   ]
  },
  {
   "cell_type": "code",
   "execution_count": 14,
   "metadata": {},
   "outputs": [],
   "source": [
    "classified_terms = classified_terms.apply(pd.Series).stack().reset_index(drop = True)"
   ]
  },
  {
   "cell_type": "code",
   "execution_count": 15,
   "metadata": {},
   "outputs": [
    {
     "data": {
      "text/plain": [
       "[('robot', 1289),\n",
       " ('artificial_intelligence', 776),\n",
       " ('autonomous_vehicle', 112),\n",
       " ('convolutional_neural_network', 94),\n",
       " ('humanoid', 35)]"
      ]
     },
     "execution_count": 15,
     "metadata": {},
     "output_type": "execute_result"
    }
   ],
   "source": [
    "c = collections.Counter(classified_terms)\n",
    "c.most_common(5)"
   ]
  },
  {
   "cell_type": "code",
   "execution_count": 20,
   "metadata": {},
   "outputs": [
    {
     "data": {
      "text/plain": [
       "array(['artificial_intelligence', 'robot', 'convolutional_neural_network',\n",
       "       'autonomous_vehicle', 'humanoid', 'neuromorphic_hardware',\n",
       "       'adaboost', 'dimensionality_reduction', 'perceptron',\n",
       "       'bioinformatics', 'linear_discriminant', 'naive_bayes',\n",
       "       'svm_classifier', 'fuzzy_logic', 'text_summarization',\n",
       "       'computer_vision', 'actor_critic'], dtype=object)"
      ]
     },
     "execution_count": 20,
     "metadata": {},
     "output_type": "execute_result"
    }
   ],
   "source": [
    "classified_terms.unique()"
   ]
  },
  {
   "cell_type": "markdown",
   "metadata": {},
   "source": [
    "#### Generating Word Cloud"
   ]
  },
  {
   "cell_type": "code",
   "execution_count": 17,
   "metadata": {},
   "outputs": [],
   "source": [
    "wordcloud = WordCloud(width = 800, height = 800,\n",
    "                      min_font_size = 10, \n",
    "                      background_color ='white').generate(' '.join(classified_terms))"
   ]
  },
  {
   "cell_type": "code",
   "execution_count": 80,
   "metadata": {},
   "outputs": [
    {
     "data": {
      "image/png": "[encoded data removed]",
      "text/plain": [
       "<Figure size 432x432 with 1 Axes>"
      ]
     },
     "metadata": {
      "needs_background": "light"
     },
     "output_type": "display_data"
    }
   ],
   "source": [
    "plt.figure(figsize = (6, 6), facecolor = None)\n",
    "plt.imshow(wordcloud)\n",
    "plt.axis(\"off\")\n",
    "plt.tight_layout(pad = 0)\n",
    "plt.show()"
   ]
  },
  {
   "cell_type": "markdown",
   "metadata": {},
   "source": [
    "#### Save classified dataframe"
   ]
  },
  {
   "cell_type": "code",
   "execution_count": 81,
   "metadata": {},
   "outputs": [],
   "source": [
    "df_classified.to_csv(\"classified_abstracts.csv\", index=False)"
   ]
  },
  {
   "cell_type": "code",
   "execution_count": null,
   "metadata": {},
   "outputs": [],
   "source": []
  }
 ],
 "metadata": {
  "kernelspec": {
   "display_name": "Python [conda env:.conda-CO_BERT]",
   "language": "python",
   "name": "conda-env-.conda-CO_BERT-py"
  },
  "language_info": {
   "codemirror_mode": {
    "name": "ipython",
    "version": 3
   },
   "file_extension": ".py",
   "mimetype": "text/x-python",
   "name": "python",
   "nbconvert_exporter": "python",
   "pygments_lexer": "ipython3",
   "version": "3.8.10"
  }
 },
 "nbformat": 4,
 "nbformat_minor": 4
}
