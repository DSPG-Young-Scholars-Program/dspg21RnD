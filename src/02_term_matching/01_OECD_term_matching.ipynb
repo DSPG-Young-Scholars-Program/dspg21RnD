{
 "cells": [
  {
   "cell_type": "markdown",
   "metadata": {},
   "source": [
    "## OECD Term Matching"
   ]
  },
  {
   "cell_type": "markdown",
   "metadata": {},
   "source": [
    "#### Author: Cierra Oliveira"
   ]
  },
  {
   "cell_type": "markdown",
   "metadata": {},
   "source": [
    "#### Date: 6/21/2021"
   ]
  },
  {
   "cell_type": "markdown",
   "metadata": {},
   "source": [
    "#### Importing libraries and data"
   ]
  },
  {
   "cell_type": "code",
   "execution_count": null,
   "metadata": {},
   "outputs": [],
   "source": [
    "import pandas as pd\n",
    "import numpy as np\n",
    "import pickle\n",
    "import matplotlib.pyplot as plt\n",
    "import gensim\n",
    "import time\n",
    "import seaborn as sns"
   ]
  },
  {
   "cell_type": "code",
   "execution_count": 60,
   "metadata": {},
   "outputs": [],
   "source": [
    "import collections\n",
    "from wordcloud import WordCloud"
   ]
  },
  {
   "cell_type": "code",
   "execution_count": 2,
   "metadata": {},
   "outputs": [],
   "source": [
    "df = pd.read_pickle(\"/home/dab3dj/git/dspg21RnD/data/dspg21RnD/final_dataset_7-20.pkl\")\n",
    "\n",
    "df.reset_index(inplace = True)"
   ]
  },
  {
   "cell_type": "markdown",
   "metadata": {},
   "source": [
    "#### Creating core and non-core query words\n",
    "##### Source: OECD Selected list of AI key term"
   ]
  },
  {
   "cell_type": "code",
   "execution_count": 4,
   "metadata": {},
   "outputs": [],
   "source": [
    "core_terms = [\"adaboost\",\"artificial intelligence\",\"artificial neural network\",\"back propagation\"\n",
    ",\"back propagation neural network\",\"computational intelligence\",\"computer vision\"\n",
    ",\"convolutional neural network\",\"deep belief network\",\"deep convolutional neural network\"\n",
    ",\"deep learn\",\"deep neural network\",\"elman network\",\"elman neural network\"\n",
    ",\"expert system\",\"fee forward neural network\",\"inference engine\",\"machine intelligence\"\n",
    ",\"machine learn\",\"machine translation\",\"machine vision\",\"multilayer neural network\"\n",
    ",\"natural language process\",\"perceptron\",\"random forest\",\"rbf neural network\",\"recurrent neural network\"\n",
    ",\"self organize map\",\"spike neural network\",\"supervise learn\",\"support vector machine\"\n",
    ",\"svm classifier\",\"unsupervised learn\",\"artificial_intelligence\",\"artificial_neural_network\",\"back_propagation\"\n",
    ",\"back_propagation_neural_network\",\"computational_intelligence\",\"computer_vision\"\n",
    ",\"convolutional_neural_network\",\"deep_belief_network\",\"deep_convolutional_neural_network\"\n",
    ",\"deep_learn\",\"deep_neural_network\",\"elman_network\",\"elman_neural_network\"\n",
    ",\"expert_system\",\"fee_forward_neural_network\",\"inference_engine\",\"machine_intelligence\"\n",
    ",\"machine_learn\",\"machine_translation\",\"machine_vision\",\"multilayer_neural_network\"\n",
    ",\"natural_language_process\",\"random_forest\",\"rbf_neural_network\",\"recurrent_neural_network\"\n",
    ",\"self_organize_map\",\"spike_neural_network\",\"supervise_learn\",\"support_vector_machine\"\n",
    ",\"svm_classifier\",\"unsupervised_learn\"]"
   ]
  },
  {
   "cell_type": "code",
   "execution_count": 5,
   "metadata": {},
   "outputs": [],
   "source": [
    "noncore_terms = [\"actor critic\", \"analog vlsi\", \"associative memory\", \"autonomous vehicle\", \"bayes classifer\",\n",
    "\"bayesian belief network\", \"bioinformatics\", \"camera calibration\", \"collaborative system\",\n",
    "\"commonsense reason\", \"computational biology\", \"datum mine\", \"decision tree\", \"description logic\",\n",
    "\"dimensionality reduction\", \"discriminant analysis\", \"fuzzy logic\", \"gene ontology\", \"hide markov model\",\n",
    "\"humanoid\", \"image alignment\", \"image match\", \"information retrieval\", \"kegg pathway\", \"knowledge base\", \n",
    "\"knowledge representation and reason\", \"linear discriminant\", \"markov decision process\",\n",
    "\"mulitclass classification\", \"naive bayes\", \"name entity recognition\", \"near neighbor classifier\", \n",
    "\"neural network\", \"neuro fuzzy\", \"neuromorphic compute\", \"neuromorphic hardware\", \"non rigid registration\", \n",
    "\"nonmonotonic reason\", \"object recognition\", \"opinion mine\", \"optimal search\", \"pattern analysis\", \n",
    "\"pattern recognition\", \"person re identification\", \"principal component analysis\", \"question answer\", \"radial basis function\",\n",
    "\"rbf kernel\", \"reinforcement learn\", \"rigid registration\", \"robot\", \"sarsa\", \"sensor datum fusion\", \n",
    "\"sensor network\", \"speech recognition\", \"stereo match\", \"symbolic reason\", \"system and control theory\",\n",
    "\"template match\", \"text categorization\", \"text mine\", \"text summarization\", \"word sense disambiguation\",\n",
    "\"actor_critic\", \"analog_vlsi\", \"associative_memory\", \"autonomous_vehicle\", \"bayes_classifer\",\n",
    "\"bayesian_belief_network\", \"camera_calibration\", \"collaborative_system\",\n",
    "\"commonsense_reason\", \"computational_biology\", \"datum_mine\", \"decision_tree\", \"description_logic\",\n",
    "\"dimensionality_reduction\", \"discriminant_analysis\", \"fuzzy_logic\", \"gene_ontology\", \"hide_markov_model\",\n",
    "\"image_alignment\", \"image_match\", \"information_retrieval\", \"kegg_pathway\", \"knowledge_base\", \n",
    "\"knowledge_representation_and_reason\", \"linear_discriminant\", \"markov_decision_process\",\n",
    "\"mulitclass_classification\", \"naive_bayes\", \"name_entity_recognition\", \"near_neighbor_classifier\", \n",
    "\"neural_network\", \"neuro_fuzzy\", \"neuromorphic_compute\", \"neuromorphic_hardware\", \"nonrigid_registration\", \n",
    "\"nonmonotonic_reason\", \"object_recognition\", \"opinion_mine\", \"optimal_search\", \"pattern_analysis\", \n",
    "\"pattern_recognition\", \"person_reidentification\", \"principal_component_analysis\", \"question_answer\", \"radial_basis_function\",\n",
    "\"rbf_kernel\", \"reinforcement_learn\", \"rigid_registration\", \"sensor_datum_fusion\", \n",
    "\"sensor_network\", \"speech_recognition\", \"stereo_match\", \"symbolic_reason\", \"system_and_control_theory\",\n",
    "\"template_match\", \"text_categorization\", \"text_mine\", \"text_summarization\", \"word_sense_disambiguation\"]"
   ]
  },
  {
   "cell_type": "code",
   "execution_count": null,
   "metadata": {},
   "outputs": [],
   "source": [
    "# import os\n",
    "# os.getcwd()"
   ]
  },
  {
   "cell_type": "code",
   "execution_count": 24,
   "metadata": {},
   "outputs": [],
   "source": [
    "# myPath = os.getcwd()\n",
    "# file_name= \"/sfs/qumulo/qhome/dab3dj/git/dspg21RnD/data/dspg21RnD/noncore_terms.pkl\"\n",
    "# open_file = open(file_name, \"wb\")\n",
    "# pickle.dump(noncore_terms, open_file)\n",
    "# open_file.close()"
   ]
  },
  {
   "cell_type": "markdown",
   "metadata": {},
   "source": [
    "#### Classifying "
   ]
  },
  {
   "cell_type": "code",
   "execution_count": 11,
   "metadata": {},
   "outputs": [],
   "source": [
    "def term_match(list):\n",
    "    matched_words = []\n",
    "    core_count = 0\n",
    "    noncore_count =0\n",
    "    for word in list:\n",
    "        if word in core_terms:\n",
    "            core_count+=1\n",
    "            matched_words.append(word)\n",
    "        if word in noncore_terms:\n",
    "            noncore_count+=1\n",
    "            matched_words.append(word)\n",
    "    if (core_count >= 1 or noncore_count >= 2):\n",
    "        return matched_words\n",
    "    else:\n",
    "        return False\n",
    "        "
   ]
  },
  {
   "cell_type": "code",
   "execution_count": 18,
   "metadata": {},
   "outputs": [],
   "source": [
    "df_classified = df"
   ]
  },
  {
   "cell_type": "code",
   "execution_count": 19,
   "metadata": {},
   "outputs": [],
   "source": [
    "df_classified['IS_AI']=df_classified['final_frqwds_removed'].apply(term_match)"
   ]
  },
  {
   "cell_type": "code",
   "execution_count": 20,
   "metadata": {},
   "outputs": [],
   "source": [
    "ai = df_classified[df_classified[\"IS_AI\"]!=False]"
   ]
  },
  {
   "cell_type": "code",
   "execution_count": 25,
   "metadata": {},
   "outputs": [
    {
     "name": "stdout",
     "output_type": "stream",
     "text": [
      "(2224, 41)\n",
      "(690814, 41)\n"
     ]
    }
   ],
   "source": [
    "print(ai.shape)\n",
    "print(df.shape)"
   ]
  },
  {
   "cell_type": "markdown",
   "metadata": {},
   "source": [
    "-----------------------------------------------------------------------"
   ]
  },
  {
   "cell_type": "markdown",
   "metadata": {},
   "source": [
    "### Percent of Abstracts Classified as AI with OECD Key Terms:\n",
    "* 2224/690814\n",
    "* ~0.32%"
   ]
  },
  {
   "cell_type": "markdown",
   "metadata": {},
   "source": [
    "---"
   ]
  },
  {
   "cell_type": "markdown",
   "metadata": {},
   "source": [
    "### Find most popular words key terms in abstracts "
   ]
  },
  {
   "cell_type": "code",
   "execution_count": 27,
   "metadata": {},
   "outputs": [],
   "source": [
    "classified_terms = ai['IS_AI']"
   ]
  },
  {
   "cell_type": "code",
   "execution_count": 34,
   "metadata": {},
   "outputs": [],
   "source": [
    "# convert list of words to set to remove duplicates\n",
    "classified_terms = classified_terms.apply(set)\n",
    "# convert back to list\n",
    "classified_terms = classified_terms.apply(list)"
   ]
  },
  {
   "cell_type": "code",
   "execution_count": 54,
   "metadata": {},
   "outputs": [],
   "source": [
    "classified_terms = classified_terms.apply(pd.Series).stack().reset_index(drop = True)"
   ]
  },
  {
   "cell_type": "code",
   "execution_count": 55,
   "metadata": {},
   "outputs": [
    {
     "data": {
      "text/plain": [
       "[('robot', 1289),\n",
       " ('artificial_intelligence', 776),\n",
       " ('autonomous_vehicle', 112),\n",
       " ('convolutional_neural_network', 94),\n",
       " ('humanoid', 35)]"
      ]
     },
     "execution_count": 55,
     "metadata": {},
     "output_type": "execute_result"
    }
   ],
   "source": [
    "c = collections.Counter(classified_terms)\n",
    "c.most_common(5)"
   ]
  },
  {
   "cell_type": "code",
   "execution_count": 74,
   "metadata": {},
   "outputs": [
    {
     "data": {
      "text/plain": [
       "17"
      ]
     },
     "execution_count": 74,
     "metadata": {},
     "output_type": "execute_result"
    }
   ],
   "source": [
    "len(classified_terms.unique())"
   ]
  },
  {
   "cell_type": "markdown",
   "metadata": {},
   "source": [
    "#### Generating Word Cloud"
   ]
  },
  {
   "cell_type": "code",
   "execution_count": 79,
   "metadata": {},
   "outputs": [],
   "source": [
    "wordcloud = WordCloud(width = 800, height = 800,\n",
    "                      min_font_size = 10, \n",
    "                      background_color ='white').generate(' '.join(classified_terms))"
   ]
  },
  {
   "cell_type": "code",
   "execution_count": 80,
   "metadata": {},
   "outputs": [
    {
     "data": {
      "image/png": "[encoded data removed]",
      "text/plain": [
       "<Figure size 432x432 with 1 Axes>"
      ]
     },
     "metadata": {
      "needs_background": "light"
     },
     "output_type": "display_data"
    }
   ],
   "source": [
    "plt.figure(figsize = (6, 6), facecolor = None)\n",
    "plt.imshow(wordcloud)\n",
    "plt.axis(\"off\")\n",
    "plt.tight_layout(pad = 0)\n",
    "plt.show()"
   ]
  },
  {
   "cell_type": "markdown",
   "metadata": {},
   "source": [
    "#### Save classified dataframe"
   ]
  },
  {
   "cell_type": "code",
   "execution_count": 81,
   "metadata": {},
   "outputs": [],
   "source": [
    "df_classified.to_csv(\"classified_abstracts.csv\", index=False)"
   ]
  },
  {
   "cell_type": "code",
   "execution_count": null,
   "metadata": {},
   "outputs": [],
   "source": []
  }
 ],
 "metadata": {
  "kernelspec": {
   "display_name": "Python [conda env:.conda-CO_BERT]",
   "language": "python",
   "name": "conda-env-.conda-CO_BERT-py"
  },
  "language_info": {
   "codemirror_mode": {
    "name": "ipython",
    "version": 3
   },
   "file_extension": ".py",
   "mimetype": "text/x-python",
   "name": "python",
   "nbconvert_exporter": "python",
   "pygments_lexer": "ipython3",
   "version": "3.8.10"
  }
 },
 "nbformat": 4,
 "nbformat_minor": 4
}
