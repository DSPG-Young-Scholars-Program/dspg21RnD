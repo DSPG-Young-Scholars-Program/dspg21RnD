{
 "cells": [
  {
   "cell_type": "markdown",
   "metadata": {},
   "source": [
    "# NMF Topic Modeling"
   ]
  },
  {
   "cell_type": "code",
   "execution_count": 130,
   "metadata": {},
   "outputs": [],
   "source": [
    "import pandas as pd\n",
    "import numpy as np\n",
    "import pickle\n",
    "import matplotlib.pyplot as plt\n",
    "import gensim\n",
    "import time\n",
    "\n",
    "from sklearn.decomposition import NMF, TruncatedSVD, LatentDirichletAllocation\n",
    "from sklearn.feature_extraction.text import CountVectorizer\n",
    "from sklearn.feature_extraction.text import TfidfVectorizer\n",
    "\n",
    "from gensim.models.coherencemodel import CoherenceModel\n",
    "\n",
    "from sklearn.linear_model import LinearRegression as lm\n",
    "\n",
    "import matplotlib.collections as mcol\n",
    "from matplotlib.legend_handler import HandlerLineCollection, HandlerTuple\n",
    "from matplotlib.lines import Line2D\n",
    "\n",
    "import seaborn as sns"
   ]
  },
  {
   "cell_type": "code",
   "execution_count": 66,
   "metadata": {},
   "outputs": [],
   "source": [
    "#TODO:Input a dataframe that are ai related abstracts, need variables: final_frqwds_removed\n",
    "abstracts = pd.read_csv(r'/home/zz3hs/git/dspg21RnD/data/dspg21RnD/new_matched_ai_abstracts.csv') "
   ]
  },
  {
   "cell_type": "code",
   "execution_count": 4,
   "metadata": {},
   "outputs": [
    {
     "data": {
      "text/plain": [
       "(7933, 38)"
      ]
     },
     "execution_count": 4,
     "metadata": {},
     "output_type": "execute_result"
    }
   ],
   "source": [
    "abstracts.head()"
   ]
  },
  {
   "cell_type": "markdown",
   "metadata": {},
   "source": [
    "# Coherence Model to find the optimal number of topics for NMF"
   ]
  },
  {
   "cell_type": "code",
   "execution_count": 5,
   "metadata": {},
   "outputs": [],
   "source": [
    "def createVars(docs):\n",
    "\n",
    "    # Create the variables needed for NMF from df[final_frqwds_removed]: dictionary (id2word), corpus\n",
    "    \n",
    "    # Create Dictionary\n",
    "    id2word = gensim.corpora.Dictionary(docs)\n",
    "\n",
    "    if len(docs) <= 100000:\n",
    "        id2word.filter_extremes(no_below=3, no_above=1.0,  keep_n = 100000)\n",
    "        print(\"Use keep_n = 100,000 defalt.\")\n",
    "    else:\n",
    "        id2word.filter_extremes(no_below=3, no_above=1.0,  keep_n = len(docs))\n",
    "        print(\"Number of documents exceed the dafalt number of 100,000. Use the keep_n = number of document.\")\n",
    "\n",
    "    # Create Corpus (Term Document Frequency)\n",
    "\n",
    "    #Creates a count for each unique word appearing in the document, where the word_id is substituted for the word\n",
    "    corpus = [id2word.doc2bow(doc) for doc in docs]\n",
    "\n",
    "    return id2word, corpus"
   ]
  },
  {
   "cell_type": "code",
   "execution_count": 6,
   "metadata": {},
   "outputs": [],
   "source": [
    "docs = abstracts[\"final_frqwds_removed\"]"
   ]
  },
  {
   "cell_type": "code",
   "execution_count": null,
   "metadata": {},
   "outputs": [],
   "source": [
    "clean_docs = []\n",
    "for doc in docs:\n",
    "    doc.replace(\"'\", \"\")\n",
    "    doc.replace(\"[\", \"\")\n",
    "    doc.replace(\"]\", \"\")\n",
    "    doc.split(',')\n",
    "    clean_docs.append(doc)"
   ]
  },
  {
   "cell_type": "code",
   "execution_count": 43,
   "metadata": {},
   "outputs": [],
   "source": [
    "import ast\n",
    "clean_docs = []\n",
    "for doc in docs:\n",
    "    doc = ast.literal_eval(doc)\n",
    "    clean_docs.append(doc)"
   ]
  },
  {
   "cell_type": "code",
   "execution_count": 46,
   "metadata": {},
   "outputs": [
    {
     "name": "stdout",
     "output_type": "stream",
     "text": [
      "Use keep_n = 100,000 defalt.\n"
     ]
    }
   ],
   "source": [
    "#TODO: run the following code to generate id2word and corpus\n",
    "#id2word, corpus = createVars(clean_docs)\n",
    "\n",
    "#TODO: RENAME the file, run the code to save the output\n",
    "#pickle.dump([corpus, id2word, clean_docs], open('../../data/dspg21RnD/coherence_vars_OECD.sav','wb'))"
   ]
  },
  {
   "cell_type": "markdown",
   "metadata": {},
   "source": [
    "# Read in Coherence file"
   ]
  },
  {
   "cell_type": "code",
   "execution_count": 47,
   "metadata": {},
   "outputs": [],
   "source": [
    "#TODO: Read in your coherence data (change the name of the file)\n",
    "f = open('../../data/dspg21RnD/coherence_vars_OECD.sav', 'rb')\n",
    "[corpus, id2word, docs] = pickle.load(f)\n",
    "f.close()"
   ]
  },
  {
   "cell_type": "code",
   "execution_count": 49,
   "metadata": {},
   "outputs": [],
   "source": [
    "text = []\n",
    "\n",
    "for abstract in docs:\n",
    "    text.append(\" \".join(abstract))"
   ]
  },
  {
   "cell_type": "code",
   "execution_count": 50,
   "metadata": {},
   "outputs": [
    {
     "data": {
      "text/plain": [
       "'bring strong interdisciplinary team powerful image processing database exponentially grow bio_molecular image enable generation bio_image informatic contemporary microscopic immunofluorescence_microscopy electron_microscopy gfp visualization atomic force microscopy enormously molecular cell biology individual lab generate thousand image weekly unfortunately image analyze label archive manually vast_majority image publish fact valuable inherent manual labeling archiving lack central searchable repository image sort analogous dna sequence database impediment progress essentially general description molecular cellular biology represent impediment progress emerge bio image informatic organizing processing urgently_need couple recent advance image processing pattern recognition mining enormous generate bio molecular imaging progress cellular subcelluar sttr effor technology transfer commericialization bring scientist desktop powerful image informatic easily accesible expect facilitate rapid advance computational biology increasingly dependent scale imaging technology end devlop simple powerful database scientist analyze share image database joint_venture mayachitram inc biology professor fisher feinstein university_california_santa barbara initial prototype thousand image database database able successfully test image processing database technology immunoflourescence iamge biologist sttr ii need simple flexible image database scientist analyze collection'"
      ]
     },
     "execution_count": 50,
     "metadata": {},
     "output_type": "execute_result"
    }
   ],
   "source": [
    "text[0]"
   ]
  },
  {
   "cell_type": "code",
   "execution_count": 51,
   "metadata": {},
   "outputs": [],
   "source": [
    "# function slightly modified from https://nlpforhackers.io/topic-modeling/\n",
    "\n",
    "def print_topics(model, vectorizer, top_n=10):\n",
    "    for idx, topic in enumerate(model.components_):  # loop through each row of H.  idx = row index.  topic = actual row\n",
    "        print(\"\\nTopic %d:\" % (idx))\n",
    "        #print([(vectorizer.get_feature_names()[i], topic[i])  # printing out words corresponding to indices found in next line\n",
    "                        #for i in topic.argsort()[:-top_n - 1:-1]])  # finding indices of top words in topic\n",
    "            \n",
    "        print_list = [(vectorizer.get_feature_names()[i], topic[i])  \n",
    "                        for i in topic.argsort()[:-top_n - 1:-1]]\n",
    "        for item in print_list:\n",
    "            print(item)\n",
    "            \n",
    "# Function to format topics as a \"list of list of strings\".\n",
    "# Needed for topic coherence function in Gensim\n",
    "\n",
    "# function modified from https://nlpforhackers.io/topic-modeling/\n",
    "\n",
    "def list_topics(model, vectorizer, top_n=10):\n",
    "\n",
    "    #input. top_n: how many words to list per topic.  If -1, then list all words.\n",
    "       \n",
    "    topic_words = []\n",
    "    \n",
    "    for idx, topic in enumerate(model.components_):  # loop through each row of H.  idx = row index.  topic = actual row\n",
    "            \n",
    "        if top_n == -1:   \n",
    "            topic_words.append([vectorizer.get_feature_names()[i] for i in topic.argsort()[::-1]])\n",
    "        else:\n",
    "            topic_words.append([vectorizer.get_feature_names()[i] for i in topic.argsort()[:-top_n - 1:-1]])\n",
    "        \n",
    "    return topic_words"
   ]
  },
  {
   "cell_type": "code",
   "execution_count": 123,
   "metadata": {},
   "outputs": [],
   "source": [
    "def str_topics(topic_term_mat, vectorizer, top_n=10):\n",
    "\n",
    "    #input. top_n: how many words to list per topic.  If -1, then list all words.\n",
    "       \n",
    "    topic_words = []\n",
    "    \n",
    "    for idx, topic in enumerate(topic_term_mat):  # loop through each row of H.  idx = row index.  topic = actual row\n",
    "            \n",
    "        if top_n == -1:   \n",
    "            topic_words.append([vectorizer.get_feature_names()[i] for i in topic.argsort()[::-1]])\n",
    "        else:\n",
    "            topic_words.append([vectorizer.get_feature_names()[i] for i in topic.argsort()[:-top_n - 1:-1]])\n",
    "    \n",
    "    str_wds = []\n",
    "    \n",
    "    for wds in topic_words:\n",
    "        str_wds.append(\", \".join(wds))    \n",
    "    \n",
    "    return str_wds "
   ]
  },
  {
   "cell_type": "code",
   "execution_count": 52,
   "metadata": {},
   "outputs": [],
   "source": [
    "# create document-term matrix - TFIDF \n",
    "tfidf_vectorizer = TfidfVectorizer(max_df=1.0, min_df=3)\n",
    "tf_idf = tfidf_vectorizer.fit_transform(text)"
   ]
  },
  {
   "cell_type": "code",
   "execution_count": 53,
   "metadata": {},
   "outputs": [],
   "source": [
    "# function adapted from https://datascienceplus.com/evaluation-of-topic-modeling-topic-coherence/\n",
    "\n",
    "def nmf_metrics(doc_term_matrix, n_topics, vectorizer, corpus, id2word, docs, rand_start):\n",
    "    \"\"\"\n",
    "    Compute c_v topic coherence for various number of topics\n",
    "    Parameters:\n",
    "    ----------\n",
    "    tf_idf\n",
    "    n_topics : list of number of topics\n",
    "    Returns:\n",
    "    -------\n",
    "    coherence_values : c_v topic coherence values corresponding to the NMF model with respective number of topics\n",
    "    \"\"\"\n",
    "    \n",
    "    coherence_values = []\n",
    "    \n",
    "    i = rand_start\n",
    "    for num_topics in n_topics:\n",
    "\n",
    "        # create model\n",
    "        t1 = time.time()\n",
    "        nmf_model = NMF(n_components=num_topics, random_state = i)\n",
    "        nmf_model.fit_transform(doc_term_matrix)\n",
    "        t2 = time.time()\n",
    "        print(f\"  Model time: {t2-t1}\")\n",
    "        \n",
    "        # create list of topics\n",
    "        topics = list_topics(nmf_model, vectorizer, top_n=10)\n",
    "        \n",
    "        # calculate coherence\n",
    "        t1 = time.time()\n",
    "        \n",
    "        #TODO:manually adjust number of processes\n",
    "        cm = CoherenceModel(topics=topics, corpus=corpus, dictionary=id2word, texts=docs, \n",
    "                            coherence='c_v', #model for calculating coherence score\n",
    "                            processes=14 #for smaller corpus, pronesses= number of cores - 1 \n",
    "                           ) #window_size=500 ) \n",
    "        coherence_values.append(cm.get_coherence())\n",
    "        t2 = time.time()\n",
    "        print(f\"  Coherence time: {t2-t1}\")\n",
    "        \n",
    "        # output completion message\n",
    "        i = i+1\n",
    "        print('Number of topics =', num_topics, \"complete.\")\n",
    "\n",
    "    return coherence_values\n"
   ]
  },
  {
   "cell_type": "code",
   "execution_count": null,
   "metadata": {},
   "outputs": [
    {
     "name": "stdout",
     "output_type": "stream",
     "text": [
      "Iteration 0\n"
     ]
    },
    {
     "name": "stderr",
     "output_type": "stream",
     "text": [
      "/home/dab3dj/.conda/envs/CO_BERT/lib/python3.8/site-packages/sklearn/decomposition/_nmf.py:312: FutureWarning: The 'init' value, when 'init=None' and n_components is less than n_samples and n_features, will be changed from 'nndsvd' to 'nndsvda' in 1.1 (renaming of 0.26).\n",
      "  warnings.warn((\"The 'init' value, when 'init=None' and \"\n"
     ]
    },
    {
     "name": "stdout",
     "output_type": "stream",
     "text": [
      "  Model time: 1.2432332038879395\n",
      "  Coherence time: 1.0035009384155273\n",
      "Number of topics = 5 complete.\n"
     ]
    },
    {
     "name": "stderr",
     "output_type": "stream",
     "text": [
      "/home/dab3dj/.conda/envs/CO_BERT/lib/python3.8/site-packages/sklearn/decomposition/_nmf.py:312: FutureWarning: The 'init' value, when 'init=None' and n_components is less than n_samples and n_features, will be changed from 'nndsvd' to 'nndsvda' in 1.1 (renaming of 0.26).\n",
      "  warnings.warn((\"The 'init' value, when 'init=None' and \"\n"
     ]
    },
    {
     "name": "stdout",
     "output_type": "stream",
     "text": [
      "  Model time: 1.6794192790985107\n",
      "  Coherence time: 1.296355962753296\n",
      "Number of topics = 10 complete.\n"
     ]
    },
    {
     "name": "stderr",
     "output_type": "stream",
     "text": [
      "/home/dab3dj/.conda/envs/CO_BERT/lib/python3.8/site-packages/sklearn/decomposition/_nmf.py:312: FutureWarning: The 'init' value, when 'init=None' and n_components is less than n_samples and n_features, will be changed from 'nndsvd' to 'nndsvda' in 1.1 (renaming of 0.26).\n",
      "  warnings.warn((\"The 'init' value, when 'init=None' and \"\n"
     ]
    },
    {
     "name": "stdout",
     "output_type": "stream",
     "text": [
      "  Model time: 1.322070598602295\n",
      "  Coherence time: 1.5550484657287598\n",
      "Number of topics = 15 complete.\n"
     ]
    },
    {
     "name": "stderr",
     "output_type": "stream",
     "text": [
      "/home/dab3dj/.conda/envs/CO_BERT/lib/python3.8/site-packages/sklearn/decomposition/_nmf.py:312: FutureWarning: The 'init' value, when 'init=None' and n_components is less than n_samples and n_features, will be changed from 'nndsvd' to 'nndsvda' in 1.1 (renaming of 0.26).\n",
      "  warnings.warn((\"The 'init' value, when 'init=None' and \"\n"
     ]
    },
    {
     "name": "stdout",
     "output_type": "stream",
     "text": [
      "  Model time: 2.8613054752349854\n",
      "  Coherence time: 1.8672547340393066\n",
      "Number of topics = 20 complete.\n"
     ]
    },
    {
     "name": "stderr",
     "output_type": "stream",
     "text": [
      "/home/dab3dj/.conda/envs/CO_BERT/lib/python3.8/site-packages/sklearn/decomposition/_nmf.py:312: FutureWarning: The 'init' value, when 'init=None' and n_components is less than n_samples and n_features, will be changed from 'nndsvd' to 'nndsvda' in 1.1 (renaming of 0.26).\n",
      "  warnings.warn((\"The 'init' value, when 'init=None' and \"\n"
     ]
    },
    {
     "name": "stdout",
     "output_type": "stream",
     "text": [
      "  Model time: 5.649856090545654\n",
      "  Coherence time: 2.3581058979034424\n",
      "Number of topics = 25 complete.\n"
     ]
    },
    {
     "name": "stderr",
     "output_type": "stream",
     "text": [
      "/home/dab3dj/.conda/envs/CO_BERT/lib/python3.8/site-packages/sklearn/decomposition/_nmf.py:312: FutureWarning: The 'init' value, when 'init=None' and n_components is less than n_samples and n_features, will be changed from 'nndsvd' to 'nndsvda' in 1.1 (renaming of 0.26).\n",
      "  warnings.warn((\"The 'init' value, when 'init=None' and \"\n",
      "/home/dab3dj/.conda/envs/CO_BERT/lib/python3.8/site-packages/sklearn/decomposition/_nmf.py:1090: ConvergenceWarning: Maximum number of iterations 200 reached. Increase it to improve convergence.\n",
      "  warnings.warn(\"Maximum number of iterations %d reached. Increase it to\"\n"
     ]
    },
    {
     "name": "stdout",
     "output_type": "stream",
     "text": [
      "  Model time: 12.244994163513184\n",
      "  Coherence time: 2.5184247493743896\n",
      "Number of topics = 30 complete.\n"
     ]
    },
    {
     "name": "stderr",
     "output_type": "stream",
     "text": [
      "/home/dab3dj/.conda/envs/CO_BERT/lib/python3.8/site-packages/sklearn/decomposition/_nmf.py:312: FutureWarning: The 'init' value, when 'init=None' and n_components is less than n_samples and n_features, will be changed from 'nndsvd' to 'nndsvda' in 1.1 (renaming of 0.26).\n",
      "  warnings.warn((\"The 'init' value, when 'init=None' and \"\n"
     ]
    },
    {
     "name": "stdout",
     "output_type": "stream",
     "text": [
      "  Model time: 8.913609981536865\n",
      "  Coherence time: 2.85158109664917\n",
      "Number of topics = 35 complete.\n"
     ]
    },
    {
     "name": "stderr",
     "output_type": "stream",
     "text": [
      "/home/dab3dj/.conda/envs/CO_BERT/lib/python3.8/site-packages/sklearn/decomposition/_nmf.py:312: FutureWarning: The 'init' value, when 'init=None' and n_components is less than n_samples and n_features, will be changed from 'nndsvd' to 'nndsvda' in 1.1 (renaming of 0.26).\n",
      "  warnings.warn((\"The 'init' value, when 'init=None' and \"\n",
      "/home/dab3dj/.conda/envs/CO_BERT/lib/python3.8/site-packages/sklearn/decomposition/_nmf.py:1090: ConvergenceWarning: Maximum number of iterations 200 reached. Increase it to improve convergence.\n",
      "  warnings.warn(\"Maximum number of iterations %d reached. Increase it to\"\n"
     ]
    },
    {
     "name": "stdout",
     "output_type": "stream",
     "text": [
      "  Model time: 18.75228714942932\n",
      "  Coherence time: 3.382577896118164\n",
      "Number of topics = 40 complete.\n"
     ]
    },
    {
     "name": "stderr",
     "output_type": "stream",
     "text": [
      "/home/dab3dj/.conda/envs/CO_BERT/lib/python3.8/site-packages/sklearn/decomposition/_nmf.py:312: FutureWarning: The 'init' value, when 'init=None' and n_components is less than n_samples and n_features, will be changed from 'nndsvd' to 'nndsvda' in 1.1 (renaming of 0.26).\n",
      "  warnings.warn((\"The 'init' value, when 'init=None' and \"\n"
     ]
    },
    {
     "name": "stdout",
     "output_type": "stream",
     "text": [
      "  Model time: 11.141007900238037\n",
      "  Coherence time: 3.6081488132476807\n",
      "Number of topics = 45 complete.\n"
     ]
    },
    {
     "name": "stderr",
     "output_type": "stream",
     "text": [
      "/home/dab3dj/.conda/envs/CO_BERT/lib/python3.8/site-packages/sklearn/decomposition/_nmf.py:312: FutureWarning: The 'init' value, when 'init=None' and n_components is less than n_samples and n_features, will be changed from 'nndsvd' to 'nndsvda' in 1.1 (renaming of 0.26).\n",
      "  warnings.warn((\"The 'init' value, when 'init=None' and \"\n"
     ]
    },
    {
     "name": "stdout",
     "output_type": "stream",
     "text": [
      "  Model time: 19.78833031654358\n",
      "  Coherence time: 4.122492074966431\n",
      "Number of topics = 50 complete.\n",
      "Iteration 1\n"
     ]
    },
    {
     "name": "stderr",
     "output_type": "stream",
     "text": [
      "/home/dab3dj/.conda/envs/CO_BERT/lib/python3.8/site-packages/sklearn/decomposition/_nmf.py:312: FutureWarning: The 'init' value, when 'init=None' and n_components is less than n_samples and n_features, will be changed from 'nndsvd' to 'nndsvda' in 1.1 (renaming of 0.26).\n",
      "  warnings.warn((\"The 'init' value, when 'init=None' and \"\n"
     ]
    },
    {
     "name": "stdout",
     "output_type": "stream",
     "text": [
      "  Model time: 1.2706055641174316\n",
      "  Coherence time: 1.0041415691375732\n",
      "Number of topics = 5 complete.\n"
     ]
    },
    {
     "name": "stderr",
     "output_type": "stream",
     "text": [
      "/home/dab3dj/.conda/envs/CO_BERT/lib/python3.8/site-packages/sklearn/decomposition/_nmf.py:312: FutureWarning: The 'init' value, when 'init=None' and n_components is less than n_samples and n_features, will be changed from 'nndsvd' to 'nndsvda' in 1.1 (renaming of 0.26).\n",
      "  warnings.warn((\"The 'init' value, when 'init=None' and \"\n"
     ]
    },
    {
     "name": "stdout",
     "output_type": "stream",
     "text": [
      "  Model time: 1.693101167678833\n",
      "  Coherence time: 1.526508092880249\n",
      "Number of topics = 10 complete.\n"
     ]
    },
    {
     "name": "stderr",
     "output_type": "stream",
     "text": [
      "/home/dab3dj/.conda/envs/CO_BERT/lib/python3.8/site-packages/sklearn/decomposition/_nmf.py:312: FutureWarning: The 'init' value, when 'init=None' and n_components is less than n_samples and n_features, will be changed from 'nndsvd' to 'nndsvda' in 1.1 (renaming of 0.26).\n",
      "  warnings.warn((\"The 'init' value, when 'init=None' and \"\n"
     ]
    },
    {
     "name": "stdout",
     "output_type": "stream",
     "text": [
      "  Model time: 1.7599194049835205\n",
      "  Coherence time: 1.6555166244506836\n",
      "Number of topics = 15 complete.\n"
     ]
    },
    {
     "name": "stderr",
     "output_type": "stream",
     "text": [
      "/home/dab3dj/.conda/envs/CO_BERT/lib/python3.8/site-packages/sklearn/decomposition/_nmf.py:312: FutureWarning: The 'init' value, when 'init=None' and n_components is less than n_samples and n_features, will be changed from 'nndsvd' to 'nndsvda' in 1.1 (renaming of 0.26).\n",
      "  warnings.warn((\"The 'init' value, when 'init=None' and \"\n",
      "/home/dab3dj/.conda/envs/CO_BERT/lib/python3.8/site-packages/sklearn/decomposition/_nmf.py:1090: ConvergenceWarning: Maximum number of iterations 200 reached. Increase it to improve convergence.\n",
      "  warnings.warn(\"Maximum number of iterations %d reached. Increase it to\"\n"
     ]
    },
    {
     "name": "stdout",
     "output_type": "stream",
     "text": [
      "  Model time: 7.561969041824341\n",
      "  Coherence time: 1.8935530185699463\n",
      "Number of topics = 20 complete.\n"
     ]
    },
    {
     "name": "stderr",
     "output_type": "stream",
     "text": [
      "/home/dab3dj/.conda/envs/CO_BERT/lib/python3.8/site-packages/sklearn/decomposition/_nmf.py:312: FutureWarning: The 'init' value, when 'init=None' and n_components is less than n_samples and n_features, will be changed from 'nndsvd' to 'nndsvda' in 1.1 (renaming of 0.26).\n",
      "  warnings.warn((\"The 'init' value, when 'init=None' and \"\n"
     ]
    }
   ],
   "source": [
    "# code copied from https://datascienceplus.com/evaluation-of-topic-modeling-topic-coherence/\n",
    "# minor alterations made\n",
    "n_topics = list(range(5,51,5)) #+ [75,100]\n",
    "num_runs = 10\n",
    "\n",
    "col_names = [f\"iteration {i}\" for i in range(num_runs)]\n",
    "nmf_c = pd.DataFrame(index = n_topics, columns = col_names)\n",
    "\n",
    "for i in range(num_runs):\n",
    "    \n",
    "    print(f\"Iteration {i}\")\n",
    "    \n",
    "    # run models\n",
    "    c = nmf_metrics(doc_term_matrix=tf_idf, n_topics=n_topics, vectorizer=tfidf_vectorizer, \n",
    "                         corpus=corpus, id2word=id2word, docs=docs, rand_start = (i)*len(n_topics))\n",
    "    \n",
    "    # save results\n",
    "    nmf_c[f\"iteration {i}\"] = c"
   ]
  },
  {
   "cell_type": "code",
   "execution_count": null,
   "metadata": {},
   "outputs": [],
   "source": [
    "# save results \n",
    "\n",
    "nmf_c.to_pickle(\"~/git/dspg21RnD/data/dspg21RnD/nmf_OECD_10.pkl\")"
   ]
  },
  {
   "cell_type": "code",
   "execution_count": 75,
   "metadata": {},
   "outputs": [],
   "source": [
    "# once you've saved results -> just load them\n",
    "f = open(\"/home/dab3dj/git/dspg21RnD/data/dspg21RnD/nmf_OECD_10.pkl\", 'rb')\n",
    "nmf_c = pickle.load(f)\n",
    "f.close()\n",
    "nmf_c['n_topics'] = nmf_c.index"
   ]
  },
  {
   "cell_type": "code",
   "execution_count": 89,
   "metadata": {},
   "outputs": [
    {
     "data": {
      "application/vnd.plotly.v1+json": {
       "config": {
        "plotlyServerURL": "https://plot.ly"
       },
       "data": [
        {
         "hovertemplate": "number of topics=%{x}<br>iteration 0=%{y}<extra></extra>",
         "legendgroup": "",
         "marker": {
          "color": "#636efa",
          "symbol": "circle"
         },
         "mode": "markers",
         "name": "",
         "orientation": "v",
         "showlegend": false,
         "type": "scatter",
         "x": [
          5,
          10,
          15,
          20,
          25,
          30,
          35,
          40,
          45,
          50
         ],
         "xaxis": "x",
         "y": [
          0.6523863666922354,
          0.7029709080037099,
          0.7127259114608588,
          0.7231249429749728,
          0.7106480131740222,
          0.6975845887300601,
          0.6775477937297586,
          0.6861192509555325,
          0.687392850427226,
          0.680178558710447
         ],
         "yaxis": "y"
        },
        {
         "hovertemplate": "number of topics=%{x}<br>iteration 1=%{y}<extra></extra>",
         "legendgroup": "",
         "marker": {
          "color": "#636efa",
          "symbol": "circle"
         },
         "mode": "markers",
         "name": "",
         "orientation": "v",
         "showlegend": false,
         "type": "scatter",
         "x": [
          5,
          10,
          15,
          20,
          25,
          30,
          35,
          40,
          45,
          50
         ],
         "xaxis": "x3",
         "y": [
          0.6523863666922354,
          0.7029709080037099,
          0.6962107054581922,
          0.6955451639516694,
          0.6966295729895781,
          0.696653463093612,
          0.6768551777459179,
          0.6840720532875274,
          0.6849045094347849,
          0.6810050518189008
         ],
         "yaxis": "y3"
        },
        {
         "hovertemplate": "number of topics=%{x}<br>iteration 2=%{y}<extra></extra>",
         "legendgroup": "",
         "marker": {
          "color": "#636efa",
          "symbol": "circle"
         },
         "mode": "markers",
         "name": "",
         "orientation": "v",
         "showlegend": false,
         "type": "scatter",
         "x": [
          5,
          10,
          15,
          20,
          25,
          30,
          35,
          40,
          45,
          50
         ],
         "xaxis": "x5",
         "y": [
          0.6523863666922354,
          0.7029709080037099,
          0.6962107054581922,
          0.7231249429749728,
          0.7051297753375263,
          0.6881446950979705,
          0.6799653957756944,
          0.6808282926908225,
          0.6807192031661209,
          0.6771983003591248
         ],
         "yaxis": "y5"
        },
        {
         "hovertemplate": "number of topics=%{x}<br>iteration 3=%{y}<extra></extra>",
         "legendgroup": "",
         "marker": {
          "color": "#636efa",
          "symbol": "circle"
         },
         "mode": "markers",
         "name": "",
         "orientation": "v",
         "showlegend": false,
         "type": "scatter",
         "x": [
          5,
          10,
          15,
          20,
          25,
          30,
          35,
          40,
          45,
          50
         ],
         "xaxis": "x7",
         "y": [
          0.6523863666922354,
          0.7029709080037099,
          0.7127259114608588,
          0.7110898357938684,
          0.7033037924441328,
          0.696653463093612,
          0.6786921456948891,
          0.6876168199694672,
          0.683535527394068,
          0.675862787639496
         ],
         "yaxis": "y7"
        },
        {
         "hovertemplate": "number of topics=%{x}<br>iteration 4=%{y}<extra></extra>",
         "legendgroup": "",
         "marker": {
          "color": "#636efa",
          "symbol": "circle"
         },
         "mode": "markers",
         "name": "",
         "orientation": "v",
         "showlegend": false,
         "type": "scatter",
         "x": [
          5,
          10,
          15,
          20,
          25,
          30,
          35,
          40,
          45,
          50
         ],
         "xaxis": "x9",
         "y": [
          0.6523863666922354,
          0.7029709080037099,
          0.6962107054581922,
          0.7110898357938684,
          0.7011987382710767,
          0.6840619280515661,
          0.6855861982547539,
          0.6825884539626349,
          0.6858197185252912,
          0.6753969111820711
         ],
         "yaxis": "y9"
        },
        {
         "hovertemplate": "number of topics=%{x}<br>iteration 5=%{y}<extra></extra>",
         "legendgroup": "",
         "marker": {
          "color": "#636efa",
          "symbol": "circle"
         },
         "mode": "markers",
         "name": "",
         "orientation": "v",
         "showlegend": false,
         "type": "scatter",
         "x": [
          5,
          10,
          15,
          20,
          25,
          30,
          35,
          40,
          45,
          50
         ],
         "xaxis": "x2",
         "y": [
          0.6523863666922354,
          0.7029709080037099,
          0.6962107054581922,
          0.7110898357938684,
          0.7025860508931403,
          0.6775340986476244,
          0.684172666779536,
          0.6822591283512598,
          0.6703080341901304,
          0.6809212760452038
         ],
         "yaxis": "y2"
        },
        {
         "hovertemplate": "number of topics=%{x}<br>iteration 6=%{y}<extra></extra>",
         "legendgroup": "",
         "marker": {
          "color": "#636efa",
          "symbol": "circle"
         },
         "mode": "markers",
         "name": "",
         "orientation": "v",
         "showlegend": false,
         "type": "scatter",
         "x": [
          5,
          10,
          15,
          20,
          25,
          30,
          35,
          40,
          45,
          50
         ],
         "xaxis": "x4",
         "y": [
          0.6523863666922354,
          0.7029709080037099,
          0.6962107054581922,
          0.7110898357938684,
          0.7154008010625854,
          0.6999766925041827,
          0.6944086888733241,
          0.6802018275995828,
          0.6786092919192737,
          0.6709821522976049
         ],
         "yaxis": "y4"
        },
        {
         "hovertemplate": "number of topics=%{x}<br>iteration 7=%{y}<extra></extra>",
         "legendgroup": "",
         "marker": {
          "color": "#636efa",
          "symbol": "circle"
         },
         "mode": "markers",
         "name": "",
         "orientation": "v",
         "showlegend": false,
         "type": "scatter",
         "x": [
          5,
          10,
          15,
          20,
          25,
          30,
          35,
          40,
          45,
          50
         ],
         "xaxis": "x6",
         "y": [
          0.6523863666922354,
          0.7029709080037099,
          0.6962107054581922,
          0.7231249429749728,
          0.7034442786070209,
          0.6932496789973507,
          0.6720720980693909,
          0.6803056498540718,
          0.6843558411439055,
          0.6752456660610892
         ],
         "yaxis": "y6"
        },
        {
         "hovertemplate": "number of topics=%{x}<br>iteration 8=%{y}<extra></extra>",
         "legendgroup": "",
         "marker": {
          "color": "#636efa",
          "symbol": "circle"
         },
         "mode": "markers",
         "name": "",
         "orientation": "v",
         "showlegend": false,
         "type": "scatter",
         "x": [
          5,
          10,
          15,
          20,
          25,
          30,
          35,
          40,
          45,
          50
         ],
         "xaxis": "x8",
         "y": [
          0.6523863666922354,
          0.7029709080037099,
          0.6962107054581922,
          0.7110898357938684,
          0.7123631221033975,
          0.6958700417375068,
          0.682946345737364,
          0.6832501069836786,
          0.6690282202586713,
          0.6694766219689321
         ],
         "yaxis": "y8"
        },
        {
         "hovertemplate": "number of topics=%{x}<br>iteration 9=%{y}<extra></extra>",
         "legendgroup": "",
         "marker": {
          "color": "#636efa",
          "symbol": "circle"
         },
         "mode": "markers",
         "name": "",
         "orientation": "v",
         "showlegend": false,
         "type": "scatter",
         "x": [
          5,
          10,
          15,
          20,
          25,
          30,
          35,
          40,
          45,
          50
         ],
         "xaxis": "x10",
         "y": [
          0.6523863666922354,
          0.7029709080037099,
          0.7127259114608588,
          0.7110898357938684,
          0.7051297753375263,
          0.6974653322061599,
          0.682744066522068,
          0.6861048079672748,
          0.674434767469899,
          0.6780139411578398
         ],
         "yaxis": "y10"
        }
       ],
       "layout": {
        "autosize": true,
        "template": {
         "data": {
          "bar": [
           {
            "error_x": {
             "color": "#2a3f5f"
            },
            "error_y": {
             "color": "#2a3f5f"
            },
            "marker": {
             "line": {
              "color": "#E5ECF6",
              "width": 0.5
             },
             "pattern": {
              "fillmode": "overlay",
              "size": 10,
              "solidity": 0.2
             }
            },
            "type": "bar"
           }
          ],
          "barpolar": [
           {
            "marker": {
             "line": {
              "color": "#E5ECF6",
              "width": 0.5
             },
             "pattern": {
              "fillmode": "overlay",
              "size": 10,
              "solidity": 0.2
             }
            },
            "type": "barpolar"
           }
          ],
          "carpet": [
           {
            "aaxis": {
             "endlinecolor": "#2a3f5f",
             "gridcolor": "white",
             "linecolor": "white",
             "minorgridcolor": "white",
             "startlinecolor": "#2a3f5f"
            },
            "baxis": {
             "endlinecolor": "#2a3f5f",
             "gridcolor": "white",
             "linecolor": "white",
             "minorgridcolor": "white",
             "startlinecolor": "#2a3f5f"
            },
            "type": "carpet"
           }
          ],
          "choropleth": [
           {
            "colorbar": {
             "outlinewidth": 0,
             "ticks": ""
            },
            "type": "choropleth"
           }
          ],
          "contour": [
           {
            "colorbar": {
             "outlinewidth": 0,
             "ticks": ""
            },
            "colorscale": [
             [
              0,
              "#0d0887"
             ],
             [
              0.1111111111111111,
              "#46039f"
             ],
             [
              0.2222222222222222,
              "#7201a8"
             ],
             [
              0.3333333333333333,
              "#9c179e"
             ],
             [
              0.4444444444444444,
              "#bd3786"
             ],
             [
              0.5555555555555556,
              "#d8576b"
             ],
             [
              0.6666666666666666,
              "#ed7953"
             ],
             [
              0.7777777777777778,
              "#fb9f3a"
             ],
             [
              0.8888888888888888,
              "#fdca26"
             ],
             [
              1,
              "#f0f921"
             ]
            ],
            "type": "contour"
           }
          ],
          "contourcarpet": [
           {
            "colorbar": {
             "outlinewidth": 0,
             "ticks": ""
            },
            "type": "contourcarpet"
           }
          ],
          "heatmap": [
           {
            "colorbar": {
             "outlinewidth": 0,
             "ticks": ""
            },
            "colorscale": [
             [
              0,
              "#0d0887"
             ],
             [
              0.1111111111111111,
              "#46039f"
             ],
             [
              0.2222222222222222,
              "#7201a8"
             ],
             [
              0.3333333333333333,
              "#9c179e"
             ],
             [
              0.4444444444444444,
              "#bd3786"
             ],
             [
              0.5555555555555556,
              "#d8576b"
             ],
             [
              0.6666666666666666,
              "#ed7953"
             ],
             [
              0.7777777777777778,
              "#fb9f3a"
             ],
             [
              0.8888888888888888,
              "#fdca26"
             ],
             [
              1,
              "#f0f921"
             ]
            ],
            "type": "heatmap"
           }
          ],
          "heatmapgl": [
           {
            "colorbar": {
             "outlinewidth": 0,
             "ticks": ""
            },
            "colorscale": [
             [
              0,
              "#0d0887"
             ],
             [
              0.1111111111111111,
              "#46039f"
             ],
             [
              0.2222222222222222,
              "#7201a8"
             ],
             [
              0.3333333333333333,
              "#9c179e"
             ],
             [
              0.4444444444444444,
              "#bd3786"
             ],
             [
              0.5555555555555556,
              "#d8576b"
             ],
             [
              0.6666666666666666,
              "#ed7953"
             ],
             [
              0.7777777777777778,
              "#fb9f3a"
             ],
             [
              0.8888888888888888,
              "#fdca26"
             ],
             [
              1,
              "#f0f921"
             ]
            ],
            "type": "heatmapgl"
           }
          ],
          "histogram": [
           {
            "marker": {
             "pattern": {
              "fillmode": "overlay",
              "size": 10,
              "solidity": 0.2
             }
            },
            "type": "histogram"
           }
          ],
          "histogram2d": [
           {
            "colorbar": {
             "outlinewidth": 0,
             "ticks": ""
            },
            "colorscale": [
             [
              0,
              "#0d0887"
             ],
             [
              0.1111111111111111,
              "#46039f"
             ],
             [
              0.2222222222222222,
              "#7201a8"
             ],
             [
              0.3333333333333333,
              "#9c179e"
             ],
             [
              0.4444444444444444,
              "#bd3786"
             ],
             [
              0.5555555555555556,
              "#d8576b"
             ],
             [
              0.6666666666666666,
              "#ed7953"
             ],
             [
              0.7777777777777778,
              "#fb9f3a"
             ],
             [
              0.8888888888888888,
              "#fdca26"
             ],
             [
              1,
              "#f0f921"
             ]
            ],
            "type": "histogram2d"
           }
          ],
          "histogram2dcontour": [
           {
            "colorbar": {
             "outlinewidth": 0,
             "ticks": ""
            },
            "colorscale": [
             [
              0,
              "#0d0887"
             ],
             [
              0.1111111111111111,
              "#46039f"
             ],
             [
              0.2222222222222222,
              "#7201a8"
             ],
             [
              0.3333333333333333,
              "#9c179e"
             ],
             [
              0.4444444444444444,
              "#bd3786"
             ],
             [
              0.5555555555555556,
              "#d8576b"
             ],
             [
              0.6666666666666666,
              "#ed7953"
             ],
             [
              0.7777777777777778,
              "#fb9f3a"
             ],
             [
              0.8888888888888888,
              "#fdca26"
             ],
             [
              1,
              "#f0f921"
             ]
            ],
            "type": "histogram2dcontour"
           }
          ],
          "mesh3d": [
           {
            "colorbar": {
             "outlinewidth": 0,
             "ticks": ""
            },
            "type": "mesh3d"
           }
          ],
          "parcoords": [
           {
            "line": {
             "colorbar": {
              "outlinewidth": 0,
              "ticks": ""
             }
            },
            "type": "parcoords"
           }
          ],
          "pie": [
           {
            "automargin": true,
            "type": "pie"
           }
          ],
          "scatter": [
           {
            "marker": {
             "colorbar": {
              "outlinewidth": 0,
              "ticks": ""
             }
            },
            "type": "scatter"
           }
          ],
          "scatter3d": [
           {
            "line": {
             "colorbar": {
              "outlinewidth": 0,
              "ticks": ""
             }
            },
            "marker": {
             "colorbar": {
              "outlinewidth": 0,
              "ticks": ""
             }
            },
            "type": "scatter3d"
           }
          ],
          "scattercarpet": [
           {
            "marker": {
             "colorbar": {
              "outlinewidth": 0,
              "ticks": ""
             }
            },
            "type": "scattercarpet"
           }
          ],
          "scattergeo": [
           {
            "marker": {
             "colorbar": {
              "outlinewidth": 0,
              "ticks": ""
             }
            },
            "type": "scattergeo"
           }
          ],
          "scattergl": [
           {
            "marker": {
             "colorbar": {
              "outlinewidth": 0,
              "ticks": ""
             }
            },
            "type": "scattergl"
           }
          ],
          "scattermapbox": [
           {
            "marker": {
             "colorbar": {
              "outlinewidth": 0,
              "ticks": ""
             }
            },
            "type": "scattermapbox"
           }
          ],
          "scatterpolar": [
           {
            "marker": {
             "colorbar": {
              "outlinewidth": 0,
              "ticks": ""
             }
            },
            "type": "scatterpolar"
           }
          ],
          "scatterpolargl": [
           {
            "marker": {
             "colorbar": {
              "outlinewidth": 0,
              "ticks": ""
             }
            },
            "type": "scatterpolargl"
           }
          ],
          "scatterternary": [
           {
            "marker": {
             "colorbar": {
              "outlinewidth": 0,
              "ticks": ""
             }
            },
            "type": "scatterternary"
           }
          ],
          "surface": [
           {
            "colorbar": {
             "outlinewidth": 0,
             "ticks": ""
            },
            "colorscale": [
             [
              0,
              "#0d0887"
             ],
             [
              0.1111111111111111,
              "#46039f"
             ],
             [
              0.2222222222222222,
              "#7201a8"
             ],
             [
              0.3333333333333333,
              "#9c179e"
             ],
             [
              0.4444444444444444,
              "#bd3786"
             ],
             [
              0.5555555555555556,
              "#d8576b"
             ],
             [
              0.6666666666666666,
              "#ed7953"
             ],
             [
              0.7777777777777778,
              "#fb9f3a"
             ],
             [
              0.8888888888888888,
              "#fdca26"
             ],
             [
              1,
              "#f0f921"
             ]
            ],
            "type": "surface"
           }
          ],
          "table": [
           {
            "cells": {
             "fill": {
              "color": "#EBF0F8"
             },
             "line": {
              "color": "white"
             }
            },
            "header": {
             "fill": {
              "color": "#C8D4E3"
             },
             "line": {
              "color": "white"
             }
            },
            "type": "table"
           }
          ]
         },
         "layout": {
          "annotationdefaults": {
           "arrowcolor": "#2a3f5f",
           "arrowhead": 0,
           "arrowwidth": 1
          },
          "autotypenumbers": "strict",
          "coloraxis": {
           "colorbar": {
            "outlinewidth": 0,
            "ticks": ""
           }
          },
          "colorscale": {
           "diverging": [
            [
             0,
             "#8e0152"
            ],
            [
             0.1,
             "#c51b7d"
            ],
            [
             0.2,
             "#de77ae"
            ],
            [
             0.3,
             "#f1b6da"
            ],
            [
             0.4,
             "#fde0ef"
            ],
            [
             0.5,
             "#f7f7f7"
            ],
            [
             0.6,
             "#e6f5d0"
            ],
            [
             0.7,
             "#b8e186"
            ],
            [
             0.8,
             "#7fbc41"
            ],
            [
             0.9,
             "#4d9221"
            ],
            [
             1,
             "#276419"
            ]
           ],
           "sequential": [
            [
             0,
             "#0d0887"
            ],
            [
             0.1111111111111111,
             "#46039f"
            ],
            [
             0.2222222222222222,
             "#7201a8"
            ],
            [
             0.3333333333333333,
             "#9c179e"
            ],
            [
             0.4444444444444444,
             "#bd3786"
            ],
            [
             0.5555555555555556,
             "#d8576b"
            ],
            [
             0.6666666666666666,
             "#ed7953"
            ],
            [
             0.7777777777777778,
             "#fb9f3a"
            ],
            [
             0.8888888888888888,
             "#fdca26"
            ],
            [
             1,
             "#f0f921"
            ]
           ],
           "sequentialminus": [
            [
             0,
             "#0d0887"
            ],
            [
             0.1111111111111111,
             "#46039f"
            ],
            [
             0.2222222222222222,
             "#7201a8"
            ],
            [
             0.3333333333333333,
             "#9c179e"
            ],
            [
             0.4444444444444444,
             "#bd3786"
            ],
            [
             0.5555555555555556,
             "#d8576b"
            ],
            [
             0.6666666666666666,
             "#ed7953"
            ],
            [
             0.7777777777777778,
             "#fb9f3a"
            ],
            [
             0.8888888888888888,
             "#fdca26"
            ],
            [
             1,
             "#f0f921"
            ]
           ]
          },
          "colorway": [
           "#636efa",
           "#EF553B",
           "#00cc96",
           "#ab63fa",
           "#FFA15A",
           "#19d3f3",
           "#FF6692",
           "#B6E880",
           "#FF97FF",
           "#FECB52"
          ],
          "font": {
           "color": "#2a3f5f"
          },
          "geo": {
           "bgcolor": "white",
           "lakecolor": "white",
           "landcolor": "#E5ECF6",
           "showlakes": true,
           "showland": true,
           "subunitcolor": "white"
          },
          "hoverlabel": {
           "align": "left"
          },
          "hovermode": "closest",
          "mapbox": {
           "style": "light"
          },
          "paper_bgcolor": "white",
          "plot_bgcolor": "#E5ECF6",
          "polar": {
           "angularaxis": {
            "gridcolor": "white",
            "linecolor": "white",
            "ticks": ""
           },
           "bgcolor": "#E5ECF6",
           "radialaxis": {
            "gridcolor": "white",
            "linecolor": "white",
            "ticks": ""
           }
          },
          "scene": {
           "xaxis": {
            "backgroundcolor": "#E5ECF6",
            "gridcolor": "white",
            "gridwidth": 2,
            "linecolor": "white",
            "showbackground": true,
            "ticks": "",
            "zerolinecolor": "white"
           },
           "yaxis": {
            "backgroundcolor": "#E5ECF6",
            "gridcolor": "white",
            "gridwidth": 2,
            "linecolor": "white",
            "showbackground": true,
            "ticks": "",
            "zerolinecolor": "white"
           },
           "zaxis": {
            "backgroundcolor": "#E5ECF6",
            "gridcolor": "white",
            "gridwidth": 2,
            "linecolor": "white",
            "showbackground": true,
            "ticks": "",
            "zerolinecolor": "white"
           }
          },
          "shapedefaults": {
           "line": {
            "color": "#2a3f5f"
           }
          },
          "ternary": {
           "aaxis": {
            "gridcolor": "white",
            "linecolor": "white",
            "ticks": ""
           },
           "baxis": {
            "gridcolor": "white",
            "linecolor": "white",
            "ticks": ""
           },
           "bgcolor": "#E5ECF6",
           "caxis": {
            "gridcolor": "white",
            "linecolor": "white",
            "ticks": ""
           }
          },
          "title": {
           "x": 0.05
          },
          "xaxis": {
           "automargin": true,
           "gridcolor": "white",
           "linecolor": "white",
           "ticks": "",
           "title": {
            "standoff": 15
           },
           "zerolinecolor": "white",
           "zerolinewidth": 2
          },
          "yaxis": {
           "automargin": true,
           "gridcolor": "white",
           "linecolor": "white",
           "ticks": "",
           "title": {
            "standoff": 15
           },
           "zerolinecolor": "white",
           "zerolinewidth": 2
          }
         }
        },
        "xaxis": {
         "anchor": "y",
         "autorange": true,
         "domain": [
          0,
          0.45
         ],
         "range": [
          1.790458080263381,
          53.20954191973662
         ],
         "type": "linear"
        },
        "xaxis10": {
         "anchor": "y10",
         "autorange": true,
         "domain": [
          0.55,
          1
         ],
         "range": [
          1.790458080263381,
          53.20954191973662
         ],
         "type": "linear"
        },
        "xaxis2": {
         "anchor": "y2",
         "autorange": true,
         "domain": [
          0.55,
          1
         ],
         "range": [
          1.790458080263381,
          53.20954191973662
         ],
         "type": "linear"
        },
        "xaxis3": {
         "anchor": "y3",
         "autorange": true,
         "domain": [
          0,
          0.45
         ],
         "range": [
          1.790458080263381,
          53.20954191973662
         ],
         "type": "linear"
        },
        "xaxis4": {
         "anchor": "y4",
         "autorange": true,
         "domain": [
          0.55,
          1
         ],
         "range": [
          1.790458080263381,
          53.20954191973662
         ],
         "type": "linear"
        },
        "xaxis5": {
         "anchor": "y5",
         "autorange": true,
         "domain": [
          0,
          0.45
         ],
         "range": [
          1.790458080263381,
          53.20954191973662
         ],
         "type": "linear"
        },
        "xaxis6": {
         "anchor": "y6",
         "autorange": true,
         "domain": [
          0.55,
          1
         ],
         "range": [
          1.790458080263381,
          53.20954191973662
         ],
         "type": "linear"
        },
        "xaxis7": {
         "anchor": "y7",
         "autorange": true,
         "domain": [
          0,
          0.45
         ],
         "range": [
          1.790458080263381,
          53.20954191973662
         ],
         "type": "linear"
        },
        "xaxis8": {
         "anchor": "y8",
         "autorange": true,
         "domain": [
          0.55,
          1
         ],
         "range": [
          1.790458080263381,
          53.20954191973662
         ],
         "type": "linear"
        },
        "xaxis9": {
         "anchor": "y9",
         "autorange": true,
         "domain": [
          0,
          0.45
         ],
         "range": [
          1.790458080263381,
          53.20954191973662
         ],
         "type": "linear"
        },
        "yaxis": {
         "anchor": "x",
         "autorange": true,
         "domain": [
          0.848,
          1
         ],
         "range": [
          0.6384433982321035,
          0.7370679114351046
         ],
         "type": "linear"
        },
        "yaxis10": {
         "anchor": "x10",
         "autorange": true,
         "domain": [
          0,
          0.152
         ],
         "range": [
          0.6404931054221051,
          0.7246191727309891
         ],
         "type": "linear"
        },
        "yaxis2": {
         "anchor": "x2",
         "autorange": true,
         "domain": [
          0.848,
          1
         ],
         "range": [
          0.6408155850735482,
          0.7226606174125556
         ],
         "type": "linear"
        },
        "yaxis3": {
         "anchor": "x3",
         "autorange": true,
         "domain": [
          0.6359999999999999,
          0.7879999999999999
         ],
         "range": [
          0.6424158710851836,
          0.7129414036107616
         ],
         "type": "linear"
        },
        "yaxis4": {
         "anchor": "x4",
         "autorange": true,
         "domain": [
          0.6359999999999999,
          0.7879999999999999
         ],
         "range": [
          0.6399658697423519,
          0.7278212980124689
         ],
         "type": "linear"
        },
        "yaxis5": {
         "anchor": "x5",
         "autorange": true,
         "domain": [
          0.424,
          0.576
         ],
         "range": [
          0.6384433982321035,
          0.7370679114351046
         ],
         "type": "linear"
        },
        "yaxis6": {
         "anchor": "x6",
         "autorange": true,
         "domain": [
          0.424,
          0.576
         ],
         "range": [
          0.6384433982321035,
          0.7370679114351046
         ],
         "type": "linear"
        },
        "yaxis7": {
         "anchor": "x7",
         "autorange": true,
         "domain": [
          0.212,
          0.364
         ],
         "range": [
          0.6404931054221051,
          0.7246191727309891
         ],
         "type": "linear"
        },
        "yaxis8": {
         "anchor": "x8",
         "autorange": true,
         "domain": [
          0.212,
          0.364
         ],
         "range": [
          0.6405646132306386,
          0.7241848755649942
         ],
         "type": "linear"
        },
        "yaxis9": {
         "anchor": "x9",
         "autorange": true,
         "domain": [
          0,
          0.152
         ],
         "range": [
          0.6408155850735482,
          0.7226606174125556
         ],
         "type": "linear"
        }
       }
      },
      "image/png": "[encoded data removed]",
      "text/html": [
       "<div>                            <div id=\"2eb22028-0ffe-4b47-9919-b5ec80bf1d44\" class=\"plotly-graph-div\" style=\"height:525px; width:100%;\"></div>            <script type=\"text/javascript\">                require([\"plotly\"], function(Plotly) {                    window.PLOTLYENV=window.PLOTLYENV || {};                                    if (document.getElementById(\"2eb22028-0ffe-4b47-9919-b5ec80bf1d44\")) {                    Plotly.newPlot(                        \"2eb22028-0ffe-4b47-9919-b5ec80bf1d44\",                        [{\"hovertemplate\":\"number of topics=%{x}<br>iteration 0=%{y}<extra></extra>\",\"legendgroup\":\"\",\"marker\":{\"color\":\"#636efa\",\"symbol\":\"circle\"},\"mode\":\"markers\",\"name\":\"\",\"orientation\":\"v\",\"showlegend\":false,\"type\":\"scatter\",\"x\":[5,10,15,20,25,30,35,40,45,50],\"xaxis\":\"x\",\"y\":[0.6523863666922354,0.7029709080037099,0.7127259114608588,0.7231249429749728,0.7106480131740222,0.6975845887300601,0.6775477937297586,0.6861192509555325,0.687392850427226,0.680178558710447],\"yaxis\":\"y\"},{\"hovertemplate\":\"number of topics=%{x}<br>iteration 1=%{y}<extra></extra>\",\"legendgroup\":\"\",\"marker\":{\"color\":\"#636efa\",\"symbol\":\"circle\"},\"mode\":\"markers\",\"name\":\"\",\"orientation\":\"v\",\"showlegend\":false,\"type\":\"scatter\",\"x\":[5,10,15,20,25,30,35,40,45,50],\"xaxis\":\"x3\",\"y\":[0.6523863666922354,0.7029709080037099,0.6962107054581922,0.6955451639516694,0.6966295729895781,0.696653463093612,0.6768551777459179,0.6840720532875274,0.6849045094347849,0.6810050518189008],\"yaxis\":\"y3\"},{\"hovertemplate\":\"number of topics=%{x}<br>iteration 2=%{y}<extra></extra>\",\"legendgroup\":\"\",\"marker\":{\"color\":\"#636efa\",\"symbol\":\"circle\"},\"mode\":\"markers\",\"name\":\"\",\"orientation\":\"v\",\"showlegend\":false,\"type\":\"scatter\",\"x\":[5,10,15,20,25,30,35,40,45,50],\"xaxis\":\"x5\",\"y\":[0.6523863666922354,0.7029709080037099,0.6962107054581922,0.7231249429749728,0.7051297753375263,0.6881446950979705,0.6799653957756944,0.6808282926908225,0.6807192031661209,0.6771983003591248],\"yaxis\":\"y5\"},{\"hovertemplate\":\"number of topics=%{x}<br>iteration 3=%{y}<extra></extra>\",\"legendgroup\":\"\",\"marker\":{\"color\":\"#636efa\",\"symbol\":\"circle\"},\"mode\":\"markers\",\"name\":\"\",\"orientation\":\"v\",\"showlegend\":false,\"type\":\"scatter\",\"x\":[5,10,15,20,25,30,35,40,45,50],\"xaxis\":\"x7\",\"y\":[0.6523863666922354,0.7029709080037099,0.7127259114608588,0.7110898357938684,0.7033037924441328,0.696653463093612,0.6786921456948891,0.6876168199694672,0.683535527394068,0.675862787639496],\"yaxis\":\"y7\"},{\"hovertemplate\":\"number of topics=%{x}<br>iteration 4=%{y}<extra></extra>\",\"legendgroup\":\"\",\"marker\":{\"color\":\"#636efa\",\"symbol\":\"circle\"},\"mode\":\"markers\",\"name\":\"\",\"orientation\":\"v\",\"showlegend\":false,\"type\":\"scatter\",\"x\":[5,10,15,20,25,30,35,40,45,50],\"xaxis\":\"x9\",\"y\":[0.6523863666922354,0.7029709080037099,0.6962107054581922,0.7110898357938684,0.7011987382710767,0.6840619280515661,0.6855861982547539,0.6825884539626349,0.6858197185252912,0.6753969111820711],\"yaxis\":\"y9\"},{\"hovertemplate\":\"number of topics=%{x}<br>iteration 5=%{y}<extra></extra>\",\"legendgroup\":\"\",\"marker\":{\"color\":\"#636efa\",\"symbol\":\"circle\"},\"mode\":\"markers\",\"name\":\"\",\"orientation\":\"v\",\"showlegend\":false,\"type\":\"scatter\",\"x\":[5,10,15,20,25,30,35,40,45,50],\"xaxis\":\"x2\",\"y\":[0.6523863666922354,0.7029709080037099,0.6962107054581922,0.7110898357938684,0.7025860508931403,0.6775340986476244,0.684172666779536,0.6822591283512598,0.6703080341901304,0.6809212760452038],\"yaxis\":\"y2\"},{\"hovertemplate\":\"number of topics=%{x}<br>iteration 6=%{y}<extra></extra>\",\"legendgroup\":\"\",\"marker\":{\"color\":\"#636efa\",\"symbol\":\"circle\"},\"mode\":\"markers\",\"name\":\"\",\"orientation\":\"v\",\"showlegend\":false,\"type\":\"scatter\",\"x\":[5,10,15,20,25,30,35,40,45,50],\"xaxis\":\"x4\",\"y\":[0.6523863666922354,0.7029709080037099,0.6962107054581922,0.7110898357938684,0.7154008010625854,0.6999766925041827,0.6944086888733241,0.6802018275995828,0.6786092919192737,0.6709821522976049],\"yaxis\":\"y4\"},{\"hovertemplate\":\"number of topics=%{x}<br>iteration 7=%{y}<extra></extra>\",\"legendgroup\":\"\",\"marker\":{\"color\":\"#636efa\",\"symbol\":\"circle\"},\"mode\":\"markers\",\"name\":\"\",\"orientation\":\"v\",\"showlegend\":false,\"type\":\"scatter\",\"x\":[5,10,15,20,25,30,35,40,45,50],\"xaxis\":\"x6\",\"y\":[0.6523863666922354,0.7029709080037099,0.6962107054581922,0.7231249429749728,0.7034442786070209,0.6932496789973507,0.6720720980693909,0.6803056498540718,0.6843558411439055,0.6752456660610892],\"yaxis\":\"y6\"},{\"hovertemplate\":\"number of topics=%{x}<br>iteration 8=%{y}<extra></extra>\",\"legendgroup\":\"\",\"marker\":{\"color\":\"#636efa\",\"symbol\":\"circle\"},\"mode\":\"markers\",\"name\":\"\",\"orientation\":\"v\",\"showlegend\":false,\"type\":\"scatter\",\"x\":[5,10,15,20,25,30,35,40,45,50],\"xaxis\":\"x8\",\"y\":[0.6523863666922354,0.7029709080037099,0.6962107054581922,0.7110898357938684,0.7123631221033975,0.6958700417375068,0.682946345737364,0.6832501069836786,0.6690282202586713,0.6694766219689321],\"yaxis\":\"y8\"},{\"hovertemplate\":\"number of topics=%{x}<br>iteration 9=%{y}<extra></extra>\",\"legendgroup\":\"\",\"marker\":{\"color\":\"#636efa\",\"symbol\":\"circle\"},\"mode\":\"markers\",\"name\":\"\",\"orientation\":\"v\",\"showlegend\":false,\"type\":\"scatter\",\"x\":[5,10,15,20,25,30,35,40,45,50],\"xaxis\":\"x10\",\"y\":[0.6523863666922354,0.7029709080037099,0.7127259114608588,0.7110898357938684,0.7051297753375263,0.6974653322061599,0.682744066522068,0.6861048079672748,0.674434767469899,0.6780139411578398],\"yaxis\":\"y10\"}],                        {\"template\":{\"data\":{\"bar\":[{\"error_x\":{\"color\":\"#2a3f5f\"},\"error_y\":{\"color\":\"#2a3f5f\"},\"marker\":{\"line\":{\"color\":\"#E5ECF6\",\"width\":0.5},\"pattern\":{\"fillmode\":\"overlay\",\"size\":10,\"solidity\":0.2}},\"type\":\"bar\"}],\"barpolar\":[{\"marker\":{\"line\":{\"color\":\"#E5ECF6\",\"width\":0.5},\"pattern\":{\"fillmode\":\"overlay\",\"size\":10,\"solidity\":0.2}},\"type\":\"barpolar\"}],\"carpet\":[{\"aaxis\":{\"endlinecolor\":\"#2a3f5f\",\"gridcolor\":\"white\",\"linecolor\":\"white\",\"minorgridcolor\":\"white\",\"startlinecolor\":\"#2a3f5f\"},\"baxis\":{\"endlinecolor\":\"#2a3f5f\",\"gridcolor\":\"white\",\"linecolor\":\"white\",\"minorgridcolor\":\"white\",\"startlinecolor\":\"#2a3f5f\"},\"type\":\"carpet\"}],\"choropleth\":[{\"colorbar\":{\"outlinewidth\":0,\"ticks\":\"\"},\"type\":\"choropleth\"}],\"contour\":[{\"colorbar\":{\"outlinewidth\":0,\"ticks\":\"\"},\"colorscale\":[[0.0,\"#0d0887\"],[0.1111111111111111,\"#46039f\"],[0.2222222222222222,\"#7201a8\"],[0.3333333333333333,\"#9c179e\"],[0.4444444444444444,\"#bd3786\"],[0.5555555555555556,\"#d8576b\"],[0.6666666666666666,\"#ed7953\"],[0.7777777777777778,\"#fb9f3a\"],[0.8888888888888888,\"#fdca26\"],[1.0,\"#f0f921\"]],\"type\":\"contour\"}],\"contourcarpet\":[{\"colorbar\":{\"outlinewidth\":0,\"ticks\":\"\"},\"type\":\"contourcarpet\"}],\"heatmap\":[{\"colorbar\":{\"outlinewidth\":0,\"ticks\":\"\"},\"colorscale\":[[0.0,\"#0d0887\"],[0.1111111111111111,\"#46039f\"],[0.2222222222222222,\"#7201a8\"],[0.3333333333333333,\"#9c179e\"],[0.4444444444444444,\"#bd3786\"],[0.5555555555555556,\"#d8576b\"],[0.6666666666666666,\"#ed7953\"],[0.7777777777777778,\"#fb9f3a\"],[0.8888888888888888,\"#fdca26\"],[1.0,\"#f0f921\"]],\"type\":\"heatmap\"}],\"heatmapgl\":[{\"colorbar\":{\"outlinewidth\":0,\"ticks\":\"\"},\"colorscale\":[[0.0,\"#0d0887\"],[0.1111111111111111,\"#46039f\"],[0.2222222222222222,\"#7201a8\"],[0.3333333333333333,\"#9c179e\"],[0.4444444444444444,\"#bd3786\"],[0.5555555555555556,\"#d8576b\"],[0.6666666666666666,\"#ed7953\"],[0.7777777777777778,\"#fb9f3a\"],[0.8888888888888888,\"#fdca26\"],[1.0,\"#f0f921\"]],\"type\":\"heatmapgl\"}],\"histogram\":[{\"marker\":{\"pattern\":{\"fillmode\":\"overlay\",\"size\":10,\"solidity\":0.2}},\"type\":\"histogram\"}],\"histogram2d\":[{\"colorbar\":{\"outlinewidth\":0,\"ticks\":\"\"},\"colorscale\":[[0.0,\"#0d0887\"],[0.1111111111111111,\"#46039f\"],[0.2222222222222222,\"#7201a8\"],[0.3333333333333333,\"#9c179e\"],[0.4444444444444444,\"#bd3786\"],[0.5555555555555556,\"#d8576b\"],[0.6666666666666666,\"#ed7953\"],[0.7777777777777778,\"#fb9f3a\"],[0.8888888888888888,\"#fdca26\"],[1.0,\"#f0f921\"]],\"type\":\"histogram2d\"}],\"histogram2dcontour\":[{\"colorbar\":{\"outlinewidth\":0,\"ticks\":\"\"},\"colorscale\":[[0.0,\"#0d0887\"],[0.1111111111111111,\"#46039f\"],[0.2222222222222222,\"#7201a8\"],[0.3333333333333333,\"#9c179e\"],[0.4444444444444444,\"#bd3786\"],[0.5555555555555556,\"#d8576b\"],[0.6666666666666666,\"#ed7953\"],[0.7777777777777778,\"#fb9f3a\"],[0.8888888888888888,\"#fdca26\"],[1.0,\"#f0f921\"]],\"type\":\"histogram2dcontour\"}],\"mesh3d\":[{\"colorbar\":{\"outlinewidth\":0,\"ticks\":\"\"},\"type\":\"mesh3d\"}],\"parcoords\":[{\"line\":{\"colorbar\":{\"outlinewidth\":0,\"ticks\":\"\"}},\"type\":\"parcoords\"}],\"pie\":[{\"automargin\":true,\"type\":\"pie\"}],\"scatter\":[{\"marker\":{\"colorbar\":{\"outlinewidth\":0,\"ticks\":\"\"}},\"type\":\"scatter\"}],\"scatter3d\":[{\"line\":{\"colorbar\":{\"outlinewidth\":0,\"ticks\":\"\"}},\"marker\":{\"colorbar\":{\"outlinewidth\":0,\"ticks\":\"\"}},\"type\":\"scatter3d\"}],\"scattercarpet\":[{\"marker\":{\"colorbar\":{\"outlinewidth\":0,\"ticks\":\"\"}},\"type\":\"scattercarpet\"}],\"scattergeo\":[{\"marker\":{\"colorbar\":{\"outlinewidth\":0,\"ticks\":\"\"}},\"type\":\"scattergeo\"}],\"scattergl\":[{\"marker\":{\"colorbar\":{\"outlinewidth\":0,\"ticks\":\"\"}},\"type\":\"scattergl\"}],\"scattermapbox\":[{\"marker\":{\"colorbar\":{\"outlinewidth\":0,\"ticks\":\"\"}},\"type\":\"scattermapbox\"}],\"scatterpolar\":[{\"marker\":{\"colorbar\":{\"outlinewidth\":0,\"ticks\":\"\"}},\"type\":\"scatterpolar\"}],\"scatterpolargl\":[{\"marker\":{\"colorbar\":{\"outlinewidth\":0,\"ticks\":\"\"}},\"type\":\"scatterpolargl\"}],\"scatterternary\":[{\"marker\":{\"colorbar\":{\"outlinewidth\":0,\"ticks\":\"\"}},\"type\":\"scatterternary\"}],\"surface\":[{\"colorbar\":{\"outlinewidth\":0,\"ticks\":\"\"},\"colorscale\":[[0.0,\"#0d0887\"],[0.1111111111111111,\"#46039f\"],[0.2222222222222222,\"#7201a8\"],[0.3333333333333333,\"#9c179e\"],[0.4444444444444444,\"#bd3786\"],[0.5555555555555556,\"#d8576b\"],[0.6666666666666666,\"#ed7953\"],[0.7777777777777778,\"#fb9f3a\"],[0.8888888888888888,\"#fdca26\"],[1.0,\"#f0f921\"]],\"type\":\"surface\"}],\"table\":[{\"cells\":{\"fill\":{\"color\":\"#EBF0F8\"},\"line\":{\"color\":\"white\"}},\"header\":{\"fill\":{\"color\":\"#C8D4E3\"},\"line\":{\"color\":\"white\"}},\"type\":\"table\"}]},\"layout\":{\"annotationdefaults\":{\"arrowcolor\":\"#2a3f5f\",\"arrowhead\":0,\"arrowwidth\":1},\"autotypenumbers\":\"strict\",\"coloraxis\":{\"colorbar\":{\"outlinewidth\":0,\"ticks\":\"\"}},\"colorscale\":{\"diverging\":[[0,\"#8e0152\"],[0.1,\"#c51b7d\"],[0.2,\"#de77ae\"],[0.3,\"#f1b6da\"],[0.4,\"#fde0ef\"],[0.5,\"#f7f7f7\"],[0.6,\"#e6f5d0\"],[0.7,\"#b8e186\"],[0.8,\"#7fbc41\"],[0.9,\"#4d9221\"],[1,\"#276419\"]],\"sequential\":[[0.0,\"#0d0887\"],[0.1111111111111111,\"#46039f\"],[0.2222222222222222,\"#7201a8\"],[0.3333333333333333,\"#9c179e\"],[0.4444444444444444,\"#bd3786\"],[0.5555555555555556,\"#d8576b\"],[0.6666666666666666,\"#ed7953\"],[0.7777777777777778,\"#fb9f3a\"],[0.8888888888888888,\"#fdca26\"],[1.0,\"#f0f921\"]],\"sequentialminus\":[[0.0,\"#0d0887\"],[0.1111111111111111,\"#46039f\"],[0.2222222222222222,\"#7201a8\"],[0.3333333333333333,\"#9c179e\"],[0.4444444444444444,\"#bd3786\"],[0.5555555555555556,\"#d8576b\"],[0.6666666666666666,\"#ed7953\"],[0.7777777777777778,\"#fb9f3a\"],[0.8888888888888888,\"#fdca26\"],[1.0,\"#f0f921\"]]},\"colorway\":[\"#636efa\",\"#EF553B\",\"#00cc96\",\"#ab63fa\",\"#FFA15A\",\"#19d3f3\",\"#FF6692\",\"#B6E880\",\"#FF97FF\",\"#FECB52\"],\"font\":{\"color\":\"#2a3f5f\"},\"geo\":{\"bgcolor\":\"white\",\"lakecolor\":\"white\",\"landcolor\":\"#E5ECF6\",\"showlakes\":true,\"showland\":true,\"subunitcolor\":\"white\"},\"hoverlabel\":{\"align\":\"left\"},\"hovermode\":\"closest\",\"mapbox\":{\"style\":\"light\"},\"paper_bgcolor\":\"white\",\"plot_bgcolor\":\"#E5ECF6\",\"polar\":{\"angularaxis\":{\"gridcolor\":\"white\",\"linecolor\":\"white\",\"ticks\":\"\"},\"bgcolor\":\"#E5ECF6\",\"radialaxis\":{\"gridcolor\":\"white\",\"linecolor\":\"white\",\"ticks\":\"\"}},\"scene\":{\"xaxis\":{\"backgroundcolor\":\"#E5ECF6\",\"gridcolor\":\"white\",\"gridwidth\":2,\"linecolor\":\"white\",\"showbackground\":true,\"ticks\":\"\",\"zerolinecolor\":\"white\"},\"yaxis\":{\"backgroundcolor\":\"#E5ECF6\",\"gridcolor\":\"white\",\"gridwidth\":2,\"linecolor\":\"white\",\"showbackground\":true,\"ticks\":\"\",\"zerolinecolor\":\"white\"},\"zaxis\":{\"backgroundcolor\":\"#E5ECF6\",\"gridcolor\":\"white\",\"gridwidth\":2,\"linecolor\":\"white\",\"showbackground\":true,\"ticks\":\"\",\"zerolinecolor\":\"white\"}},\"shapedefaults\":{\"line\":{\"color\":\"#2a3f5f\"}},\"ternary\":{\"aaxis\":{\"gridcolor\":\"white\",\"linecolor\":\"white\",\"ticks\":\"\"},\"baxis\":{\"gridcolor\":\"white\",\"linecolor\":\"white\",\"ticks\":\"\"},\"bgcolor\":\"#E5ECF6\",\"caxis\":{\"gridcolor\":\"white\",\"linecolor\":\"white\",\"ticks\":\"\"}},\"title\":{\"x\":0.05},\"xaxis\":{\"automargin\":true,\"gridcolor\":\"white\",\"linecolor\":\"white\",\"ticks\":\"\",\"title\":{\"standoff\":15},\"zerolinecolor\":\"white\",\"zerolinewidth\":2},\"yaxis\":{\"automargin\":true,\"gridcolor\":\"white\",\"linecolor\":\"white\",\"ticks\":\"\",\"title\":{\"standoff\":15},\"zerolinecolor\":\"white\",\"zerolinewidth\":2}}},\"xaxis\":{\"anchor\":\"y\",\"domain\":[0.0,0.45]},\"xaxis10\":{\"anchor\":\"y10\",\"domain\":[0.55,1.0]},\"xaxis2\":{\"anchor\":\"y2\",\"domain\":[0.55,1.0]},\"xaxis3\":{\"anchor\":\"y3\",\"domain\":[0.0,0.45]},\"xaxis4\":{\"anchor\":\"y4\",\"domain\":[0.55,1.0]},\"xaxis5\":{\"anchor\":\"y5\",\"domain\":[0.0,0.45]},\"xaxis6\":{\"anchor\":\"y6\",\"domain\":[0.55,1.0]},\"xaxis7\":{\"anchor\":\"y7\",\"domain\":[0.0,0.45]},\"xaxis8\":{\"anchor\":\"y8\",\"domain\":[0.55,1.0]},\"xaxis9\":{\"anchor\":\"y9\",\"domain\":[0.0,0.45]},\"yaxis\":{\"anchor\":\"x\",\"domain\":[0.848,1.0]},\"yaxis10\":{\"anchor\":\"x10\",\"domain\":[0.0,0.152]},\"yaxis2\":{\"anchor\":\"x2\",\"domain\":[0.848,1.0]},\"yaxis3\":{\"anchor\":\"x3\",\"domain\":[0.6359999999999999,0.7879999999999999]},\"yaxis4\":{\"anchor\":\"x4\",\"domain\":[0.6359999999999999,0.7879999999999999]},\"yaxis5\":{\"anchor\":\"x5\",\"domain\":[0.424,0.576]},\"yaxis6\":{\"anchor\":\"x6\",\"domain\":[0.424,0.576]},\"yaxis7\":{\"anchor\":\"x7\",\"domain\":[0.212,0.364]},\"yaxis8\":{\"anchor\":\"x8\",\"domain\":[0.212,0.364]},\"yaxis9\":{\"anchor\":\"x9\",\"domain\":[0.0,0.152]}},                        {\"responsive\": true}                    ).then(function(){\n",
       "                            \n",
       "var gd = document.getElementById('2eb22028-0ffe-4b47-9919-b5ec80bf1d44');\n",
       "var x = new MutationObserver(function (mutations, observer) {{\n",
       "        var display = window.getComputedStyle(gd).display;\n",
       "        if (!display || display === 'none') {{\n",
       "            console.log([gd, 'removed!']);\n",
       "            Plotly.purge(gd);\n",
       "            observer.disconnect();\n",
       "        }}\n",
       "}});\n",
       "\n",
       "// Listen for the removal of the full notebook cells\n",
       "var notebookContainer = gd.closest('#notebook-container');\n",
       "if (notebookContainer) {{\n",
       "    x.observe(notebookContainer, {childList: true});\n",
       "}}\n",
       "\n",
       "// Listen for the clearing of the current output cell\n",
       "var outputEl = gd.closest('.output');\n",
       "if (outputEl) {{\n",
       "    x.observe(outputEl, {childList: true});\n",
       "}}\n",
       "\n",
       "                        })                };                });            </script>        </div>"
      ]
     },
     "metadata": {},
     "output_type": "display_data"
    }
   ],
   "source": [
    "# plot\n",
    "import plotly\n",
    "from plotly.subplots import make_subplots\n",
    "import plotly.express as px\n",
    "\n",
    "# Use column names of df for the different parameters x, y, color, ...\n",
    "fig1 = px.scatter(nmf_c, x=\"n_topics\", y=\"iteration 0\", \n",
    "                 title=\"NMF Coherence Score Tuning: Iteration 0\",\n",
    "                 labels={\"iteration_0\":\"coherence Score\", \"n_topics\": \"number of topics\"} # customize axis label\n",
    "                )\n",
    "\n",
    "fig2 = px.scatter(nmf_c, x=\"n_topics\", y=\"iteration 1\", \n",
    "                 title=\"NMF Coherence Score Tuning: Iteration 1\",\n",
    "                 labels={\"iteration_1\":\"coherence Score\", \"n_topics\": \"number of topics\"} # customize axis label\n",
    "                )\n",
    "\n",
    "fig3 = px.scatter(nmf_c, x=\"n_topics\", y=\"iteration 2\", \n",
    "                 title=\"NMF Coherence Score Tuning: Iteration 2\",\n",
    "                 labels={\"iteration_2\":\"coherence Score\", \"n_topics\": \"number of topics\"} # customize axis label\n",
    "                )\n",
    "\n",
    "fig4 = px.scatter(nmf_c, x=\"n_topics\", y=\"iteration 3\", \n",
    "                 title=\"NMF Coherence Score Tuning: Iteration 3\",\n",
    "                 labels={\"iteration_3\":\"coherence Score\", \"n_topics\": \"number of topics\"} # customize axis label\n",
    "                )\n",
    "\n",
    "fig5 = px.scatter(nmf_c, x=\"n_topics\", y=\"iteration 4\", \n",
    "                 title=\"NMF Coherence Score Tuning: Iteration 4\",\n",
    "                 labels={\"iteration_4\":\"coherence Score\", \"n_topics\": \"number of topics\"} # customize axis label\n",
    "                )\n",
    "\n",
    "fig6 = px.scatter(nmf_c, x=\"n_topics\", y=\"iteration 5\", \n",
    "                 title=\"NMF Coherence Score Tuning: Iteration 5\",\n",
    "                 labels={\"iteration_5\":\"coherence Score\", \"n_topics\": \"number of topics\"} # customize axis label\n",
    "                )\n",
    "\n",
    "fig7 = px.scatter(nmf_c, x=\"n_topics\", y=\"iteration 6\", \n",
    "                 title=\"NMF Coherence Score Tuning: Iteration 6\",\n",
    "                 labels={\"iteration_6\":\"coherence Score\", \"n_topics\": \"number of topics\"} # customize axis label\n",
    "                )\n",
    "\n",
    "fig8 = px.scatter(nmf_c, x=\"n_topics\", y=\"iteration 7\", \n",
    "                 title=\"NMF Coherence Score Tuning: Iteration 7\",\n",
    "                 labels={\"iteration_7\":\"coherence Score\", \"n_topics\": \"number of topics\"} # customize axis label\n",
    "                )\n",
    "\n",
    "fig9 = px.scatter(nmf_c, x=\"n_topics\", y=\"iteration 8\", \n",
    "                 title=\"NMF Coherence Score Tuning: Iteration 8\",\n",
    "                 labels={\"iteration_8\":\"coherence Score\", \"n_topics\": \"number of topics\"} # customize axis label\n",
    "                )\n",
    "\n",
    "fig10 = px.scatter(nmf_c, x=\"n_topics\", y=\"iteration 9\", \n",
    "                 title=\"NMF Coherence Score Tuning: Iteration 9\",\n",
    "                 labels={\"iteration_9\":\"coherence Score\", \"n_topics\": \"number of topics\"} # customize axis label\n",
    "                )\n",
    "\n",
    "fig = make_subplots(rows=5, cols=2)\n",
    "fig.add_trace(fig1['data'][0], row=1, col=1)\n",
    "fig.add_trace(fig2['data'][0], row=2, col=1)\n",
    "fig.add_trace(fig3['data'][0], row=3, col=1)\n",
    "fig.add_trace(fig4['data'][0], row=4, col=1)\n",
    "fig.add_trace(fig5['data'][0], row=5, col=1)\n",
    "fig.add_trace(fig6['data'][0], row=1, col=2)\n",
    "fig.add_trace(fig7['data'][0], row=2, col=2)\n",
    "fig.add_trace(fig8['data'][0], row=3, col=2)\n",
    "fig.add_trace(fig9['data'][0], row=4, col=2)\n",
    "fig.add_trace(fig10['data'][0], row=5, col=2)\n",
    "\n",
    "fig.show()\n"
   ]
  },
  {
   "cell_type": "markdown",
   "metadata": {},
   "source": [
    "# NMF"
   ]
  },
  {
   "cell_type": "code",
   "execution_count": 90,
   "metadata": {},
   "outputs": [
    {
     "data": {
      "text/plain": [
       "7933"
      ]
     },
     "execution_count": 90,
     "metadata": {},
     "output_type": "execute_result"
    }
   ],
   "source": [
    "lim_docs = docs\n",
    "len(lim_docs)"
   ]
  },
  {
   "cell_type": "code",
   "execution_count": 91,
   "metadata": {},
   "outputs": [],
   "source": [
    "# input needed for LDA, NMF (all from Scikit-Learn) is one string per document (not a list of strings)\n",
    "\n",
    "text = []\n",
    "\n",
    "for token_list in lim_docs:\n",
    "    text.append(\" \".join(token_list))"
   ]
  },
  {
   "cell_type": "code",
   "execution_count": 92,
   "metadata": {},
   "outputs": [],
   "source": [
    "# Create a TF-IDF document-term matrix for the AI corpus \n",
    "\n",
    "# TRY DIFFERENT PARAMETERS IN THE TF-IDF DOC-TERM MATRIX SET-UP\n",
    "nmf_vectorizer = TfidfVectorizer(max_df=1.0, min_df=3, lowercase=True) #, max_features=int(len(lim_docs)/2))\n",
    "\n",
    "# by default TfidfVectorizer has l2 normalization for rows: \n",
    "# from Scikit Learn documentation: Each output row will have unit norm, either: * ‘l2’: Sum of squares of vector \n",
    "# elements is 1. The cosine similarity between two vectors is their dot product when l2 norm has been applied.\n",
    "\n",
    "nmf_tf_idf = nmf_vectorizer.fit_transform(text)"
   ]
  },
  {
   "cell_type": "code",
   "execution_count": 93,
   "metadata": {},
   "outputs": [
    {
     "data": {
      "text/plain": [
       "(7933, 18390)"
      ]
     },
     "execution_count": 93,
     "metadata": {},
     "output_type": "execute_result"
    }
   ],
   "source": [
    "nmf_tf_idf.shape"
   ]
  },
  {
   "cell_type": "code",
   "execution_count": 94,
   "metadata": {},
   "outputs": [],
   "source": [
    "AI_terms = nmf_vectorizer.get_feature_names()"
   ]
  },
  {
   "cell_type": "code",
   "execution_count": 95,
   "metadata": {},
   "outputs": [
    {
     "data": {
      "text/plain": [
       "['0005',\n",
       " '1000',\n",
       " '1000_genomes',\n",
       " '100x',\n",
       " '1024',\n",
       " '1025',\n",
       " '1086',\n",
       " '10_gy_x1',\n",
       " '10th']"
      ]
     },
     "execution_count": 95,
     "metadata": {},
     "output_type": "execute_result"
    }
   ],
   "source": [
    "AI_terms[1:10]"
   ]
  },
  {
   "cell_type": "code",
   "execution_count": 96,
   "metadata": {},
   "outputs": [
    {
     "name": "stderr",
     "output_type": "stream",
     "text": [
      "/home/dab3dj/.conda/envs/CO_BERT/lib/python3.8/site-packages/sklearn/decomposition/_nmf.py:312: FutureWarning:\n",
      "\n",
      "The 'init' value, when 'init=None' and n_components is less than n_samples and n_features, will be changed from 'nndsvd' to 'nndsvda' in 1.1 (renaming of 0.26).\n",
      "\n"
     ]
    }
   ],
   "source": [
    "# topic modeling with NMF\n",
    "\n",
    "nmf_model = NMF(n_components=20, random_state=1)  # TRY DIFFERENT NUMBERS OF TOPICS\n",
    "W = nmf_model.fit_transform(nmf_tf_idf)\n",
    "H = nmf_model.components_"
   ]
  },
  {
   "cell_type": "code",
   "execution_count": 98,
   "metadata": {},
   "outputs": [
    {
     "name": "stdout",
     "output_type": "stream",
     "text": [
      "\n",
      "Topic 0:\n",
      "('algorithm', 2.099755432276108)\n",
      "('learning', 1.7341719735298315)\n",
      "('learn', 1.3126290520185717)\n",
      "('machine_learning', 1.2649114049082557)\n",
      "('theory', 0.9374122957947846)\n",
      "('optimization', 0.9182058127687659)\n",
      "('deep', 0.7803868767302005)\n",
      "('statistical', 0.6836492138921091)\n",
      "('machine', 0.6287708300684595)\n",
      "('dimensional', 0.6207704730796446)\n",
      "\n",
      "Topic 1:\n",
      "('biology', 1.6235626637031961)\n",
      "('computational', 1.415226042609516)\n",
      "('bioinformatic', 0.6387485273081251)\n",
      "('biological', 0.48088456295453996)\n",
      "('trainee', 0.45611711424727697)\n",
      "('biomedical', 0.42773322617443976)\n",
      "('genomics', 0.4154995332392077)\n",
      "('molecular', 0.35021383100739556)\n",
      "('faculty', 0.33204171755306)\n",
      "('facility', 0.2943357153000095)\n",
      "\n",
      "Topic 2:\n",
      "('neural', 2.377279842022444)\n",
      "('brain', 2.2650571292119412)\n",
      "('network', 1.4292342156307145)\n",
      "('neuron', 1.2815096147637413)\n",
      "('circuit', 0.6943919896963163)\n",
      "('connectivity', 0.6548873644571049)\n",
      "('cognitive', 0.5912725915177838)\n",
      "('neuroscience', 0.5214943935454396)\n",
      "('functional', 0.5079195885373289)\n",
      "('cortical', 0.507328918838074)\n",
      "\n",
      "Topic 3:\n",
      "('sensor', 1.7811059220414125)\n",
      "('network', 1.5204062435734516)\n",
      "('wireless', 0.8376665421965923)\n",
      "('communication', 0.4042953125173972)\n",
      "('node', 0.39861897611110136)\n",
      "('sense', 0.34406951023927057)\n",
      "('distribute', 0.30975920503034327)\n",
      "('monitoring', 0.2740667468093102)\n",
      "('mobile', 0.2197577893433373)\n",
      "('energy', 0.2053905025238761)\n",
      "\n",
      "Topic 4:\n",
      "('speech', 2.7025230444885184)\n",
      "('hearing', 1.0615476547506586)\n",
      "('recognition', 0.9875956113592224)\n",
      "('auditory', 0.6188944107357426)\n",
      "('noise', 0.433307123330863)\n",
      "('loss', 0.3981879716078921)\n",
      "('acoustic', 0.3478228797628421)\n",
      "('listener', 0.328781250242713)\n",
      "('sound', 0.28839287550087334)\n",
      "('adult', 0.24101963018336847)\n",
      "\n",
      "Topic 5:\n",
      "('patient', 1.5713950280203544)\n",
      "('clinical', 1.0803538665935783)\n",
      "('care', 0.6833905628118806)\n",
      "('health', 0.6688177483749608)\n",
      "('medical', 0.3776404233655148)\n",
      "('decision', 0.3061024521307004)\n",
      "('clinician', 0.2756661639982446)\n",
      "('healthcare', 0.26893983170903074)\n",
      "('assessment', 0.22446428745860325)\n",
      "('provider', 0.22377985937034525)\n",
      "\n",
      "Topic 6:\n",
      "('protein', 2.7655862056740435)\n",
      "('drug', 0.46629461886436535)\n",
      "('interaction', 0.4571008070542457)\n",
      "('structural', 0.4064175510122492)\n",
      "('prediction', 0.3377434989000179)\n",
      "('bind', 0.3323468450985864)\n",
      "('sequence', 0.31362109001054644)\n",
      "('molecule', 0.25790391210527636)\n",
      "('conformation', 0.24681786861672406)\n",
      "('molecular', 0.23635420809374139)\n",
      "\n",
      "Topic 7:\n",
      "('object', 2.226618370995645)\n",
      "('visual', 2.1128650453374167)\n",
      "('vision', 0.9725065039974262)\n",
      "('scene', 0.9598443533702435)\n",
      "('recognition', 0.8340638307287519)\n",
      "('representation', 0.4997977741743122)\n",
      "('shape', 0.4264213617389552)\n",
      "('computer', 0.4222027414780794)\n",
      "('human', 0.38860123546799374)\n",
      "('perception', 0.323001091838034)\n",
      "\n",
      "Topic 8:\n",
      "('robot', 1.9422674312822017)\n",
      "('human', 1.0631281957590626)\n",
      "('robotic', 0.49834739097813285)\n",
      "('robotics', 0.4258180337035945)\n",
      "('motion', 0.34252645033795154)\n",
      "('interaction', 0.3393732331133111)\n",
      "('task', 0.3370027711327771)\n",
      "('environment', 0.32369794001816626)\n",
      "('planning', 0.2891725094886254)\n",
      "('autonomous', 0.24105953238859198)\n",
      "\n",
      "Topic 9:\n",
      "('student', 2.0362407971686474)\n",
      "('science', 0.6644544367012353)\n",
      "('undergraduate', 0.5939164703654458)\n",
      "('stem', 0.5526415948654123)\n",
      "('engineering', 0.5319135462327506)\n",
      "('teacher', 0.5008988498606558)\n",
      "('school', 0.490767557067359)\n",
      "('reu', 0.47506038114234284)\n",
      "('education', 0.4365574535924279)\n",
      "('graduate', 0.4294346399430467)\n",
      "\n",
      "Topic 10:\n",
      "('gene', 1.5044205009648637)\n",
      "('cell', 1.2892273659947775)\n",
      "('genetic', 0.45056955284298345)\n",
      "('genome', 0.42544098532719904)\n",
      "('immune', 0.38150028665625607)\n",
      "('receptor', 0.3036667798342147)\n",
      "('rna', 0.29846951937858823)\n",
      "('mouse', 0.2862428344751648)\n",
      "('human', 0.24218698932051846)\n",
      "('molecular', 0.24170858558840994)\n",
      "\n",
      "Topic 11:\n",
      "('cancer', 2.2597580851017995)\n",
      "('breast', 0.692750031918904)\n",
      "('tumor', 0.44137840881152685)\n",
      "('prostate', 0.25896582461487905)\n",
      "('jaxcc', 0.20134400924301074)\n",
      "('spore', 0.18965560724415875)\n",
      "('melanoma', 0.1721613136404008)\n",
      "('therapy', 0.16871026860144825)\n",
      "('molecular', 0.16465288712232454)\n",
      "('dr', 0.15416614041911617)\n",
      "\n",
      "Topic 12:\n",
      "('language', 2.54895557976577)\n",
      "('natural', 0.7547974210104959)\n",
      "('translation', 0.7207909488391727)\n",
      "('word', 0.5645026350686237)\n",
      "('text', 0.5336650466465022)\n",
      "('linguistic', 0.5272542705201392)\n",
      "('semantic', 0.4275091376044133)\n",
      "('processing', 0.3624522945954222)\n",
      "('sentence', 0.34935725294069875)\n",
      "('english', 0.34342037030605393)\n",
      "\n",
      "Topic 13:\n",
      "('user', 1.0084195444810413)\n",
      "('document', 0.7065903209334102)\n",
      "('search', 0.5080296967971979)\n",
      "('text', 0.42643881835195796)\n",
      "('retrieval', 0.396305475639928)\n",
      "('query', 0.3912077014193185)\n",
      "('web', 0.35038839068191013)\n",
      "('software', 0.3350032617018616)\n",
      "('database', 0.2788300666974718)\n",
      "('access', 0.23845422584253304)\n",
      "\n",
      "Topic 14:\n",
      "('image', 2.2585175309084304)\n",
      "('imaging', 0.5496132593904587)\n",
      "('segmentation', 0.33856069742078615)\n",
      "('computer', 0.2558259325320531)\n",
      "('feature', 0.250667238405243)\n",
      "('3d', 0.24890515255178855)\n",
      "('vision', 0.23592078516119017)\n",
      "('medical', 0.2157238279830096)\n",
      "('mri', 0.20569004590059703)\n",
      "('pattern', 0.18905660812785902)\n",
      "\n",
      "Topic 15:\n",
      "('energy', 0.8260594299415281)\n",
      "('computing', 0.6228621215279289)\n",
      "('technology', 0.6105535435919152)\n",
      "('power', 0.6000629010579047)\n",
      "('device', 0.5606774569481181)\n",
      "('hardware', 0.46239059704168267)\n",
      "('architecture', 0.3883459995673261)\n",
      "('platform', 0.38026377061850347)\n",
      "('performance', 0.3763282459091108)\n",
      "('software', 0.36722454762802176)\n",
      "\n",
      "Topic 16:\n",
      "('conference', 0.998547005391388)\n",
      "('workshop', 0.7784978950692515)\n",
      "('student', 0.5015857332688585)\n",
      "('doctoral', 0.38962880544509587)\n",
      "('participant', 0.38860773055709275)\n",
      "('consortium', 0.3255755180262169)\n",
      "('international', 0.31979108123235855)\n",
      "('travel', 0.2422033785639993)\n",
      "('attend', 0.2363655917070224)\n",
      "('meeting', 0.2342071346812291)\n",
      "\n",
      "Topic 17:\n",
      "('memory', 2.2550388994807817)\n",
      "('associative', 0.40356737096164164)\n",
      "('hippocampus', 0.22545863739923838)\n",
      "('cognitive', 0.2150081143144547)\n",
      "('episodic_memory', 0.20572744617322333)\n",
      "('encoding', 0.19396115616552215)\n",
      "('hippocampal', 0.18705278804371742)\n",
      "('sleep', 0.18024113142482084)\n",
      "('formation', 0.1769919849324566)\n",
      "('reactivation', 0.17025831900414368)\n",
      "\n",
      "Topic 18:\n",
      "('ad', 1.7268745795692306)\n",
      "('cognitive', 0.4395200968350449)\n",
      "('alzheimer', 0.40147370361221557)\n",
      "('dementia', 0.3486480949374025)\n",
      "('brain', 0.281797452902722)\n",
      "('aging', 0.2652645046853981)\n",
      "('biomarker', 0.26406972953509866)\n",
      "('imaging', 0.25586766268167993)\n",
      "('pathology', 0.22424383133952583)\n",
      "('age', 0.21712986816892643)\n",
      "\n",
      "Topic 19:\n",
      "('child', 1.531820989338598)\n",
      "('social', 0.6847904771552094)\n",
      "('asd', 0.6839643985882482)\n",
      "('infant', 0.25323300563706563)\n",
      "('autism', 0.2121186906516813)\n",
      "('age', 0.20192233599125795)\n",
      "('behavioral', 0.18935214568265787)\n",
      "('face', 0.17865140020041512)\n",
      "('developmental', 0.1768880414397271)\n",
      "('facial', 0.16423676145202173)\n"
     ]
    }
   ],
   "source": [
    "print_topics(nmf_model, nmf_vectorizer, 10)"
   ]
  },
  {
   "cell_type": "markdown",
   "metadata": {},
   "source": [
    "## hot and cold figure "
   ]
  },
  {
   "cell_type": "code",
   "execution_count": 99,
   "metadata": {},
   "outputs": [],
   "source": [
    "##### Extract Year from PROJECT_START_DATE\n",
    "\n",
    "##### On our graphs, we want to be able to show year. Therefore, this getYear function gets the year from different date formats from Project Start Year/End Year\n",
    "def getYear(a):   \n",
    "    a = str(a)\n",
    "    if a.find(\"/\"):\n",
    "        splitdate = a.split(\"/\")\n",
    "        if len(splitdate) == 3:\n",
    "            a = splitdate[2]\n",
    "        else:\n",
    "            a = splitdate[0]\n",
    "    year = str(a)\n",
    "    return year\n",
    "\n",
    "abstracts['START_YEAR'] = abstracts['PROJECT_START_DATE'].apply(getYear)"
   ]
  },
  {
   "cell_type": "code",
   "execution_count": 103,
   "metadata": {},
   "outputs": [],
   "source": [
    "#Pulls sample data subsetted by year then takes mean theta for each abstract\n",
    "num_topics=20\n",
    "\n",
    "topic_frame = pd.DataFrame(W, columns=[\"Topic\"+\" \"+str(i) for i in range(num_topics)])\n",
    "topic_frame[\"START_YEAR\"] = abstracts[\"START_YEAR\"]"
   ]
  },
  {
   "cell_type": "code",
   "execution_count": 104,
   "metadata": {},
   "outputs": [
    {
     "data": {
      "text/html": [
       "<div>\n",
       "<style scoped>\n",
       "    .dataframe tbody tr th:only-of-type {\n",
       "        vertical-align: middle;\n",
       "    }\n",
       "\n",
       "    .dataframe tbody tr th {\n",
       "        vertical-align: top;\n",
       "    }\n",
       "\n",
       "    .dataframe thead th {\n",
       "        text-align: right;\n",
       "    }\n",
       "</style>\n",
       "<table border=\"1\" class=\"dataframe\">\n",
       "  <thead>\n",
       "    <tr style=\"text-align: right;\">\n",
       "      <th></th>\n",
       "      <th>Topic 0</th>\n",
       "      <th>Topic 1</th>\n",
       "      <th>Topic 2</th>\n",
       "      <th>Topic 3</th>\n",
       "      <th>Topic 4</th>\n",
       "      <th>Topic 5</th>\n",
       "      <th>Topic 6</th>\n",
       "      <th>Topic 7</th>\n",
       "      <th>Topic 8</th>\n",
       "      <th>Topic 9</th>\n",
       "      <th>...</th>\n",
       "      <th>Topic 11</th>\n",
       "      <th>Topic 12</th>\n",
       "      <th>Topic 13</th>\n",
       "      <th>Topic 14</th>\n",
       "      <th>Topic 15</th>\n",
       "      <th>Topic 16</th>\n",
       "      <th>Topic 17</th>\n",
       "      <th>Topic 18</th>\n",
       "      <th>Topic 19</th>\n",
       "      <th>START_YEAR</th>\n",
       "    </tr>\n",
       "  </thead>\n",
       "  <tbody>\n",
       "    <tr>\n",
       "      <th>0</th>\n",
       "      <td>0.000000</td>\n",
       "      <td>0.051792</td>\n",
       "      <td>0.000000</td>\n",
       "      <td>0.000000</td>\n",
       "      <td>0.000742</td>\n",
       "      <td>0.000000</td>\n",
       "      <td>0.002655</td>\n",
       "      <td>0.000000</td>\n",
       "      <td>0.000000</td>\n",
       "      <td>0.000000</td>\n",
       "      <td>...</td>\n",
       "      <td>0.000000</td>\n",
       "      <td>0.002371</td>\n",
       "      <td>0.015153</td>\n",
       "      <td>0.178297</td>\n",
       "      <td>0.000000</td>\n",
       "      <td>0.000129</td>\n",
       "      <td>0.000019</td>\n",
       "      <td>0.000000</td>\n",
       "      <td>0.000000</td>\n",
       "      <td>2009</td>\n",
       "    </tr>\n",
       "    <tr>\n",
       "      <th>1</th>\n",
       "      <td>0.013670</td>\n",
       "      <td>0.000000</td>\n",
       "      <td>0.000000</td>\n",
       "      <td>0.000000</td>\n",
       "      <td>0.000000</td>\n",
       "      <td>0.048149</td>\n",
       "      <td>0.000382</td>\n",
       "      <td>0.000000</td>\n",
       "      <td>0.000000</td>\n",
       "      <td>0.000000</td>\n",
       "      <td>...</td>\n",
       "      <td>0.041984</td>\n",
       "      <td>0.002141</td>\n",
       "      <td>0.000000</td>\n",
       "      <td>0.030709</td>\n",
       "      <td>0.000000</td>\n",
       "      <td>0.000000</td>\n",
       "      <td>0.000993</td>\n",
       "      <td>0.002731</td>\n",
       "      <td>0.000000</td>\n",
       "      <td>2017</td>\n",
       "    </tr>\n",
       "    <tr>\n",
       "      <th>2</th>\n",
       "      <td>0.013088</td>\n",
       "      <td>0.000000</td>\n",
       "      <td>0.000000</td>\n",
       "      <td>0.000000</td>\n",
       "      <td>0.000000</td>\n",
       "      <td>0.047582</td>\n",
       "      <td>0.000000</td>\n",
       "      <td>0.000000</td>\n",
       "      <td>0.000000</td>\n",
       "      <td>0.000000</td>\n",
       "      <td>...</td>\n",
       "      <td>0.042014</td>\n",
       "      <td>0.002201</td>\n",
       "      <td>0.000000</td>\n",
       "      <td>0.030958</td>\n",
       "      <td>0.000000</td>\n",
       "      <td>0.000000</td>\n",
       "      <td>0.001072</td>\n",
       "      <td>0.002733</td>\n",
       "      <td>0.000000</td>\n",
       "      <td>2017</td>\n",
       "    </tr>\n",
       "    <tr>\n",
       "      <th>3</th>\n",
       "      <td>0.000000</td>\n",
       "      <td>0.001889</td>\n",
       "      <td>0.001528</td>\n",
       "      <td>0.001556</td>\n",
       "      <td>0.001740</td>\n",
       "      <td>0.005685</td>\n",
       "      <td>0.009266</td>\n",
       "      <td>0.002029</td>\n",
       "      <td>0.001205</td>\n",
       "      <td>0.002541</td>\n",
       "      <td>...</td>\n",
       "      <td>0.002297</td>\n",
       "      <td>0.003848</td>\n",
       "      <td>0.001019</td>\n",
       "      <td>0.003875</td>\n",
       "      <td>0.019347</td>\n",
       "      <td>0.000701</td>\n",
       "      <td>0.000927</td>\n",
       "      <td>0.000000</td>\n",
       "      <td>0.003393</td>\n",
       "      <td>2009</td>\n",
       "    </tr>\n",
       "    <tr>\n",
       "      <th>4</th>\n",
       "      <td>0.008070</td>\n",
       "      <td>0.005497</td>\n",
       "      <td>0.000000</td>\n",
       "      <td>0.000000</td>\n",
       "      <td>0.001049</td>\n",
       "      <td>0.008583</td>\n",
       "      <td>0.000728</td>\n",
       "      <td>0.000000</td>\n",
       "      <td>0.000000</td>\n",
       "      <td>0.000000</td>\n",
       "      <td>...</td>\n",
       "      <td>0.000000</td>\n",
       "      <td>0.003726</td>\n",
       "      <td>0.006715</td>\n",
       "      <td>0.000000</td>\n",
       "      <td>0.013402</td>\n",
       "      <td>0.000000</td>\n",
       "      <td>0.000016</td>\n",
       "      <td>0.001823</td>\n",
       "      <td>0.002061</td>\n",
       "      <td>2016</td>\n",
       "    </tr>\n",
       "  </tbody>\n",
       "</table>\n",
       "<p>5 rows × 21 columns</p>\n",
       "</div>"
      ],
      "text/plain": [
       "    Topic 0   Topic 1   Topic 2   Topic 3   Topic 4   Topic 5   Topic 6  \\\n",
       "0  0.000000  0.051792  0.000000  0.000000  0.000742  0.000000  0.002655   \n",
       "1  0.013670  0.000000  0.000000  0.000000  0.000000  0.048149  0.000382   \n",
       "2  0.013088  0.000000  0.000000  0.000000  0.000000  0.047582  0.000000   \n",
       "3  0.000000  0.001889  0.001528  0.001556  0.001740  0.005685  0.009266   \n",
       "4  0.008070  0.005497  0.000000  0.000000  0.001049  0.008583  0.000728   \n",
       "\n",
       "    Topic 7   Topic 8   Topic 9  ...  Topic 11  Topic 12  Topic 13  Topic 14  \\\n",
       "0  0.000000  0.000000  0.000000  ...  0.000000  0.002371  0.015153  0.178297   \n",
       "1  0.000000  0.000000  0.000000  ...  0.041984  0.002141  0.000000  0.030709   \n",
       "2  0.000000  0.000000  0.000000  ...  0.042014  0.002201  0.000000  0.030958   \n",
       "3  0.002029  0.001205  0.002541  ...  0.002297  0.003848  0.001019  0.003875   \n",
       "4  0.000000  0.000000  0.000000  ...  0.000000  0.003726  0.006715  0.000000   \n",
       "\n",
       "   Topic 15  Topic 16  Topic 17  Topic 18  Topic 19  START_YEAR  \n",
       "0  0.000000  0.000129  0.000019  0.000000  0.000000        2009  \n",
       "1  0.000000  0.000000  0.000993  0.002731  0.000000        2017  \n",
       "2  0.000000  0.000000  0.001072  0.002733  0.000000        2017  \n",
       "3  0.019347  0.000701  0.000927  0.000000  0.003393        2009  \n",
       "4  0.013402  0.000000  0.000016  0.001823  0.002061        2016  \n",
       "\n",
       "[5 rows x 21 columns]"
      ]
     },
     "execution_count": 104,
     "metadata": {},
     "output_type": "execute_result"
    }
   ],
   "source": [
    "topic_frame.head()"
   ]
  },
  {
   "cell_type": "code",
   "execution_count": 106,
   "metadata": {},
   "outputs": [],
   "source": [
    "topic_proj_count = topic_frame.copy()\n",
    "topic_count_bool = (topic_proj_count.iloc[:,0:num_topics] > 0)\n",
    "topic_count_bool[\"START_YEAR\"] = topic_proj_count[\"START_YEAR\"]"
   ]
  },
  {
   "cell_type": "code",
   "execution_count": 108,
   "metadata": {},
   "outputs": [],
   "source": [
    "topic_counts = topic_count_bool.groupby(\"START_YEAR\").sum().reset_index()\n",
    "topic_counts = topic_counts.sort_values(by = \"START_YEAR\")  # pretty sure this is unnecessary\n",
    "topic_counts[\"START_YEAR\"] = topic_counts[\"START_YEAR\"].astype(int)"
   ]
  },
  {
   "cell_type": "code",
   "execution_count": 109,
   "metadata": {},
   "outputs": [],
   "source": [
    "topic_counts_filt = topic_counts[topic_counts[\"START_YEAR\"] > 2009] \n",
    "topic_counts_filt = topic_counts_filt[topic_counts_filt[\"START_YEAR\"] < 2020]"
   ]
  },
  {
   "cell_type": "code",
   "execution_count": 111,
   "metadata": {},
   "outputs": [],
   "source": [
    "# instances of topic in all years\n",
    "n_by_topic = topic_counts_filt.sum()[1:]"
   ]
  },
  {
   "cell_type": "code",
   "execution_count": 113,
   "metadata": {},
   "outputs": [],
   "source": [
    "topic_frame_se = topic_frame.groupby(\"START_YEAR\").sem().reset_index()\n",
    "topic_frame_se = topic_frame_se.sort_values(by = \"START_YEAR\")\n",
    "topic_frame_se[\"START_YEAR\"] = topic_frame_se[\"START_YEAR\"].astype(int)\n",
    "\n",
    "topic_wts_se_2010_2019 = topic_frame_se[topic_frame_se[\"START_YEAR\"] > 2009] \n",
    "topic_wts_se_2010_2019 = topic_wts_se_2010_2019[topic_wts_se_2010_2019[\"START_YEAR\"] < 2020]"
   ]
  },
  {
   "cell_type": "code",
   "execution_count": 114,
   "metadata": {},
   "outputs": [],
   "source": [
    "topic_frame = topic_frame.groupby(\"START_YEAR\").mean().reset_index()\n",
    "topic_frame = topic_frame.sort_values(by = \"START_YEAR\")\n",
    "topic_frame[\"START_YEAR\"] = topic_frame[\"START_YEAR\"].astype(int)"
   ]
  },
  {
   "cell_type": "code",
   "execution_count": 115,
   "metadata": {},
   "outputs": [],
   "source": [
    "topic_wts_2010_2019 = topic_frame[topic_frame[\"START_YEAR\"] > 2009] \n",
    "topic_wts_2010_2019 = topic_wts_2010_2019[topic_wts_2010_2019[\"START_YEAR\"] < 2020] "
   ]
  },
  {
   "cell_type": "code",
   "execution_count": 118,
   "metadata": {},
   "outputs": [],
   "source": [
    "# perform regressions, track slopes\n",
    "\n",
    "topic_slopes = []\n",
    "\n",
    "for i in range(1,num_topics+1):\n",
    "    linear_fit = lm().fit(topic_wts_2010_2019[\"START_YEAR\"].values.reshape(-1,1), topic_wts_2010_2019.iloc[:,i].values.reshape(-1,1))\n",
    "    \n",
    "    topic_slopes.append(linear_fit.coef_[0][0])"
   ]
  },
  {
   "cell_type": "code",
   "execution_count": 119,
   "metadata": {},
   "outputs": [],
   "source": [
    "hot_cold = []\n",
    "\n",
    "for slope in topic_slopes:\n",
    "    if slope > 0:\n",
    "        hot_cold.append(\"hot\")\n",
    "    else:\n",
    "        hot_cold.append(\"cold\")"
   ]
  },
  {
   "cell_type": "code",
   "execution_count": 124,
   "metadata": {},
   "outputs": [],
   "source": [
    "topic_words = str_topics(H, tfidf_vectorizer, top_n=10)"
   ]
  },
  {
   "cell_type": "code",
   "execution_count": 125,
   "metadata": {},
   "outputs": [],
   "source": [
    "reg_topics = pd.DataFrame()\n",
    "reg_topics[\"Slope\"] = topic_slopes\n",
    "reg_topics[\"Hot or Cold\"] = hot_cold\n",
    "reg_topics[\"Topic Words\"] = topic_words "
   ]
  },
  {
   "cell_type": "code",
   "execution_count": 127,
   "metadata": {},
   "outputs": [],
   "source": [
    "leg = str_topics(H, tfidf_vectorizer, top_n=5)"
   ]
  },
  {
   "cell_type": "code",
   "execution_count": 128,
   "metadata": {},
   "outputs": [
    {
     "data": {
      "image/png": "[encoded data removed]",
      "text/plain": [
       "<Figure size 432x288 with 1 Axes>"
      ]
     },
     "metadata": {
      "needs_background": "light"
     },
     "output_type": "display_data"
    }
   ],
   "source": [
    "#Make Graphs\n",
    "topic_results = {}\n",
    "fig = plt.figure()\n",
    "fig.suptitle('Hot and Cold Topics', fontsize=16)\n",
    "ax = fig.add_subplot(111)\n",
    "\n",
    "for i in range(1,num_topics+1):\n",
    "    linear_fit = lm().fit(topic_wts_2010_2019[\"START_YEAR\"].values.reshape(-1,1), topic_wts_2010_2019.iloc[:,i].values.reshape(-1,1))\n",
    "    topic_results[i] = linear_fit.coef_[0][0]\n",
    "    ax.plot(topic_wts_2010_2019[\"START_YEAR\"], topic_wts_2010_2019.iloc[:,i])\n",
    "    #leg.append(\"Topic %d\"%(n+1))\n",
    "\n",
    "plt.xticks(np.arange(topic_wts_2010_2019[\"START_YEAR\"].min(), topic_wts_2010_2019[\"START_YEAR\"].max()+1, 1.0))\n",
    "plt.xlabel('Year', fontsize=12)\n",
    "plt.ylabel('Mean Weight', fontsize=12)\n",
    "#ax.yaxis.set_label_coords(-0.14,0.5)\n",
    "plt.legend(leg,bbox_to_anchor=(1.05, 1.0, 0.3, 0.2), loc='upper left')\n",
    "plt.show()"
   ]
  },
  {
   "cell_type": "code",
   "execution_count": 131,
   "metadata": {},
   "outputs": [],
   "source": [
    "class HandlerDashedLines(HandlerLineCollection):\n",
    "    def create_artists(self, legend, orig_handle,\n",
    "                       xdescent, ydescent, width, height, fontsize, trans):\n",
    "        # figure out how many lines there are\n",
    "        numlines = len(orig_handle.get_segments())\n",
    "        xdata, xdata_marker = self.get_xdata(legend, xdescent, ydescent,\n",
    "                                             width, height, fontsize)\n",
    "        leglines = []\n",
    "        # divide the vertical space where the lines will go\n",
    "        # into equal parts based on the number of lines\n",
    "        ydata = np.full_like(xdata, height / (numlines + 1))\n",
    "        # for each line, create the line at the proper location\n",
    "        # and set the dash pattern\n",
    "        for i in range(numlines):\n",
    "            legline = Line2D(xdata, ydata * (numlines - i) - ydescent)\n",
    "            self.update_prop(legline, orig_handle, legend)\n",
    "            # set color, dash pattern, and linewidth to that\n",
    "            # of the lines in linecollection\n",
    "            try:\n",
    "                color = orig_handle.get_colors()[i]\n",
    "            except IndexError:\n",
    "                color = orig_handle.get_colors()[0]\n",
    "            try:\n",
    "                dashes = orig_handle.get_dashes()[i]\n",
    "            except IndexError:\n",
    "                dashes = orig_handle.get_dashes()[0]\n",
    "            try:\n",
    "                lw = orig_handle.get_linewidths()[i]\n",
    "            except IndexError:\n",
    "                lw = orig_handle.get_linewidths()[0]\n",
    "            if dashes[0] is not None:\n",
    "                legline.set_dashes(dashes[1])\n",
    "            legline.set_color(color)\n",
    "            legline.set_transform(trans)\n",
    "            legline.set_linewidth(lw)\n",
    "            leglines.append(legline)\n",
    "        return leglines"
   ]
  },
  {
   "cell_type": "code",
   "execution_count": 132,
   "metadata": {},
   "outputs": [],
   "source": [
    "def sort_dict(x):\n",
    "    return sorted(x.items(), key=lambda l: l[1], reverse=True)"
   ]
  },
  {
   "cell_type": "code",
   "execution_count": 133,
   "metadata": {},
   "outputs": [],
   "source": [
    "sort_slopes = sort_dict(topic_results)\n",
    "top_slopes = [x[0] for x in sort_slopes[:5]]\n",
    "bottom_slopes = [x[0] for x in sort_slopes[-5:]]"
   ]
  },
  {
   "cell_type": "code",
   "execution_count": 134,
   "metadata": {},
   "outputs": [],
   "source": [
    "# for plotting hot and cold on same graph\n",
    "\n",
    "topnbot_slopes = top_slopes + bottom_slopes"
   ]
  },
  {
   "cell_type": "code",
   "execution_count": 135,
   "metadata": {},
   "outputs": [
    {
     "data": {
      "image/png": "[encoded data removed]",
      "text/plain": [
       "<Figure size 576x504 with 1 Axes>"
      ]
     },
     "metadata": {
      "needs_background": "light"
     },
     "output_type": "display_data"
    }
   ],
   "source": [
    "# Make Graphs\n",
    "#leg = []\n",
    "color_list = plt.rcParams['axes.prop_cycle'].by_key()['color']\n",
    "\n",
    "#color_list = [\"#232d4b\",\"#2c4f6b\",\"#0e879c\",\"#60999a\",\"#d1e0bf\",\"#d9e12b\",\"#e6ce3a\",\"#e6a01d\",\"#e57200\", \"#ff0000\"] #\"#fdfdfd\"]\n",
    "\n",
    "\n",
    "line_return = []\n",
    "fig = plt.figure(figsize=(8,7))\n",
    "ax = fig.add_subplot(111)\n",
    "plt.grid(True, color = \"whitesmoke\")\n",
    "line = [[(0, 0)]]\n",
    "i = 0\n",
    "for n in topnbot_slopes:\n",
    "    zorder = 20\n",
    "    color = color_list[i] \n",
    "    #if i < 5:\n",
    "    #    zorder = 10 #10\n",
    "    #    color = \"#D3D3D3\";\n",
    "    linear_fit = lm().fit(topic_wts_2010_2019[\"START_YEAR\"].values.reshape(-1,1), topic_wts_2010_2019.iloc[:,n].values.reshape(-1,1))\n",
    "    #ax.plot(topic_wts_2010_2019[\"START_YEAR\"], (topic_wts_2010_2019[\"START_YEAR\"]*linear_fit.coef_[0][0])+linear_fit.intercept_,linestyle = 'dashed', color = color_list[i])\n",
    "    ax.plot(topic_wts_2010_2019[\"START_YEAR\"], topic_wts_2010_2019.iloc[:,n], '-o', color = color, zorder = zorder)\n",
    "    ax.errorbar(topic_wts_2010_2019[\"START_YEAR\"], topic_wts_2010_2019.iloc[:,n], \n",
    "            yerr = np.array(topic_wts_se_2010_2019.iloc[:,n]), fmt = \"o\", color = color, zorder = zorder)\n",
    "    #line_return.append(mcol.LineCollection(2 * line, linestyles=['solid','dashed'], colors=[color_list[i],color_list[i]]))\n",
    "    line_return.append(mcol.LineCollection(line, linestyles=['solid'], colors=[color]))\n",
    "    i+=1\n",
    "    #leg.append(\"Topic %d\"%(n+1))\n",
    "\n",
    "plt.xticks(np.arange(topic_wts_2010_2019[\"START_YEAR\"].min(), topic_wts_2010_2019[\"START_YEAR\"].max()+1, 1.0))\n",
    "plt.xlabel('Year', fontsize=14)\n",
    "plt.ylabel('Mean Topic Weight', fontsize=14)\n",
    "#plt.ylim(bottom = -0.001, top = 0.05)\n",
    "plt.title('Top Five Hottest and Coldest Topics', fontsize=16)\n",
    "#ax.yaxis.set_label_coords(-0.14,0.5)\n",
    "\n",
    "# set up the proxy artist\n",
    "lc = mcol.LineCollection(2 * line, linestyles=['solid','dashed'], colors=['blue','blue'])\n",
    "lc2 = mcol.LineCollection(2 * line, linestyles=['solid','dashed'], colors=['orange','orange'])\n",
    "\n",
    "# create the legend\n",
    "#plt.legend(line_return, [leg[x-1] for x in topnbot_slopes], handler_map={type(line_return[0]): HandlerDashedLines()})\n",
    "           #handlelength=2, bbox_to_anchor=(1.05, 0.7, 0.3, 0.2), loc='upper left')  #handleheight=2,\n",
    "\n",
    "plt.legend([leg[x-1] for x in topnbot_slopes], bbox_to_anchor=(1.05, 0.6, 0.3, 0.2), loc='upper left', fontsize = 'large')\n",
    "#plt.savefig(\"figures/updated_full_hot_cold_topics.png\", dpi = 800, bbox_inches = \"tight\")\n",
    "plt.show()\n"
   ]
  },
  {
   "cell_type": "code",
   "execution_count": 137,
   "metadata": {},
   "outputs": [
    {
     "data": {
      "image/png": "[encoded data removed]",
      "text/plain": [
       "<Figure size 432x288 with 1 Axes>"
      ]
     },
     "metadata": {
      "needs_background": "light"
     },
     "output_type": "display_data"
    },
    {
     "data": {
      "image/png": "[encoded data removed]",
      "text/plain": [
       "<Figure size 432x288 with 1 Axes>"
      ]
     },
     "metadata": {
      "needs_background": "light"
     },
     "output_type": "display_data"
    }
   ],
   "source": [
    "# Make Graphs\n",
    "#leg = []\n",
    "color_list = plt.rcParams['axes.prop_cycle'].by_key()['color']\n",
    "\n",
    "#color_list = [\"#232d4b\",\"#2c4f6b\",\"#0e879c\",\"#60999a\",\"#d1e0bf\",\"#d9e12b\",\"#e6ce3a\",\"#e6a01d\",\"#e57200\", \"#ff0000\"] #\"#fdfdfd\"]\n",
    "#color_list = [\"#D3D3D3\",\"#2c4f6b\",\"#C0C0C0\",\"#A9A9A9\",\"#808080\",\"#D3D3D3\",\"#2c4f6b\",\"#D3D3D3\",\"#D3D3D3\", \"#D3D3D3\"] #\"#fdfdfd\"]\n",
    "\n",
    "\n",
    "line_return = []\n",
    "fig = plt.figure()\n",
    "fig.suptitle('Top Five Hottest AI Topics', fontsize=16)\n",
    "ax = fig.add_subplot(111)\n",
    "plt.grid(True, color = \"whitesmoke\")\n",
    "line = [[(0, 0)]]\n",
    "i = 0\n",
    "for n in top_slopes:\n",
    "    zorder = 10\n",
    "    color = color_list[i] # \"#D3D3D3\"   \n",
    "    if i == 0:\n",
    "        zorder = 10 #20\n",
    "        color = color_list[i];\n",
    "    linear_fit = lm().fit(topic_wts_2010_2019[\"START_YEAR\"].values.reshape(-1,1), topic_wts_2010_2019.iloc[:,n].values.reshape(-1,1))\n",
    "    #ax.plot(topic_wts_2010_2019[\"START_YEAR\"], (topic_wts_2010_2019[\"START_YEAR\"]*linear_fit.coef_[0][0])+linear_fit.intercept_,linestyle = 'dashed', color = color_list[i])\n",
    "    ax.plot(topic_wts_2010_2019[\"START_YEAR\"], topic_wts_2010_2019.iloc[:,n], '-o', color = color, zorder = zorder)\n",
    "    ax.errorbar(topic_wts_2010_2019[\"START_YEAR\"], topic_wts_2010_2019.iloc[:,n], \n",
    "            yerr = np.array(topic_wts_se_2010_2019.iloc[:,n]), fmt = \"o\", color = color, zorder = zorder)\n",
    "    #line_return.append(mcol.LineCollection(2 * line, linestyles=['solid','dashed'], colors=[color_list[i],color_list[i]]))\n",
    "    line_return.append(mcol.LineCollection(line, linestyles=['solid'], colors=[color]))\n",
    "    i+=1\n",
    "    #leg.append(\"Topic %d\"%(n+1))\n",
    "\n",
    "plt.xticks(np.arange(topic_wts_2010_2019[\"START_YEAR\"].min(), topic_wts_2010_2019[\"START_YEAR\"].max()+1, 1.0))\n",
    "plt.xlabel('Year', fontsize=14)\n",
    "plt.ylabel('Mean Topic Weight', fontsize=14)\n",
    "plt.ylim(bottom = -0.002, top = 0.065)\n",
    "#ax.yaxis.set_label_coords(-0.14,0.5)\n",
    "\n",
    "# set up the proxy artist\n",
    "lc = mcol.LineCollection(2 * line, linestyles=['solid','dashed'], colors=['blue','blue'])\n",
    "lc2 = mcol.LineCollection(2 * line, linestyles=['solid','dashed'], colors=['orange','orange'])\n",
    "# create the legend\n",
    "#plt.legend(line_return, [leg[x-1] for x in top_slopes], handler_map={type(line_return[0]): HandlerDashedLines()},\n",
    "#          handlelength=2, handleheight=2,bbox_to_anchor=(1.05, 0.7, 0.3, 0.2), loc='upper left')\n",
    "\n",
    "plt.legend([leg[x-1] for x in top_slopes], bbox_to_anchor=(1.05, 0.6, 0.3, 0.2), loc='upper left', fontsize = 'large')\n",
    "#plt.savefig(\"figures/coronavirus_hot_topics-new.png\", dpi = 800, bbox_inches = \"tight\")\n",
    "plt.show()\n",
    "\n",
    "\n",
    "#Make Graphs\n",
    "#leg = []\n",
    "\n",
    "#bottom_slopes.reverse()  # so the plot legend has the coldest listed first\n",
    "\n",
    "line_return = []\n",
    "fig = plt.figure()\n",
    "fig.suptitle('Top Five Coldest AI Topics', fontsize=16)\n",
    "ax = fig.add_subplot(111)\n",
    "plt.grid(True, color = \"whitesmoke\")\n",
    "i = 0\n",
    "for n in bottom_slopes:\n",
    "    zorder = 10\n",
    "    color = color_list[i+5]  #\"#D3D3D3\"  \n",
    "    if i == 4:\n",
    "        zorder = 10 #20\n",
    "        color = color_list[i+5]\n",
    "    linear_fit = lm().fit(topic_wts_2010_2019[\"START_YEAR\"].values.reshape(-1,1), topic_wts_2010_2019.iloc[:,n].values.reshape(-1,1))\n",
    "    #ax.plot(topic_wts_2010_2019[\"START_YEAR\"], (topic_wts_2010_2019[\"START_YEAR\"]*linear_fit.coef_[0][0])+linear_fit.intercept_,linestyle = 'dashed', color = color_list[i+5])\n",
    "    ax.plot(topic_wts_2010_2019[\"START_YEAR\"], topic_wts_2010_2019.iloc[:,n], '-o', color=color, zorder = zorder)\n",
    "    ax.errorbar(topic_wts_2010_2019[\"START_YEAR\"], topic_wts_2010_2019.iloc[:,n], \n",
    "            yerr = np.array(topic_wts_se_2010_2019.iloc[:,n]), fmt = \"o\", color=color, zorder = zorder)\n",
    "    #line_return.append(mcol.LineCollection(2 * line, linestyles=['solid','dashed'], colors=[color_list[i+5],color_list[i+5]]))\n",
    "    line_return.append(mcol.LineCollection(line, linestyles=['solid'], colors=[color]))\n",
    "    i+=1\n",
    "    #leg.append(\"Topic %d\"%(n+1))\n",
    "\n",
    "plt.xticks(np.arange(topic_wts_2010_2019[\"START_YEAR\"].min(), topic_wts_2010_2019[\"START_YEAR\"].max()+1, 1.0))\n",
    "plt.xlabel('Year', fontsize=14)\n",
    "plt.ylabel('Mean Topic Weight', fontsize=14)\n",
    "plt.ylim(bottom = -0.002, top = 0.065)\n",
    "#ax.yaxis.set_label_coords(-0.14,0.5)\n",
    "\n",
    "\n",
    "# set up the proxy artist\n",
    "lc = mcol.LineCollection(2 * line, linestyles=['solid','dashed'], colors=['blue','blue'])\n",
    "lc2 = mcol.LineCollection(2 * line, linestyles=['solid','dashed'], colors=['orange','orange'])\n",
    "\n",
    "# create the legend\n",
    "#plt.legend(line_return, [leg[x-1] for x in bottom_slopes], handler_map={type(line_return[0]): HandlerDashedLines()},\n",
    "#          handlelength=2, handleheight=2,bbox_to_anchor=(1.05, 0.7, 0.3, 0.2), loc='upper left')\n",
    "\n",
    "plt.legend([leg[x-1] for x in bottom_slopes], bbox_to_anchor=(1.05, 0.6, 0.3, 0.2), loc='upper left', fontsize = 'large')\n",
    "#plt.savefig(\"figures/coronavirus_cold_topics-new.png\", dpi = 800, bbox_inches = \"tight\")\n",
    "plt.show()\n"
   ]
  },
  {
   "cell_type": "code",
   "execution_count": null,
   "metadata": {},
   "outputs": [],
   "source": []
  }
 ],
 "metadata": {
  "kernelspec": {
   "display_name": "Python [conda env:.conda-CO_BERT]",
   "language": "python",
   "name": "conda-env-.conda-CO_BERT-py"
  },
  "language_info": {
   "codemirror_mode": {
    "name": "ipython",
    "version": 3
   },
   "file_extension": ".py",
   "mimetype": "text/x-python",
   "name": "python",
   "nbconvert_exporter": "python",
   "pygments_lexer": "ipython3",
   "version": "3.8.10"
  }
 },
 "nbformat": 4,
 "nbformat_minor": 4
}
