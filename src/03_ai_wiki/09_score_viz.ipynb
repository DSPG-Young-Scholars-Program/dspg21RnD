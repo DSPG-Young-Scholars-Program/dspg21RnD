{
 "cells": [
  {
   "cell_type": "markdown",
   "metadata": {},
   "source": [
    "# Score Distribution"
   ]
  },
  {
   "cell_type": "code",
   "execution_count": 1,
   "metadata": {},
   "outputs": [],
   "source": [
    "import pandas as pd\n",
    "import statistics #calculate mean and others\n",
    "import matplotlib.pyplot as plt\n",
    "from scipy import stats\n",
    "from scipy.stats import skew\n",
    "import numpy as np"
   ]
  },
  {
   "cell_type": "code",
   "execution_count": 2,
   "metadata": {},
   "outputs": [
    {
     "name": "stderr",
     "output_type": "stream",
     "text": [
      "/apps/software/standard/core/anaconda/2020.11-py3.8/lib/python3.8/site-packages/IPython/core/interactiveshell.py:3146: DtypeWarning: Columns (15,17,18,19,23,26,27,48,49,51,52,57,59,60) have mixed types.Specify dtype option on import or set low_memory=False.\n",
      "  has_raised = await self.run_ast_nodes(code_ast.body, cell_name,\n"
     ]
    }
   ],
   "source": [
    "#import data\n",
    "abstracts_all = pd.read_csv(r'/home/zz3hs/git/dspg21RnD/data/dspg21RnD/abstracts_embedding_score_stats.csv')   "
   ]
  },
  {
   "cell_type": "code",
   "execution_count": 3,
   "metadata": {},
   "outputs": [
    {
     "data": {
      "text/html": [
       "<div>\n",
       "<style scoped>\n",
       "    .dataframe tbody tr th:only-of-type {\n",
       "        vertical-align: middle;\n",
       "    }\n",
       "\n",
       "    .dataframe tbody tr th {\n",
       "        vertical-align: top;\n",
       "    }\n",
       "\n",
       "    .dataframe thead th {\n",
       "        text-align: right;\n",
       "    }\n",
       "</style>\n",
       "<table border=\"1\" class=\"dataframe\">\n",
       "  <thead>\n",
       "    <tr style=\"text-align: right;\">\n",
       "      <th></th>\n",
       "      <th>original index</th>\n",
       "      <th>PROJECT_ID_x</th>\n",
       "      <th>ABSTRACT_x</th>\n",
       "      <th>FY_x</th>\n",
       "      <th>ORG_COUNT_x</th>\n",
       "      <th>PI_COUNT_x</th>\n",
       "      <th>nchar_x</th>\n",
       "      <th>final_frqwds_removed_x</th>\n",
       "      <th>PROJECT_TERMS_x</th>\n",
       "      <th>PROJECT_TITLE_x</th>\n",
       "      <th>...</th>\n",
       "      <th>IS_AI_2</th>\n",
       "      <th>IS_AI</th>\n",
       "      <th>sentence_score_float</th>\n",
       "      <th>abstract_score</th>\n",
       "      <th>num_sentences</th>\n",
       "      <th>range_sentence_score</th>\n",
       "      <th>max_sentence_score</th>\n",
       "      <th>median_sentence_score</th>\n",
       "      <th>mean_abstract_score</th>\n",
       "      <th>skewness_sentence_score</th>\n",
       "    </tr>\n",
       "  </thead>\n",
       "  <tbody>\n",
       "    <tr>\n",
       "      <th>0</th>\n",
       "      <td>17608</td>\n",
       "      <td>152242.0</td>\n",
       "      <td>The multiprotein complex y-secretase proteolyt...</td>\n",
       "      <td>2008</td>\n",
       "      <td>1</td>\n",
       "      <td>1</td>\n",
       "      <td>1402</td>\n",
       "      <td>['multiprotein', 'y_secretase', 'proteolytical...</td>\n",
       "      <td>Active Sites; Affect; Alzheimer's Disease; Am...</td>\n",
       "      <td>STRUCTURE OF SIGNAL PEPTIDE PEPTIDASE</td>\n",
       "      <td>...</td>\n",
       "      <td>False</td>\n",
       "      <td>False</td>\n",
       "      <td>[0.24746138006448745, 0.21845135390758513, 0.1...</td>\n",
       "      <td>0.263356</td>\n",
       "      <td>10</td>\n",
       "      <td>0.130378</td>\n",
       "      <td>0.324700</td>\n",
       "      <td>0.259478</td>\n",
       "      <td>0.263356</td>\n",
       "      <td>-0.054603</td>\n",
       "    </tr>\n",
       "    <tr>\n",
       "      <th>1</th>\n",
       "      <td>111864</td>\n",
       "      <td>190316.0</td>\n",
       "      <td>DESCRIPTION (provided by applicant):   The Kis...</td>\n",
       "      <td>2008</td>\n",
       "      <td>1</td>\n",
       "      <td>1</td>\n",
       "      <td>2553</td>\n",
       "      <td>['kissl', 'gene', 'encode', 'peptide', 'kisspe...</td>\n",
       "      <td>Affect; Animal Model; Axon; Behavior; Behavio...</td>\n",
       "      <td>ROLE OF KISS1 NEURONS IN THE SEASONAL AND CIRC...</td>\n",
       "      <td>...</td>\n",
       "      <td>False</td>\n",
       "      <td>False</td>\n",
       "      <td>[0.1978494793176651, 0.1886032670736313, 0.209...</td>\n",
       "      <td>0.246339</td>\n",
       "      <td>13</td>\n",
       "      <td>0.126995</td>\n",
       "      <td>0.315598</td>\n",
       "      <td>0.239884</td>\n",
       "      <td>0.246339</td>\n",
       "      <td>0.187634</td>\n",
       "    </tr>\n",
       "    <tr>\n",
       "      <th>2</th>\n",
       "      <td>22052</td>\n",
       "      <td>154213.0</td>\n",
       "      <td>DESCRIPTION (provided by applicant): The objec...</td>\n",
       "      <td>2008</td>\n",
       "      <td>1</td>\n",
       "      <td>1</td>\n",
       "      <td>1414</td>\n",
       "      <td>['biophysical', 'basis', 'thermodynamics_kinet...</td>\n",
       "      <td>Agreement; Antibodies; base; Binding; Biochem...</td>\n",
       "      <td>CARBONIC ANHYDRASE AS A MODEL TO UNDERSTAND DI...</td>\n",
       "      <td>...</td>\n",
       "      <td>False</td>\n",
       "      <td>False</td>\n",
       "      <td>[0.3822216421365738, 0.3518402636051178, 0.291...</td>\n",
       "      <td>0.338063</td>\n",
       "      <td>9</td>\n",
       "      <td>0.160513</td>\n",
       "      <td>0.386953</td>\n",
       "      <td>0.351840</td>\n",
       "      <td>0.338063</td>\n",
       "      <td>-0.961812</td>\n",
       "    </tr>\n",
       "    <tr>\n",
       "      <th>3</th>\n",
       "      <td>35004</td>\n",
       "      <td>159362.0</td>\n",
       "      <td>Obesity is the cause of many adverse pregnancy...</td>\n",
       "      <td>2008</td>\n",
       "      <td>1</td>\n",
       "      <td>1</td>\n",
       "      <td>1545</td>\n",
       "      <td>['obesity', 'adverse_pregnancyoutcome', 'great...</td>\n",
       "      <td>African; Analysis of Variance; Asians; Birth;...</td>\n",
       "      <td>OBESITY ON VAGAL TONE AND HBA1C DURING PREGNANCY</td>\n",
       "      <td>...</td>\n",
       "      <td>False</td>\n",
       "      <td>False</td>\n",
       "      <td>[0.22951880991458892, 0.22275955677032472, 0.2...</td>\n",
       "      <td>0.262953</td>\n",
       "      <td>8</td>\n",
       "      <td>0.170099</td>\n",
       "      <td>0.372822</td>\n",
       "      <td>0.253833</td>\n",
       "      <td>0.262953</td>\n",
       "      <td>0.995367</td>\n",
       "    </tr>\n",
       "    <tr>\n",
       "      <th>4</th>\n",
       "      <td>371628</td>\n",
       "      <td>594482.0</td>\n",
       "      <td>Local potato advisory groups have expressed in...</td>\n",
       "      <td>2010</td>\n",
       "      <td>1</td>\n",
       "      <td>1</td>\n",
       "      <td>271</td>\n",
       "      <td>['local', 'potato', 'advisory', 'express', 'in...</td>\n",
       "      <td>cost; Health; interest; Manure; Parasitic nem...</td>\n",
       "      <td>PLANT-PARASITIC NEMATODE MANAGEMENT AS A COMPO...</td>\n",
       "      <td>...</td>\n",
       "      <td>False</td>\n",
       "      <td>False</td>\n",
       "      <td>[0.3108045756816864, 0.23935555219650267, 0.23...</td>\n",
       "      <td>0.263024</td>\n",
       "      <td>3</td>\n",
       "      <td>0.071892</td>\n",
       "      <td>0.310805</td>\n",
       "      <td>0.239356</td>\n",
       "      <td>0.263024</td>\n",
       "      <td>0.707016</td>\n",
       "    </tr>\n",
       "    <tr>\n",
       "      <th>...</th>\n",
       "      <td>...</td>\n",
       "      <td>...</td>\n",
       "      <td>...</td>\n",
       "      <td>...</td>\n",
       "      <td>...</td>\n",
       "      <td>...</td>\n",
       "      <td>...</td>\n",
       "      <td>...</td>\n",
       "      <td>...</td>\n",
       "      <td>...</td>\n",
       "      <td>...</td>\n",
       "      <td>...</td>\n",
       "      <td>...</td>\n",
       "      <td>...</td>\n",
       "      <td>...</td>\n",
       "      <td>...</td>\n",
       "      <td>...</td>\n",
       "      <td>...</td>\n",
       "      <td>...</td>\n",
       "      <td>...</td>\n",
       "      <td>...</td>\n",
       "    </tr>\n",
       "    <tr>\n",
       "      <th>690802</th>\n",
       "      <td>1034758</td>\n",
       "      <td>1126666.0</td>\n",
       "      <td>Project Summary/AbstractThe pathophysiology of...</td>\n",
       "      <td>2019</td>\n",
       "      <td>1</td>\n",
       "      <td>1</td>\n",
       "      <td>2836</td>\n",
       "      <td>['pathophysiology', 'schizophrenia', 'advance'...</td>\n",
       "      <td>Adolescence; Adult; Adult Children; Affect; A...</td>\n",
       "      <td>GUT DYSBIOSIS AND 5-HT2A DYSREGULATION IN A PR...</td>\n",
       "      <td>...</td>\n",
       "      <td>False</td>\n",
       "      <td>False</td>\n",
       "      <td>[0.33123610019683836, 0.3012551009654999, 0.24...</td>\n",
       "      <td>0.328588</td>\n",
       "      <td>9</td>\n",
       "      <td>0.228547</td>\n",
       "      <td>0.453647</td>\n",
       "      <td>0.329292</td>\n",
       "      <td>0.328588</td>\n",
       "      <td>0.231218</td>\n",
       "    </tr>\n",
       "    <tr>\n",
       "      <th>690803</th>\n",
       "      <td>1074034</td>\n",
       "      <td>1109788.0</td>\n",
       "      <td>PROJECT SUMMARY:Alzheimer’s Disease (AD) and A...</td>\n",
       "      <td>2019</td>\n",
       "      <td>1</td>\n",
       "      <td>1</td>\n",
       "      <td>2899</td>\n",
       "      <td>['alzheimer', 'ad', 'amyotrophic_lateral_scler...</td>\n",
       "      <td>abeta deposition; Acetylgalactosamine; Affect...</td>\n",
       "      <td>TISSUE-SPECIFIC MODULATION OF APOLIPOPROTEIN E...</td>\n",
       "      <td>...</td>\n",
       "      <td>False</td>\n",
       "      <td>False</td>\n",
       "      <td>[0.361808118224144, 0.26558108180761336, 0.354...</td>\n",
       "      <td>0.312813</td>\n",
       "      <td>17</td>\n",
       "      <td>0.164942</td>\n",
       "      <td>0.380714</td>\n",
       "      <td>0.329647</td>\n",
       "      <td>0.312813</td>\n",
       "      <td>-0.508787</td>\n",
       "    </tr>\n",
       "    <tr>\n",
       "      <th>690804</th>\n",
       "      <td>1029450</td>\n",
       "      <td>1038442.0</td>\n",
       "      <td>Project SummaryThe highest rates of mortality,...</td>\n",
       "      <td>2018</td>\n",
       "      <td>1</td>\n",
       "      <td>1</td>\n",
       "      <td>2186</td>\n",
       "      <td>['highest', 'mortality', 'acute', 'care', 'enc...</td>\n",
       "      <td>Acute; Address; Adherence; Adolescent; Adoles...</td>\n",
       "      <td>THE FEASIBILITY OF A MEDICAL STUDENT MENTORING...</td>\n",
       "      <td>...</td>\n",
       "      <td>False</td>\n",
       "      <td>False</td>\n",
       "      <td>[0.22292933315038682, 0.30795369744300843, 0.3...</td>\n",
       "      <td>0.318411</td>\n",
       "      <td>10</td>\n",
       "      <td>0.131873</td>\n",
       "      <td>0.354802</td>\n",
       "      <td>0.326085</td>\n",
       "      <td>0.318411</td>\n",
       "      <td>-1.649561</td>\n",
       "    </tr>\n",
       "    <tr>\n",
       "      <th>690805</th>\n",
       "      <td>1074409</td>\n",
       "      <td>1154490.0</td>\n",
       "      <td>PROJECT SUMMARY: Treatment paradigms for kidne...</td>\n",
       "      <td>2019</td>\n",
       "      <td>1</td>\n",
       "      <td>1</td>\n",
       "      <td>3056</td>\n",
       "      <td>['paradigm', 'kidney', 'largely', 'stagnant', ...</td>\n",
       "      <td>3-Dimensional; Acute; Acute Renal Failure wit...</td>\n",
       "      <td>STRATEGIES IN RENAL NANOMEDICINE TO IMPACT TRE...</td>\n",
       "      <td>...</td>\n",
       "      <td>False</td>\n",
       "      <td>False</td>\n",
       "      <td>[0.31384116411209106, 0.29013317823410034, 0.2...</td>\n",
       "      <td>0.313640</td>\n",
       "      <td>13</td>\n",
       "      <td>0.204967</td>\n",
       "      <td>0.408158</td>\n",
       "      <td>0.311917</td>\n",
       "      <td>0.313640</td>\n",
       "      <td>-0.095242</td>\n",
       "    </tr>\n",
       "    <tr>\n",
       "      <th>690806</th>\n",
       "      <td>1007201</td>\n",
       "      <td>1009631.0</td>\n",
       "      <td>The division of Intramural Population Health R...</td>\n",
       "      <td>2018</td>\n",
       "      <td>1</td>\n",
       "      <td>1</td>\n",
       "      <td>2001</td>\n",
       "      <td>['division', 'intramural', 'population', 'heal...</td>\n",
       "      <td>Adipose tissue; adolescent health; Allergens;...</td>\n",
       "      <td>BIOMEDICAL ASSAY LABORATORY FOR THE DIVISION O...</td>\n",
       "      <td>...</td>\n",
       "      <td>False</td>\n",
       "      <td>False</td>\n",
       "      <td>[0.32268806397914884, 0.3843268483877182, 0.19...</td>\n",
       "      <td>0.254594</td>\n",
       "      <td>7</td>\n",
       "      <td>0.192205</td>\n",
       "      <td>0.384327</td>\n",
       "      <td>0.211829</td>\n",
       "      <td>0.254594</td>\n",
       "      <td>0.726155</td>\n",
       "    </tr>\n",
       "  </tbody>\n",
       "</table>\n",
       "<p>690807 rows × 76 columns</p>\n",
       "</div>"
      ],
      "text/plain": [
       "        original index  PROJECT_ID_x  \\\n",
       "0                17608      152242.0   \n",
       "1               111864      190316.0   \n",
       "2                22052      154213.0   \n",
       "3                35004      159362.0   \n",
       "4               371628      594482.0   \n",
       "...                ...           ...   \n",
       "690802         1034758     1126666.0   \n",
       "690803         1074034     1109788.0   \n",
       "690804         1029450     1038442.0   \n",
       "690805         1074409     1154490.0   \n",
       "690806         1007201     1009631.0   \n",
       "\n",
       "                                               ABSTRACT_x  FY_x  ORG_COUNT_x  \\\n",
       "0       The multiprotein complex y-secretase proteolyt...  2008            1   \n",
       "1       DESCRIPTION (provided by applicant):   The Kis...  2008            1   \n",
       "2       DESCRIPTION (provided by applicant): The objec...  2008            1   \n",
       "3       Obesity is the cause of many adverse pregnancy...  2008            1   \n",
       "4       Local potato advisory groups have expressed in...  2010            1   \n",
       "...                                                   ...   ...          ...   \n",
       "690802  Project Summary/AbstractThe pathophysiology of...  2019            1   \n",
       "690803  PROJECT SUMMARY:Alzheimer’s Disease (AD) and A...  2019            1   \n",
       "690804  Project SummaryThe highest rates of mortality,...  2018            1   \n",
       "690805  PROJECT SUMMARY: Treatment paradigms for kidne...  2019            1   \n",
       "690806  The division of Intramural Population Health R...  2018            1   \n",
       "\n",
       "        PI_COUNT_x  nchar_x  \\\n",
       "0                1     1402   \n",
       "1                1     2553   \n",
       "2                1     1414   \n",
       "3                1     1545   \n",
       "4                1      271   \n",
       "...            ...      ...   \n",
       "690802           1     2836   \n",
       "690803           1     2899   \n",
       "690804           1     2186   \n",
       "690805           1     3056   \n",
       "690806           1     2001   \n",
       "\n",
       "                                   final_frqwds_removed_x  \\\n",
       "0       ['multiprotein', 'y_secretase', 'proteolytical...   \n",
       "1       ['kissl', 'gene', 'encode', 'peptide', 'kisspe...   \n",
       "2       ['biophysical', 'basis', 'thermodynamics_kinet...   \n",
       "3       ['obesity', 'adverse_pregnancyoutcome', 'great...   \n",
       "4       ['local', 'potato', 'advisory', 'express', 'in...   \n",
       "...                                                   ...   \n",
       "690802  ['pathophysiology', 'schizophrenia', 'advance'...   \n",
       "690803  ['alzheimer', 'ad', 'amyotrophic_lateral_scler...   \n",
       "690804  ['highest', 'mortality', 'acute', 'care', 'enc...   \n",
       "690805  ['paradigm', 'kidney', 'largely', 'stagnant', ...   \n",
       "690806  ['division', 'intramural', 'population', 'heal...   \n",
       "\n",
       "                                          PROJECT_TERMS_x  \\\n",
       "0        Active Sites; Affect; Alzheimer's Disease; Am...   \n",
       "1        Affect; Animal Model; Axon; Behavior; Behavio...   \n",
       "2        Agreement; Antibodies; base; Binding; Biochem...   \n",
       "3        African; Analysis of Variance; Asians; Birth;...   \n",
       "4        cost; Health; interest; Manure; Parasitic nem...   \n",
       "...                                                   ...   \n",
       "690802   Adolescence; Adult; Adult Children; Affect; A...   \n",
       "690803   abeta deposition; Acetylgalactosamine; Affect...   \n",
       "690804   Acute; Address; Adherence; Adolescent; Adoles...   \n",
       "690805   3-Dimensional; Acute; Acute Renal Failure wit...   \n",
       "690806   Adipose tissue; adolescent health; Allergens;...   \n",
       "\n",
       "                                          PROJECT_TITLE_x  ... IS_AI_2  IS_AI  \\\n",
       "0                   STRUCTURE OF SIGNAL PEPTIDE PEPTIDASE  ...   False  False   \n",
       "1       ROLE OF KISS1 NEURONS IN THE SEASONAL AND CIRC...  ...   False  False   \n",
       "2       CARBONIC ANHYDRASE AS A MODEL TO UNDERSTAND DI...  ...   False  False   \n",
       "3        OBESITY ON VAGAL TONE AND HBA1C DURING PREGNANCY  ...   False  False   \n",
       "4       PLANT-PARASITIC NEMATODE MANAGEMENT AS A COMPO...  ...   False  False   \n",
       "...                                                   ...  ...     ...    ...   \n",
       "690802  GUT DYSBIOSIS AND 5-HT2A DYSREGULATION IN A PR...  ...   False  False   \n",
       "690803  TISSUE-SPECIFIC MODULATION OF APOLIPOPROTEIN E...  ...   False  False   \n",
       "690804  THE FEASIBILITY OF A MEDICAL STUDENT MENTORING...  ...   False  False   \n",
       "690805  STRATEGIES IN RENAL NANOMEDICINE TO IMPACT TRE...  ...   False  False   \n",
       "690806  BIOMEDICAL ASSAY LABORATORY FOR THE DIVISION O...  ...   False  False   \n",
       "\n",
       "                                     sentence_score_float abstract_score  \\\n",
       "0       [0.24746138006448745, 0.21845135390758513, 0.1...       0.263356   \n",
       "1       [0.1978494793176651, 0.1886032670736313, 0.209...       0.246339   \n",
       "2       [0.3822216421365738, 0.3518402636051178, 0.291...       0.338063   \n",
       "3       [0.22951880991458892, 0.22275955677032472, 0.2...       0.262953   \n",
       "4       [0.3108045756816864, 0.23935555219650267, 0.23...       0.263024   \n",
       "...                                                   ...            ...   \n",
       "690802  [0.33123610019683836, 0.3012551009654999, 0.24...       0.328588   \n",
       "690803  [0.361808118224144, 0.26558108180761336, 0.354...       0.312813   \n",
       "690804  [0.22292933315038682, 0.30795369744300843, 0.3...       0.318411   \n",
       "690805  [0.31384116411209106, 0.29013317823410034, 0.2...       0.313640   \n",
       "690806  [0.32268806397914884, 0.3843268483877182, 0.19...       0.254594   \n",
       "\n",
       "       num_sentences range_sentence_score max_sentence_score  \\\n",
       "0                 10             0.130378           0.324700   \n",
       "1                 13             0.126995           0.315598   \n",
       "2                  9             0.160513           0.386953   \n",
       "3                  8             0.170099           0.372822   \n",
       "4                  3             0.071892           0.310805   \n",
       "...              ...                  ...                ...   \n",
       "690802             9             0.228547           0.453647   \n",
       "690803            17             0.164942           0.380714   \n",
       "690804            10             0.131873           0.354802   \n",
       "690805            13             0.204967           0.408158   \n",
       "690806             7             0.192205           0.384327   \n",
       "\n",
       "       median_sentence_score mean_abstract_score skewness_sentence_score  \n",
       "0                   0.259478            0.263356               -0.054603  \n",
       "1                   0.239884            0.246339                0.187634  \n",
       "2                   0.351840            0.338063               -0.961812  \n",
       "3                   0.253833            0.262953                0.995367  \n",
       "4                   0.239356            0.263024                0.707016  \n",
       "...                      ...                 ...                     ...  \n",
       "690802              0.329292            0.328588                0.231218  \n",
       "690803              0.329647            0.312813               -0.508787  \n",
       "690804              0.326085            0.318411               -1.649561  \n",
       "690805              0.311917            0.313640               -0.095242  \n",
       "690806              0.211829            0.254594                0.726155  \n",
       "\n",
       "[690807 rows x 76 columns]"
      ]
     },
     "execution_count": 3,
     "metadata": {},
     "output_type": "execute_result"
    }
   ],
   "source": [
    "abstracts_all"
   ]
  },
  {
   "cell_type": "markdown",
   "metadata": {},
   "source": [
    "## Distribution of number of sentences per abstract"
   ]
  },
  {
   "cell_type": "code",
   "execution_count": 17,
   "metadata": {},
   "outputs": [
    {
     "name": "stdout",
     "output_type": "stream",
     "text": [
      "count    690807.000000\n",
      "mean         13.033040\n",
      "std           6.867664\n",
      "min           1.000000\n",
      "25%           9.000000\n",
      "50%          12.000000\n",
      "75%          16.000000\n",
      "max         318.000000\n",
      "Name: num_sentences, dtype: float64\n"
     ]
    },
    {
     "data": {
      "image/png": "[encoded data removed]",
      "text/plain": [
       "<Figure size 432x288 with 1 Axes>"
      ]
     },
     "metadata": {
      "needs_background": "light"
     },
     "output_type": "display_data"
    }
   ],
   "source": [
    "hist = abstracts_all.num_sentences.hist(bins=30)\n",
    "print(abstracts_all.num_sentences.describe())"
   ]
  },
  {
   "cell_type": "code",
   "execution_count": 31,
   "metadata": {},
   "outputs": [
    {
     "name": "stdout",
     "output_type": "stream",
     "text": [
      "count    690807.000000\n",
      "mean          0.100119\n",
      "std           0.582395\n",
      "min          -2.869451\n",
      "25%          -0.266175\n",
      "50%           0.079460\n",
      "75%           0.465173\n",
      "max           3.357550\n",
      "Name: skewness_sentence_score, dtype: float64\n"
     ]
    },
    {
     "data": {
      "image/png": "[encoded data removed]",
      "text/plain": [
       "<Figure size 432x288 with 1 Axes>"
      ]
     },
     "metadata": {
      "needs_background": "light"
     },
     "output_type": "display_data"
    }
   ],
   "source": [
    "## Distribution of sentences skewness\n",
    "hist = abstracts_all.skewness_sentence_score.hist(bins=30)\n",
    "print(abstracts_all.skewness_sentence_score.describe())"
   ]
  },
  {
   "cell_type": "markdown",
   "metadata": {},
   "source": [
    "## Abstract score distribution"
   ]
  },
  {
   "cell_type": "code",
   "execution_count": 78,
   "metadata": {},
   "outputs": [
    {
     "data": {
      "image/png": "[encoded data removed]",
      "text/plain": [
       "<Figure size 1080x576 with 1 Axes>"
      ]
     },
     "metadata": {
      "needs_background": "light"
     },
     "output_type": "display_data"
    },
    {
     "name": "stdout",
     "output_type": "stream",
     "text": [
      "count    690807.000000\n",
      "mean          0.302218\n",
      "std           0.048859\n",
      "min           0.081673\n",
      "25%           0.266460\n",
      "50%           0.298573\n",
      "75%           0.334063\n",
      "max           0.576933\n",
      "Name: mean_abstract_score, dtype: float64\n"
     ]
    }
   ],
   "source": [
    "## Distribution of sentences average\n",
    "plt.figure(figsize=[15,8])\n",
    "hist = abstracts_all.mean_abstract_score.hist(bins=30)\n",
    "hist.axvline(x=np.mean(abstracts_all.mean_abstract_score)+2*np.std(abstracts_all.mean_abstract_score), ls = \"-\", color='#F18015', alpha=5)\n",
    "plt.xlabel('Abstract Cosine-similarity Score',fontsize=15)\n",
    "plt.ylabel('Frequency',fontsize=15)\n",
    "plt.xticks(fontsize=15)\n",
    "plt.yticks(fontsize=15)\n",
    "plt.title('Distribution of Abstract Cosine Similarity Score' ,fontsize=20)\n",
    "plt.show()\n",
    "\n",
    "print(abstracts_all.mean_abstract_score.describe())"
   ]
  },
  {
   "cell_type": "markdown",
   "metadata": {},
   "source": [
    "### All abstract: mean sentence score vs max sentence score"
   ]
  },
  {
   "cell_type": "code",
   "execution_count": 21,
   "metadata": {},
   "outputs": [
    {
     "name": "stdout",
     "output_type": "stream",
     "text": [
      "count    690807.000000\n",
      "mean          0.302218\n",
      "std           0.048859\n",
      "min           0.081673\n",
      "25%           0.266460\n",
      "50%           0.298573\n",
      "75%           0.334063\n",
      "max           0.576933\n",
      "Name: mean_abstract_score, dtype: float64\n",
      "count    690807.000000\n",
      "mean          0.390864\n",
      "std           0.055314\n",
      "min           0.081673\n",
      "25%           0.354213\n",
      "50%           0.392803\n",
      "75%           0.428260\n",
      "max           0.718298\n",
      "Name: max_sentence_score, dtype: float64\n"
     ]
    },
    {
     "data": {
      "image/png": "[encoded data removed]",
      "text/plain": [
       "<Figure size 432x288 with 2 Axes>"
      ]
     },
     "metadata": {
      "needs_background": "light"
     },
     "output_type": "display_data"
    }
   ],
   "source": [
    "#Distribution of abstract average score\n",
    "fig, axes = plt.subplots(1, 2)\n",
    "abstracts_all.mean_abstract_score.hist(bins=80,ax=axes[0])\n",
    "abstracts_all.max_sentence_score.hist(bins=80, ax=axes[1])\n",
    "\n",
    "\n",
    "print(abstracts_all.mean_abstract_score.describe())\n",
    "print(abstracts_all.max_sentence_score.describe())"
   ]
  },
  {
   "cell_type": "markdown",
   "metadata": {},
   "source": [
    "### Comparing the mean embedding score between AI and Not AI abstracts"
   ]
  },
  {
   "cell_type": "code",
   "execution_count": 22,
   "metadata": {},
   "outputs": [
    {
     "name": "stdout",
     "output_type": "stream",
     "text": [
      "count    685060.000000\n",
      "mean          0.301614\n",
      "std           0.048374\n",
      "min           0.081673\n",
      "25%           0.266211\n",
      "50%           0.298111\n",
      "75%           0.333341\n",
      "max           0.551867\n",
      "Name: mean_abstract_score, dtype: float64\n",
      "count    5747.000000\n",
      "mean        0.374206\n",
      "std         0.052710\n",
      "min         0.208540\n",
      "25%         0.338525\n",
      "50%         0.375299\n",
      "75%         0.411250\n",
      "max         0.576933\n",
      "Name: mean_abstract_score, dtype: float64\n"
     ]
    },
    {
     "data": {
      "image/png": "[encoded data removed]",
      "text/plain": [
       "<Figure size 432x288 with 2 Axes>"
      ]
     },
     "metadata": {
      "needs_background": "light"
     },
     "output_type": "display_data"
    }
   ],
   "source": [
    "#Distribution of abstract average score\n",
    "abstracts_not_ai = abstracts_all[abstracts_all[\"IS_AI\"] == False]\n",
    "abstracts_ai = abstracts_all[abstracts_all[\"IS_AI\"] == True]\n",
    "\n",
    "fig, axes = plt.subplots(1, 2)\n",
    "abstracts_not_ai.abstract_score.hist(bins=80,ax=axes[0])\n",
    "abstracts_ai.abstract_score.hist(bins=20, ax=axes[1])\n",
    "\n",
    "\n",
    "print(abstracts_not_ai.mean_abstract_score.describe())\n",
    "print(abstracts_ai.mean_abstract_score.describe())"
   ]
  },
  {
   "cell_type": "code",
   "execution_count": 119,
   "metadata": {},
   "outputs": [
    {
     "data": {
      "text/plain": [
       "Ttest_indResult(statistic=112.82893067496268, pvalue=0.0)"
      ]
     },
     "metadata": {},
     "output_type": "display_data"
    }
   ],
   "source": [
    "abstracts_not_ai = abstracts_all.query('IS_AI == False')['abstract_score']\n",
    "abstracts_ai = abstracts_all.query('IS_AI == True')['abstract_score']\n",
    "\n",
    "res = stats.ttest_ind(abstracts_ai, abstracts_not_ai, equal_var=True)\n",
    "\n",
    "display(res)"
   ]
  },
  {
   "cell_type": "markdown",
   "metadata": {},
   "source": [
    "### Comparing the median embedding score between AI and Not AI abstracts\n"
   ]
  },
  {
   "cell_type": "code",
   "execution_count": 24,
   "metadata": {},
   "outputs": [
    {
     "name": "stdout",
     "output_type": "stream",
     "text": [
      "count    685060.000000\n",
      "mean          0.300391\n",
      "std           0.051816\n",
      "min           0.081673\n",
      "25%           0.262005\n",
      "50%           0.297113\n",
      "75%           0.334778\n",
      "max           0.585794\n",
      "Name: median_sentence_score, dtype: float64\n",
      "count    5747.000000\n",
      "mean        0.375073\n",
      "std         0.055289\n",
      "min         0.200108\n",
      "25%         0.337349\n",
      "50%         0.376024\n",
      "75%         0.413810\n",
      "max         0.585170\n",
      "Name: median_sentence_score, dtype: float64\n"
     ]
    },
    {
     "data": {
      "image/png": "[encoded data removed]",
      "text/plain": [
       "<Figure size 432x288 with 2 Axes>"
      ]
     },
     "metadata": {
      "needs_background": "light"
     },
     "output_type": "display_data"
    }
   ],
   "source": [
    "#Distribution of abstract average score\n",
    "abstracts_not_ai = abstracts_all[abstracts_all[\"IS_AI\"] == False]\n",
    "abstracts_ai = abstracts_all[abstracts_all[\"IS_AI\"] == True]\n",
    "\n",
    "fig, axes = plt.subplots(1, 2)\n",
    "abstracts_not_ai.median_sentence_score.hist(bins=30,ax=axes[0])\n",
    "abstracts_ai.median_sentence_score.hist(bins=20, ax=axes[1])\n",
    "\n",
    "\n",
    "print(abstracts_not_ai.median_sentence_score.describe())\n",
    "print(abstracts_ai.median_sentence_score.describe())"
   ]
  },
  {
   "cell_type": "markdown",
   "metadata": {},
   "source": [
    "### Comparing the max embedding score between AI and Not AI abstracts"
   ]
  },
  {
   "cell_type": "code",
   "execution_count": 23,
   "metadata": {},
   "outputs": [
    {
     "name": "stdout",
     "output_type": "stream",
     "text": [
      "count    685060.000000\n",
      "mean          0.390211\n",
      "std           0.054847\n",
      "min           0.081673\n",
      "25%           0.353858\n",
      "50%           0.392310\n",
      "75%           0.427536\n",
      "max           0.718298\n",
      "Name: max_sentence_score, dtype: float64\n",
      "count    5747.000000\n",
      "mean        0.468651\n",
      "std         0.055617\n",
      "min         0.257805\n",
      "25%         0.431931\n",
      "50%         0.468303\n",
      "75%         0.506304\n",
      "max         0.667100\n",
      "Name: max_sentence_score, dtype: float64\n"
     ]
    },
    {
     "data": {
      "image/png": "[encoded data removed]",
      "text/plain": [
       "<Figure size 432x288 with 2 Axes>"
      ]
     },
     "metadata": {
      "needs_background": "light"
     },
     "output_type": "display_data"
    }
   ],
   "source": [
    "#Distribution of abstract average score\n",
    "abstracts_not_ai = abstracts_all[abstracts_all[\"IS_AI\"] == False]\n",
    "abstracts_ai = abstracts_all[abstracts_all[\"IS_AI\"] == True]\n",
    "\n",
    "fig, axes = plt.subplots(1, 2)\n",
    "abstracts_not_ai.max_sentence_score.hist(bins=30,ax=axes[0])\n",
    "abstracts_ai.max_sentence_score.hist(bins=20, ax=axes[1])\n",
    "\n",
    "\n",
    "print(abstracts_not_ai.max_sentence_score.describe())\n",
    "print(abstracts_ai.max_sentence_score.describe())"
   ]
  },
  {
   "cell_type": "markdown",
   "metadata": {},
   "source": [
    "### Distribution of the difference between max and min sentence score per abstract "
   ]
  },
  {
   "cell_type": "code",
   "execution_count": 81,
   "metadata": {},
   "outputs": [
    {
     "name": "stdout",
     "output_type": "stream",
     "text": [
      "count    690773.000000\n",
      "mean          0.175742\n",
      "std           0.062373\n",
      "min           0.000000\n",
      "25%           0.136448\n",
      "50%           0.175998\n",
      "75%           0.217013\n",
      "max           0.506595\n",
      "Name: diff_sentence_score, dtype: float64\n"
     ]
    },
    {
     "data": {
      "image/png": "[encoded data removed]",
      "text/plain": [
       "<Figure size 432x288 with 1 Axes>"
      ]
     },
     "metadata": {
      "needs_background": "light"
     },
     "output_type": "display_data"
    }
   ],
   "source": [
    "hist = abstracts_all.range_sentence_score.hist(bins=100)\n",
    "print(abstracts_all.range_sentence_score.describe())"
   ]
  },
  {
   "cell_type": "markdown",
   "metadata": {},
   "source": [
    "# Choose a cutoff"
   ]
  },
  {
   "cell_type": "code",
   "execution_count": 16,
   "metadata": {},
   "outputs": [
    {
     "data": {
      "text/plain": [
       "0.39798149664409616"
      ]
     },
     "execution_count": 16,
     "metadata": {},
     "output_type": "execute_result"
    }
   ],
   "source": [
    "sd = abstracts_all.mean_abstract_score.std()\n",
    "mean = abstracts_all.mean_abstract_score.mean()"
   ]
  },
  {
   "cell_type": "code",
   "execution_count": 17,
   "metadata": {},
   "outputs": [
    {
     "data": {
      "text/plain": [
       "0.42436523250810476"
      ]
     },
     "execution_count": 17,
     "metadata": {},
     "output_type": "execute_result"
    }
   ],
   "source": [
    "cutoff = mean + 2.5*sd\n",
    "cutoff"
   ]
  },
  {
   "cell_type": "code",
   "execution_count": 18,
   "metadata": {},
   "outputs": [],
   "source": [
    "abstracts_ai = abstracts_all[(abstracts_all[\"mean_abstract_score\"] > cutoff)]\n",
    "abstracts_ai = abstracts_ai[[\"PROJECT_ID_x\", \"ABSTRACT_x\", \"final_frqwds_removed_x\", \"PROJECT_TITLE_x\", \"mean_abstract_score\"]]"
   ]
  },
  {
   "cell_type": "code",
   "execution_count": 19,
   "metadata": {},
   "outputs": [],
   "source": [
    "abstracts_ai = abstracts_ai.rename(columns={\n",
    "                       \"PROJECT_ID_x\":\"PROJECT_ID\",\n",
    "                       \"ABSTRACT_x\":\"ABSTRACT\",\n",
    "                        \"final_frqwds_removed_x\": \"final_frqwds_removed\",\n",
    "                        \"PROJECT_TITLE_x\": \"PROJECT_TITLE\",\n",
    "                        \"mean_abstract_score\": \"cosine_similarity_score\"})\n",
    "abstracts_ai[\"IS_AI_BERT\"] = True"
   ]
  },
  {
   "cell_type": "code",
   "execution_count": 20,
   "metadata": {},
   "outputs": [
    {
     "name": "stdout",
     "output_type": "stream",
     "text": [
      "<class 'pandas.core.frame.DataFrame'>\n",
      "Int64Index: 7658 entries, 130 to 690682\n",
      "Data columns (total 6 columns):\n",
      " #   Column                   Non-Null Count  Dtype  \n",
      "---  ------                   --------------  -----  \n",
      " 0   PROJECT_ID               7658 non-null   int64  \n",
      " 1   ABSTRACT                 7658 non-null   object \n",
      " 2   final_frqwds_removed     7658 non-null   object \n",
      " 3   PROJECT_TITLE            7658 non-null   object \n",
      " 4   cosine_similarity_score  7658 non-null   float64\n",
      " 5   IS_AI_BERT               7658 non-null   bool   \n",
      "dtypes: bool(1), float64(1), int64(1), object(3)\n",
      "memory usage: 366.4+ KB\n"
     ]
    }
   ],
   "source": [
    "abstracts_ai[\"PROJECT_ID\"] = abstracts_ai[\"PROJECT_ID\"].astype(int)\n",
    "abstracts_ai.info()"
   ]
  },
  {
   "cell_type": "code",
   "execution_count": 21,
   "metadata": {},
   "outputs": [
    {
     "name": "stdout",
     "output_type": "stream",
     "text": [
      "Results:  1.1085585409528276 (N= 7658 )% of the projects are classified as AI related.\n"
     ]
    }
   ],
   "source": [
    "print(\"Results: \",len(abstracts_ai)/len(abstracts_all)*100,\"(N=\",len(abstracts_ai),\")% of the projects are classified as AI related.\")"
   ]
  },
  {
   "cell_type": "code",
   "execution_count": 52,
   "metadata": {},
   "outputs": [],
   "source": [
    "abstracts_ai.to_csv(r'/home/zz3hs/git/dspg21RnD/data/dspg21RnD/bert_ai_abstracts.csv', index = False)  "
   ]
  },
  {
   "cell_type": "code",
   "execution_count": null,
   "metadata": {},
   "outputs": [],
   "source": []
  }
 ],
 "metadata": {
  "kernelspec": {
   "display_name": "Python 3.8",
   "language": "python",
   "name": "python-3.8"
  },
  "language_info": {
   "codemirror_mode": {
    "name": "ipython",
    "version": 3
   },
   "file_extension": ".py",
   "mimetype": "text/x-python",
   "name": "python",
   "nbconvert_exporter": "python",
   "pygments_lexer": "ipython3",
   "version": "3.8.8"
  }
 },
 "nbformat": 4,
 "nbformat_minor": 4
}
