{
 "cells": [
  {
   "cell_type": "markdown",
   "metadata": {},
   "source": [
    "# Implement Bert"
   ]
  },
  {
   "cell_type": "markdown",
   "metadata": {},
   "source": [
    "Author: Crystal"
   ]
  },
  {
   "cell_type": "markdown",
   "metadata": {},
   "source": [
    "Currently rate is 40,000 abstracts per hour. "
   ]
  },
  {
   "cell_type": "code",
   "execution_count": 1,
   "metadata": {},
   "outputs": [],
   "source": [
    "#bert\n",
    "from sentence_transformers import SentenceTransformer, util\n",
    "import torch\n",
    "\n",
    "import pandas as pd\n",
    "\n",
    "import re\n",
    "\n",
    "import nltk\n",
    "#nltk.download(\"punkt\")\n",
    "\n",
    "from nltk import tokenize\n",
    "\n",
    "\n",
    "import statistics #calculate mean and others"
   ]
  },
  {
   "cell_type": "code",
   "execution_count": 21,
   "metadata": {},
   "outputs": [
    {
     "data": {
      "text/plain": [
       "690814"
      ]
     },
     "execution_count": 21,
     "metadata": {},
     "output_type": "execute_result"
    }
   ],
   "source": [
    "embedder = SentenceTransformer('paraphrase-MiniLM-L6-v2') # this model provides quick model with high quality\n",
    "#embedder = SentenceTransformer('paraphrase-mpnet-base-v2') # this model provides the best quality\n",
    "\n",
    "abstracts = pd.read_pickle(\"/home/zz3hs/git/dspg21RnD/data/dspg21RnD/smaller-final-dataset.pkl\")\n",
    "len(abstracts)"
   ]
  },
  {
   "cell_type": "code",
   "execution_count": 22,
   "metadata": {},
   "outputs": [],
   "source": [
    "#abstracts = abstracts.iloc[0:40000] #1.a\n",
    "#abstracts = abstracts.iloc[40001:200001] #1.b\n",
    "#abstracts = abstracts.iloc[80001:140000] #1.c\n",
    "#abstracts = abstracts.iloc[140001:200000] #1.d\n",
    "\n",
    "\n",
    "#abstracts = abstracts.iloc[200001:300000] #3\n",
    "#abstracts = abstracts.iloc[300001:400000] #4\n",
    "#abstracts = abstracts.iloc[400001:530000] #5\n",
    "\n",
    "#abstracts = abstracts.iloc[530001:690814] #6"
   ]
  },
  {
   "cell_type": "markdown",
   "metadata": {},
   "source": [
    "# Functions"
   ]
  },
  {
   "cell_type": "code",
   "execution_count": 23,
   "metadata": {},
   "outputs": [],
   "source": [
    "def get_corpus_embeddings(dir):\n",
    "    with open(dir) as f:\n",
    "        ai_text = f.read()\n",
    "    ai_corpus = tokenize.sent_tokenize(ai_text) #sentence tokenization\n",
    "    ai_embeddings = embedder.encode(ai_corpus, show_progress_bar=True) # embeddings\n",
    "    return ai_embeddings\n",
    "\n",
    "\n",
    "# k: number of similar sentences from AI corpus\n",
    "# abstract: abstract from FEDERAL RePORTER\n",
    "# print_result: if TRUE, print out the similar sentenses from AI corpus to each sentence in the abstract\n",
    "def get_score(k, abstract, print_result = False):\n",
    "    queries = tokenize.sent_tokenize(abstract) \n",
    "\n",
    "    # init a result list for scores\n",
    "    result = []\n",
    "    \n",
    "    # Find the closest k sentences of the AI corpus for each query sentence (ML) based on cosine similarity\n",
    "    top_k = min(k, len(ai_embeddings))\n",
    "    \n",
    "    for query in queries: #compare each sentence in the abstract to the ai corpus\n",
    "        query_embedding = embedder.encode(query, show_progress_bar=False) \n",
    "        \n",
    "        # We use cosine-similarity and torch.topk to find the highest k scores\n",
    "        cos_scores = util.pytorch_cos_sim(query_embedding, ai_embeddings)[0]\n",
    "        \n",
    "        top_results = torch.topk(cos_scores, k=top_k)   #get the top k scores\n",
    "        result.append(top_results.values.tolist()) #unlist the top result list\n",
    "        if print_result:\n",
    "            print(\"\\n\\n======================\\n\\n\")\n",
    "            print(\"Query:\", query)\n",
    "            print(\"Results:\", top_results)\n",
    "            print(\"\\nTop k=5 most similar sentences in corpus:\")\n",
    "            for score, idx in zip(top_results[0], top_results[1]):\n",
    "                print(ai_corpus[idx], \"(Score: {:.4f})\".format(score))\n",
    "    return result"
   ]
  },
  {
   "cell_type": "code",
   "execution_count": 24,
   "metadata": {},
   "outputs": [
    {
     "name": "stdout",
     "output_type": "stream",
     "text": [
      "Start time for calculating embeddings: 2021-07-14 13:17:19.823037\n"
     ]
    },
    {
     "data": {
      "application/vnd.jupyter.widget-view+json": {
       "model_id": "5028d0f4e33d4ccfb48c2c66d6d9011c",
       "version_major": 2,
       "version_minor": 0
      },
      "text/plain": [
       "Batches:   0%|          | 0/12 [00:00<?, ?it/s]"
      ]
     },
     "metadata": {},
     "output_type": "display_data"
    },
    {
     "name": "stdout",
     "output_type": "stream",
     "text": [
      "Finished calculating  129999 of embedding score at 2021-07-14 16:28:19.929866\n",
      "It took 3:11:00.106829 to run.\n"
     ]
    }
   ],
   "source": [
    "import datetime\n",
    "start_time = datetime.datetime.now()\n",
    "print(\"Start time for calculating embeddings:\", start_time)\n",
    "\n",
    "ai_embeddings = get_corpus_embeddings(\"/home/zz3hs/git/dspg21RnD/data/dspg21RnD/ai_wiki_text.txt\")\n",
    "\n",
    "abstracts = abstracts.assign(score= abstracts[\"ABSTRACT\"].apply(lambda x: get_score(10,x,False)))\n",
    "\n",
    "end_time = datetime.datetime.now()\n",
    "print(\"Finished calculating \", len(abstracts), \"of\", \"embedding score at\", end_time)\n",
    "print(\"It took\", end_time-start_time, \"to run.\")\n"
   ]
  },
  {
   "cell_type": "code",
   "execution_count": 25,
   "metadata": {},
   "outputs": [
    {
     "name": "stdout",
     "output_type": "stream",
     "text": [
      "Start time for calculating average score: 2021-07-14 16:28:20.015391\n",
      "Finished calculating  129999 of average score at 2021-07-14 16:28:58.215902\n",
      "It took 0:00:38.200511 to run.\n"
     ]
    }
   ],
   "source": [
    "start_time = datetime.datetime.now()\n",
    "print(\"Start time for calculating average score:\", start_time)\n",
    "\n",
    "\n",
    "sentence_score= []\n",
    "for abstract in abstracts[\"score\"]:\n",
    "    sentence_score.append([statistics.mean(i) for i in abstract])\n",
    "\n",
    "abstracts[\"sentence_score\"]=sentence_score\n",
    "abstracts\n",
    "\n",
    "end_time = datetime.datetime.now()\n",
    "print(\"Finished calculating \", len(abstracts), \"of\", \"average score at\", end_time)\n",
    "print(\"It took\", end_time-start_time, \"to run.\")"
   ]
  },
  {
   "cell_type": "code",
   "execution_count": 26,
   "metadata": {},
   "outputs": [],
   "source": [
    "abstracts.to_csv(r'/home/zz3hs/git/dspg21RnD/data/dspg21RnD/abstracts_embedding_score_5.csv', index = False)   "
   ]
  },
  {
   "cell_type": "raw",
   "metadata": {},
   "source": [
    "abstract1 = pd.read_csv(\"/home/zz3hs/git/dspg21RnD/data/dspg21RnD/abstracts_embedding_score_1.csv\")\n",
    "abstract2 = pd.read_csv(\"/home/zz3hs/git/dspg21RnD/data/dspg21RnD/abstracts_embedding_score_2.csv\")\n",
    "abstract3 = pd.read_csv(\"/home/zz3hs/git/dspg21RnD/data/dspg21RnD/abstracts_embedding_score_3.csv\")\n",
    "abstract4 = pd.read_csv(\"/home/zz3hs/git/dspg21RnD/data/dspg21RnD/abstracts_embedding_score_4.csv\")\n",
    "frames = [abstract1, abstract2, abstract3, abstract4]\n",
    "\n",
    "abstracts_score = pd.concat(frames)\n",
    "abstracts_score\n",
    "\n",
    "abstracts_score = abstracts_score[[\"index\", \"original index\", \"PROJECT_ID\",\"score\",\"sentence_score\"]]\n",
    "abstracts_score.to_csv(r'/home/zz3hs/git/dspg21RnD/data/dspg21RnD/abstracts_embedding_score_all.csv', index = False)  "
   ]
  }
 ],
 "metadata": {
  "kernelspec": {
   "display_name": "Python [conda env:.conda-crystal_bert]",
   "language": "python",
   "name": "conda-env-.conda-crystal_bert-py"
  },
  "language_info": {
   "codemirror_mode": {
    "name": "ipython",
    "version": 3
   },
   "file_extension": ".py",
   "mimetype": "text/x-python",
   "name": "python",
   "nbconvert_exporter": "python",
   "pygments_lexer": "ipython3",
   "version": "3.8.10"
  }
 },
 "nbformat": 4,
 "nbformat_minor": 4
}
