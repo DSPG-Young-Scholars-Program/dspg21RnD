{
 "cells": [
  {
   "cell_type": "markdown",
   "metadata": {},
   "source": [
    "# Merge all files"
   ]
  },
  {
   "cell_type": "code",
   "execution_count": 11,
   "metadata": {},
   "outputs": [],
   "source": [
    "#pgadmin\n",
    "import os\n",
    "import psycopg2 as pg\n",
    "import pickle\n",
    "\n",
    "import pandas as pd\n",
    "import numpy as np\n",
    "\n",
    "import scipy\n",
    "\n",
    "import datetime"
   ]
  },
  {
   "cell_type": "code",
   "execution_count": 12,
   "metadata": {},
   "outputs": [],
   "source": [
    "abstracts = pd.read_pickle(\"/home/zz3hs/git/dspg21RnD/data/dspg21RnD/smaller-final-dataset.pkl\")"
   ]
  },
  {
   "cell_type": "code",
   "execution_count": 13,
   "metadata": {},
   "outputs": [
    {
     "name": "stdout",
     "output_type": "stream",
     "text": [
      "<class 'pandas.core.frame.DataFrame'>\n",
      "Int64Index: 690814 entries, 0 to 690813\n",
      "Data columns (total 31 columns):\n",
      " #   Column                      Non-Null Count   Dtype  \n",
      "---  ------                      --------------   -----  \n",
      " 0   original index              690814 non-null  int64  \n",
      " 1   PROJECT_ID                  690814 non-null  int64  \n",
      " 2   ABSTRACT                    690814 non-null  object \n",
      " 3   FY                          690814 non-null  object \n",
      " 4   ORG_COUNT                   690814 non-null  int64  \n",
      " 5   PI_COUNT                    690814 non-null  int64  \n",
      " 6   nchar                       690814 non-null  int64  \n",
      " 7   final_frqwds_removed        690814 non-null  object \n",
      " 8   PROJECT_TERMS               677903 non-null  object \n",
      " 9   PROJECT_TITLE               690808 non-null  object \n",
      " 10  DEPARTMENT                  690808 non-null  object \n",
      " 11  AGENCY                      690808 non-null  object \n",
      " 12  IC_CENTER                   520577 non-null  object \n",
      " 13  PROJECT_NUMBER              690808 non-null  object \n",
      " 14  PROJECT_START_DATE          549435 non-null  object \n",
      " 15  PROJECT_END_DATE            562263 non-null  object \n",
      " 16  CONTACT_PI_PROJECT_LEADER   690767 non-null  object \n",
      " 17  OTHER_PIS                   94242 non-null   object \n",
      " 18  CONGRESSIONAL_DISTRICT      627463 non-null  object \n",
      " 19  DUNS_NUMBER                 681453 non-null  object \n",
      " 20  ORGANIZATION_NAME           689435 non-null  object \n",
      " 21  ORGANIZATION_CITY           685572 non-null  object \n",
      " 22  ORGANIZATION_STATE          682115 non-null  object \n",
      " 23  ORGANIZATION_ZIP            645420 non-null  object \n",
      " 24  ORGANIZATION_COUNTRY        685781 non-null  object \n",
      " 25  BUDGET_START_DATE           468714 non-null  object \n",
      " 26  BUDGET_END_DATE             468651 non-null  object \n",
      " 27  CFDA_CODE                   520483 non-null  object \n",
      " 28  FY.y                        690808 non-null  object \n",
      " 29  FY_TOTAL_COST               511947 non-null  float64\n",
      " 30  FY_TOTAL_COST_SUB_PROJECTS  150969 non-null  float64\n",
      "dtypes: float64(2), int64(5), object(24)\n",
      "memory usage: 168.7+ MB\n"
     ]
    }
   ],
   "source": [
    "#abstracts.info()\n",
    "abstracts[\"PROJECT_ID\"] = abstracts[\"PROJECT_ID\"].astype(str).astype(float).astype(int)\n",
    "abstracts.info()"
   ]
  },
  {
   "cell_type": "code",
   "execution_count": 14,
   "metadata": {},
   "outputs": [
    {
     "name": "stdout",
     "output_type": "stream",
     "text": [
      "<class 'pandas.core.frame.DataFrame'>\n",
      "RangeIndex: 7933 entries, 0 to 7932\n",
      "Data columns (total 2 columns):\n",
      " #   Column      Non-Null Count  Dtype  \n",
      "---  ------      --------------  -----  \n",
      " 0   PROJECT_ID  7933 non-null   float64\n",
      " 1   IS_AI_OECD  7933 non-null   bool   \n",
      "dtypes: bool(1), float64(1)\n",
      "memory usage: 69.8 KB\n"
     ]
    }
   ],
   "source": [
    "abstracts_oecd = pd.read_csv(\"/home/zz3hs/git/dspg21RnD/data/dspg21RnD/new_matched_ai_abstracts.csv\")\n",
    "\n",
    "abstracts_oecd = abstracts_oecd.assign(IS_AI = lambda x: x.IS_AI.notnull())\n",
    "abstracts_oecd = abstracts_oecd.rename(columns ={\"IS_AI\": \"IS_AI_OECD\"})\n",
    "abstracts_oecd = abstracts_oecd[[\"PROJECT_ID\", \"IS_AI_OECD\"]]\n",
    "\n",
    "#abstracts_oecd.PROJECT_ID = abstracts_oecd.PROJECT_ID.astype(int)\n",
    "abstracts_oecd.PROJECT_ID.astype(int)\n",
    "\n",
    "abstracts_oecd.info()"
   ]
  },
  {
   "cell_type": "code",
   "execution_count": 15,
   "metadata": {},
   "outputs": [
    {
     "name": "stdout",
     "output_type": "stream",
     "text": [
      "<class 'pandas.core.frame.DataFrame'>\n",
      "RangeIndex: 7658 entries, 0 to 7657\n",
      "Data columns (total 2 columns):\n",
      " #   Column      Non-Null Count  Dtype\n",
      "---  ------      --------------  -----\n",
      " 0   PROJECT_ID  7658 non-null   int64\n",
      " 1   IS_AI_BERT  7658 non-null   bool \n",
      "dtypes: bool(1), int64(1)\n",
      "memory usage: 67.4 KB\n"
     ]
    }
   ],
   "source": [
    "abstracts_bert = pd.read_csv(\"/home/zz3hs/git/dspg21RnD/data/dspg21RnD/bert_ai_abstracts_2.csv\")\n",
    "\n",
    "abstracts_bert = abstracts_bert[[\"PROJECT_ID\", \"IS_AI_BERT\"]]\n",
    "#abstracts_bert.PROJECT_ID = abstracts_bert.PROJECT_ID.astype(int)\n",
    "abstracts_bert.PROJECT_ID.astype(int)\n",
    "\n",
    "abstracts_bert.info()"
   ]
  },
  {
   "cell_type": "code",
   "execution_count": 16,
   "metadata": {},
   "outputs": [],
   "source": [
    "abstracts_ai = pd.merge(abstracts, abstracts_oecd, on = \"PROJECT_ID\", how = \"left\")\n",
    "abstracts_ai= abstracts_ai.merge(abstracts_bert, on = \"PROJECT_ID\", how = \"left\")"
   ]
  },
  {
   "cell_type": "code",
   "execution_count": 17,
   "metadata": {},
   "outputs": [],
   "source": [
    "abstracts_ai = abstracts_ai[(abstracts_ai[\"IS_AI_OECD\"]==True) | (abstracts_ai[\"IS_AI_BERT\"]==True)]\n"
   ]
  },
  {
   "cell_type": "code",
   "execution_count": 18,
   "metadata": {},
   "outputs": [],
   "source": [
    "abstracts_ai_final = abstracts_ai[[\"PROJECT_ID\",\"FY\",\"PROJECT_START_DATE\", \"PROJECT_TITLE\",\"final_frqwds_removed\",\"IS_AI_OECD\", \"IS_AI_BERT\", \"DEPARTMENT\", \"AGENCY\"]]"
   ]
  },
  {
   "cell_type": "code",
   "execution_count": 19,
   "metadata": {},
   "outputs": [],
   "source": [
    "abstracts_ai_final.to_csv(\"/home/zz3hs/git/dspg21RnD/data_shiny/abstracts_shiny.csv\", index = False)"
   ]
  },
  {
   "cell_type": "code",
   "execution_count": null,
   "metadata": {},
   "outputs": [],
   "source": []
  }
 ],
 "metadata": {
  "kernelspec": {
   "display_name": "Python [conda env:.conda-crystal_bert]",
   "language": "python",
   "name": "conda-env-.conda-crystal_bert-py"
  },
  "language_info": {
   "codemirror_mode": {
    "name": "ipython",
    "version": 3
   },
   "file_extension": ".py",
   "mimetype": "text/x-python",
   "name": "python",
   "nbconvert_exporter": "python",
   "pygments_lexer": "ipython3",
   "version": "3.8.10"
  }
 },
 "nbformat": 4,
 "nbformat_minor": 4
}
